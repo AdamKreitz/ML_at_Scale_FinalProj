{
 "cells": [
  {
   "cell_type": "code",
   "execution_count": 0,
   "metadata": {
    "application/vnd.databricks.v1+cell": {
     "cellMetadata": {
      "byteLimit": 2048000,
      "rowLimit": 10000
     },
     "inputWidgets": {},
     "nuid": "328db9f0-c367-4aee-85d2-b6ffff81b39b",
     "showTitle": false,
     "title": ""
    }
   },
   "outputs": [],
   "source": [
    "import pyspark.sql.functions as f\n",
    "from pyspark.sql.types import IntegerType\n",
    "from pyspark.sql.window import Window\n",
    "from datetime import datetime, timedelta\n",
    "import numpy as np\n",
    "from pyspark.sql.functions import isnan, when, count, col\n",
    "from pyspark.sql.functions import mean as _mean, avg, stddev, min as _min, max as _max\n",
    "from pyspark.sql.types import DoubleType, FloatType, IntegerType, LongType, ShortType, DateType, TimestampType\n",
    "from delta.tables import DeltaTable\n",
    "from pyspark.sql import SparkSession\n",
    "import seaborn as sns"
   ]
  },
  {
   "cell_type": "code",
   "execution_count": 0,
   "metadata": {
    "application/vnd.databricks.v1+cell": {
     "cellMetadata": {
      "byteLimit": 2048000,
      "rowLimit": 10000
     },
     "inputWidgets": {},
     "nuid": "253e4642-1d33-48fb-9fee-9470e40ccef8",
     "showTitle": false,
     "title": ""
    }
   },
   "outputs": [
    {
     "output_type": "display_data",
     "data": {
      "text/html": [
       "<style scoped>\n",
       "  .table-result-container {\n",
       "    max-height: 300px;\n",
       "    overflow: auto;\n",
       "  }\n",
       "  table, th, td {\n",
       "    border: 1px solid black;\n",
       "    border-collapse: collapse;\n",
       "  }\n",
       "  th, td {\n",
       "    padding: 5px;\n",
       "  }\n",
       "  th {\n",
       "    text-align: left;\n",
       "  }\n",
       "</style><div class='table-result-container'><table class='table-result'><thead style='background-color: white'><tr><th>path</th><th>name</th><th>size</th><th>modificationTime</th></tr></thead><tbody><tr><td>wasbs://dmcdonald-261-fp-container@dmcdonald.blob.core.windows.net/2015-2017.parquet/</td><td>2015-2017.parquet/</td><td>0</td><td>1690499558000</td></tr><tr><td>wasbs://dmcdonald-261-fp-container@dmcdonald.blob.core.windows.net/20152017/</td><td>20152017/</td><td>0</td><td>1690498711000</td></tr><tr><td>wasbs://dmcdonald-261-fp-container@dmcdonald.blob.core.windows.net/For_Adam_Input_FinalML_10723/</td><td>For_Adam_Input_FinalML_10723/</td><td>0</td><td>1691689220000</td></tr><tr><td>wasbs://dmcdonald-261-fp-container@dmcdonald.blob.core.windows.net/For_Adam_Input_FinalML_val_10723/</td><td>For_Adam_Input_FinalML_val_10723/</td><td>0</td><td>1691689304000</td></tr><tr><td>wasbs://dmcdonald-261-fp-container@dmcdonald.blob.core.windows.net/folds/</td><td>folds/</td><td>0</td><td>1691356833000</td></tr><tr><td>wasbs://dmcdonald-261-fp-container@dmcdonald.blob.core.windows.net/saket_delta_Dataset_l160M/</td><td>saket_delta_Dataset_l160M/</td><td>0</td><td>1690946282000</td></tr><tr><td>wasbs://dmcdonald-261-fp-container@dmcdonald.blob.core.windows.net/saket_dev/</td><td>saket_dev/</td><td>0</td><td>1689739190000</td></tr><tr><td>wasbs://dmcdonald-261-fp-container@dmcdonald.blob.core.windows.net/saket_op_delta_Dataset_Final_dataset_12M/</td><td>saket_op_delta_Dataset_Final_dataset_12M/</td><td>0</td><td>1690874411000</td></tr><tr><td>wasbs://dmcdonald-261-fp-container@dmcdonald.blob.core.windows.net/saket_op_delta_Dataset_l4_dataset_12M/</td><td>saket_op_delta_Dataset_l4_dataset_12M/</td><td>0</td><td>1690793020000</td></tr><tr><td>wasbs://dmcdonald-261-fp-container@dmcdonald.blob.core.windows.net/saket_op_delta_Dataset_l4_dataset_12M_with_FL_SURR_KEY/</td><td>saket_op_delta_Dataset_l4_dataset_12M_with_FL_SURR_KEY/</td><td>0</td><td>1690863136000</td></tr><tr><td>wasbs://dmcdonald-261-fp-container@dmcdonald.blob.core.windows.net/saket_op_delta_Dataset_l5_dataset_12M_with_FL_SURR_KEY/</td><td>saket_op_delta_Dataset_l5_dataset_12M_with_FL_SURR_KEY/</td><td>0</td><td>1690795852000</td></tr><tr><td>wasbs://dmcdonald-261-fp-container@dmcdonald.blob.core.windows.net/saket_op_delta_Dataset_l5_dataset_12M_with_FL_SURR_KEY_1/</td><td>saket_op_delta_Dataset_l5_dataset_12M_with_FL_SURR_KEY_1/</td><td>0</td><td>1690798347000</td></tr><tr><td>wasbs://dmcdonald-261-fp-container@dmcdonald.blob.core.windows.net/saket_op_delta_Dataset_l6_dataset_12M_with_FL_SURR_KEY/</td><td>saket_op_delta_Dataset_l6_dataset_12M_with_FL_SURR_KEY/</td><td>0</td><td>1690868499000</td></tr><tr><td>wasbs://dmcdonald-261-fp-container@dmcdonald.blob.core.windows.net/saket_op_delta_Dataset_l7_dataset_12M_with_FL_SURR_KEY/</td><td>saket_op_delta_Dataset_l7_dataset_12M_with_FL_SURR_KEY/</td><td>0</td><td>1690869201000</td></tr><tr><td>wasbs://dmcdonald-261-fp-container@dmcdonald.blob.core.windows.net/saket_op_delta_Dataset_l8_dataset_12M_with_FL_SURR_KEY/</td><td>saket_op_delta_Dataset_l8_dataset_12M_with_FL_SURR_KEY/</td><td>0</td><td>1690872456000</td></tr><tr><td>wasbs://dmcdonald-261-fp-container@dmcdonald.blob.core.windows.net/saket_output_delta_FinalML_10723_PM/</td><td>saket_output_delta_FinalML_10723_PM/</td><td>0</td><td>1691608725000</td></tr><tr><td>wasbs://dmcdonald-261-fp-container@dmcdonald.blob.core.windows.net/saket_output_delta_FinalML_10723_minimal/</td><td>saket_output_delta_FinalML_10723_minimal/</td><td>0</td><td>1691608974000</td></tr><tr><td>wasbs://dmcdonald-261-fp-container@dmcdonald.blob.core.windows.net/saket_output_delta_FinalML_8723/</td><td>saket_output_delta_FinalML_8723/</td><td>0</td><td>1691460886000</td></tr><tr><td>wasbs://dmcdonald-261-fp-container@dmcdonald.blob.core.windows.net/saket_output_delta_FinalML_8723PM/</td><td>saket_output_delta_FinalML_8723PM/</td><td>0</td><td>1691488976000</td></tr><tr><td>wasbs://dmcdonald-261-fp-container@dmcdonald.blob.core.windows.net/saket_output_delta_FinalML_9723PM/</td><td>saket_output_delta_FinalML_9723PM/</td><td>0</td><td>1691563878000</td></tr><tr><td>wasbs://dmcdonald-261-fp-container@dmcdonald.blob.core.windows.net/saket_output_delta_FinalML_nonull_10723AM/</td><td>saket_output_delta_FinalML_nonull_10723AM/</td><td>0</td><td>1691666560000</td></tr><tr><td>wasbs://dmcdonald-261-fp-container@dmcdonald.blob.core.windows.net/saket_output_delta_FinalML_nonull_10723PM/</td><td>saket_output_delta_FinalML_nonull_10723PM/</td><td>0</td><td>1691666280000</td></tr><tr><td>wasbs://dmcdonald-261-fp-container@dmcdonald.blob.core.windows.net/saket_output_delta_USHOL_8623/</td><td>saket_output_delta_USHOL_8623/</td><td>0</td><td>1691449370000</td></tr><tr><td>wasbs://dmcdonald-261-fp-container@dmcdonald.blob.core.windows.net/saket_output_delta_traindf_8623/</td><td>saket_output_delta_traindf_8623/</td><td>0</td><td>1691394460000</td></tr><tr><td>wasbs://dmcdonald-261-fp-container@dmcdonald.blob.core.windows.net/saket_output_delta_traindf_9623/</td><td>saket_output_delta_traindf_9623/</td><td>0</td><td>1691662294000</td></tr><tr><td>wasbs://dmcdonald-261-fp-container@dmcdonald.blob.core.windows.net/saket_output_delta_traindff_8623/</td><td>saket_output_delta_traindff_8623/</td><td>0</td><td>1691486177000</td></tr><tr><td>wasbs://dmcdonald-261-fp-container@dmcdonald.blob.core.windows.net/saket_output_delta_v0730_dataset_12M/</td><td>saket_output_delta_v0730_dataset_12M/</td><td>0</td><td>1690710280000</td></tr><tr><td>wasbs://dmcdonald-261-fp-container@dmcdonald.blob.core.windows.net/saket_output_delta_val_FinalML_10723_PM/</td><td>saket_output_delta_val_FinalML_10723_PM/</td><td>0</td><td>1691608497000</td></tr><tr><td>wasbs://dmcdonald-261-fp-container@dmcdonald.blob.core.windows.net/saket_output_delta_val_FinalML_10723_minimal/</td><td>saket_output_delta_val_FinalML_10723_minimal/</td><td>0</td><td>1691609026000</td></tr><tr><td>wasbs://dmcdonald-261-fp-container@dmcdonald.blob.core.windows.net/saket_output_delta_val_FinalML_8723/</td><td>saket_output_delta_val_FinalML_8723/</td><td>0</td><td>1691467309000</td></tr><tr><td>wasbs://dmcdonald-261-fp-container@dmcdonald.blob.core.windows.net/saket_output_delta_val_FinalML_8723_PM/</td><td>saket_output_delta_val_FinalML_8723_PM/</td><td>0</td><td>1691489522000</td></tr><tr><td>wasbs://dmcdonald-261-fp-container@dmcdonald.blob.core.windows.net/saket_output_delta_val_FinalML_9723_PM/</td><td>saket_output_delta_val_FinalML_9723_PM/</td><td>0</td><td>1691563519000</td></tr><tr><td>wasbs://dmcdonald-261-fp-container@dmcdonald.blob.core.windows.net/saket_output_delta_val_FinalML_nonull_10723AM/</td><td>saket_output_delta_val_FinalML_nonull_10723AM/</td><td>0</td><td>1691666617000</td></tr><tr><td>wasbs://dmcdonald-261-fp-container@dmcdonald.blob.core.windows.net/saket_output_delta_val_FinalML_nonull_10723_PM/</td><td>saket_output_delta_val_FinalML_nonull_10723_PM/</td><td>0</td><td>1691666342000</td></tr><tr><td>wasbs://dmcdonald-261-fp-container@dmcdonald.blob.core.windows.net/saket_output_delta_valdf_8623/</td><td>saket_output_delta_valdf_8623/</td><td>0</td><td>1691464284000</td></tr><tr><td>wasbs://dmcdonald-261-fp-container@dmcdonald.blob.core.windows.net/saket_output_delta_valdf_9623/</td><td>saket_output_delta_valdf_9623/</td><td>0</td><td>1691665157000</td></tr><tr><td>wasbs://dmcdonald-261-fp-container@dmcdonald.blob.core.windows.net/saket_output_delta_valdff_8623/</td><td>saket_output_delta_valdff_8623/</td><td>0</td><td>1691486453000</td></tr><tr><td>wasbs://dmcdonald-261-fp-container@dmcdonald.blob.core.windows.net/saket_outputs_delta_nullanalysis/</td><td>saket_outputs_delta_nullanalysis/</td><td>0</td><td>1691362864000</td></tr><tr><td>wasbs://dmcdonald-261-fp-container@dmcdonald.blob.core.windows.net/saket_outputs_delta_nullanalysis_60M/</td><td>saket_outputs_delta_nullanalysis_60M/</td><td>0</td><td>1691370069000</td></tr><tr><td>wasbs://dmcdonald-261-fp-container@dmcdonald.blob.core.windows.net/test/</td><td>test/</td><td>0</td><td>1691792272000</td></tr><tr><td>wasbs://dmcdonald-261-fp-container@dmcdonald.blob.core.windows.net/train.parquet/</td><td>train.parquet/</td><td>0</td><td>1690501964000</td></tr><tr><td>wasbs://dmcdonald-261-fp-container@dmcdonald.blob.core.windows.net/train_allfeatures.parquet/</td><td>train_allfeatures.parquet/</td><td>0</td><td>1691376162000</td></tr><tr><td>wasbs://dmcdonald-261-fp-container@dmcdonald.blob.core.windows.net/train_delay_v1.parquet/</td><td>train_delay_v1.parquet/</td><td>0</td><td>1690785628000</td></tr><tr><td>wasbs://dmcdonald-261-fp-container@dmcdonald.blob.core.windows.net/train_fe_v1/</td><td>train_fe_v1/</td><td>0</td><td>1690597586000</td></tr><tr><td>wasbs://dmcdonald-261-fp-container@dmcdonald.blob.core.windows.net/train_featureVec_fe_v2.parquet/</td><td>train_featureVec_fe_v2.parquet/</td><td>0</td><td>1690861772000</td></tr><tr><td>wasbs://dmcdonald-261-fp-container@dmcdonald.blob.core.windows.net/unsorted/</td><td>unsorted/</td><td>0</td><td>1690497360000</td></tr><tr><td>wasbs://dmcdonald-261-fp-container@dmcdonald.blob.core.windows.net/val.parquet/</td><td>val.parquet/</td><td>0</td><td>1690502169000</td></tr><tr><td>wasbs://dmcdonald-261-fp-container@dmcdonald.blob.core.windows.net/val_allfeatures.parquet/</td><td>val_allfeatures.parquet/</td><td>0</td><td>1691376393000</td></tr><tr><td>wasbs://dmcdonald-261-fp-container@dmcdonald.blob.core.windows.net/val_delay_v1.parquet/</td><td>val_delay_v1.parquet/</td><td>0</td><td>1690787269000</td></tr><tr><td>wasbs://dmcdonald-261-fp-container@dmcdonald.blob.core.windows.net/val_fe_v1/</td><td>val_fe_v1/</td><td>0</td><td>1690597704000</td></tr><tr><td>wasbs://dmcdonald-261-fp-container@dmcdonald.blob.core.windows.net/val_featureVec_fe_v2.parquet/</td><td>val_featureVec_fe_v2.parquet/</td><td>0</td><td>1690861810000</td></tr></tbody></table></div>"
      ]
     },
     "metadata": {
      "application/vnd.databricks.v1+output": {
       "addedWidgets": {},
       "aggData": [],
       "aggError": "",
       "aggOverflow": false,
       "aggSchema": [],
       "aggSeriesLimitReached": false,
       "aggType": "",
       "arguments": {},
       "columnCustomDisplayInfos": {},
       "data": [
        [
         "wasbs://dmcdonald-261-fp-container@dmcdonald.blob.core.windows.net/2015-2017.parquet/",
         "2015-2017.parquet/",
         0,
         1690499558000
        ],
        [
         "wasbs://dmcdonald-261-fp-container@dmcdonald.blob.core.windows.net/20152017/",
         "20152017/",
         0,
         1690498711000
        ],
        [
         "wasbs://dmcdonald-261-fp-container@dmcdonald.blob.core.windows.net/For_Adam_Input_FinalML_10723/",
         "For_Adam_Input_FinalML_10723/",
         0,
         1691689220000
        ],
        [
         "wasbs://dmcdonald-261-fp-container@dmcdonald.blob.core.windows.net/For_Adam_Input_FinalML_val_10723/",
         "For_Adam_Input_FinalML_val_10723/",
         0,
         1691689304000
        ],
        [
         "wasbs://dmcdonald-261-fp-container@dmcdonald.blob.core.windows.net/folds/",
         "folds/",
         0,
         1691356833000
        ],
        [
         "wasbs://dmcdonald-261-fp-container@dmcdonald.blob.core.windows.net/saket_delta_Dataset_l160M/",
         "saket_delta_Dataset_l160M/",
         0,
         1690946282000
        ],
        [
         "wasbs://dmcdonald-261-fp-container@dmcdonald.blob.core.windows.net/saket_dev/",
         "saket_dev/",
         0,
         1689739190000
        ],
        [
         "wasbs://dmcdonald-261-fp-container@dmcdonald.blob.core.windows.net/saket_op_delta_Dataset_Final_dataset_12M/",
         "saket_op_delta_Dataset_Final_dataset_12M/",
         0,
         1690874411000
        ],
        [
         "wasbs://dmcdonald-261-fp-container@dmcdonald.blob.core.windows.net/saket_op_delta_Dataset_l4_dataset_12M/",
         "saket_op_delta_Dataset_l4_dataset_12M/",
         0,
         1690793020000
        ],
        [
         "wasbs://dmcdonald-261-fp-container@dmcdonald.blob.core.windows.net/saket_op_delta_Dataset_l4_dataset_12M_with_FL_SURR_KEY/",
         "saket_op_delta_Dataset_l4_dataset_12M_with_FL_SURR_KEY/",
         0,
         1690863136000
        ],
        [
         "wasbs://dmcdonald-261-fp-container@dmcdonald.blob.core.windows.net/saket_op_delta_Dataset_l5_dataset_12M_with_FL_SURR_KEY/",
         "saket_op_delta_Dataset_l5_dataset_12M_with_FL_SURR_KEY/",
         0,
         1690795852000
        ],
        [
         "wasbs://dmcdonald-261-fp-container@dmcdonald.blob.core.windows.net/saket_op_delta_Dataset_l5_dataset_12M_with_FL_SURR_KEY_1/",
         "saket_op_delta_Dataset_l5_dataset_12M_with_FL_SURR_KEY_1/",
         0,
         1690798347000
        ],
        [
         "wasbs://dmcdonald-261-fp-container@dmcdonald.blob.core.windows.net/saket_op_delta_Dataset_l6_dataset_12M_with_FL_SURR_KEY/",
         "saket_op_delta_Dataset_l6_dataset_12M_with_FL_SURR_KEY/",
         0,
         1690868499000
        ],
        [
         "wasbs://dmcdonald-261-fp-container@dmcdonald.blob.core.windows.net/saket_op_delta_Dataset_l7_dataset_12M_with_FL_SURR_KEY/",
         "saket_op_delta_Dataset_l7_dataset_12M_with_FL_SURR_KEY/",
         0,
         1690869201000
        ],
        [
         "wasbs://dmcdonald-261-fp-container@dmcdonald.blob.core.windows.net/saket_op_delta_Dataset_l8_dataset_12M_with_FL_SURR_KEY/",
         "saket_op_delta_Dataset_l8_dataset_12M_with_FL_SURR_KEY/",
         0,
         1690872456000
        ],
        [
         "wasbs://dmcdonald-261-fp-container@dmcdonald.blob.core.windows.net/saket_output_delta_FinalML_10723_PM/",
         "saket_output_delta_FinalML_10723_PM/",
         0,
         1691608725000
        ],
        [
         "wasbs://dmcdonald-261-fp-container@dmcdonald.blob.core.windows.net/saket_output_delta_FinalML_10723_minimal/",
         "saket_output_delta_FinalML_10723_minimal/",
         0,
         1691608974000
        ],
        [
         "wasbs://dmcdonald-261-fp-container@dmcdonald.blob.core.windows.net/saket_output_delta_FinalML_8723/",
         "saket_output_delta_FinalML_8723/",
         0,
         1691460886000
        ],
        [
         "wasbs://dmcdonald-261-fp-container@dmcdonald.blob.core.windows.net/saket_output_delta_FinalML_8723PM/",
         "saket_output_delta_FinalML_8723PM/",
         0,
         1691488976000
        ],
        [
         "wasbs://dmcdonald-261-fp-container@dmcdonald.blob.core.windows.net/saket_output_delta_FinalML_9723PM/",
         "saket_output_delta_FinalML_9723PM/",
         0,
         1691563878000
        ],
        [
         "wasbs://dmcdonald-261-fp-container@dmcdonald.blob.core.windows.net/saket_output_delta_FinalML_nonull_10723AM/",
         "saket_output_delta_FinalML_nonull_10723AM/",
         0,
         1691666560000
        ],
        [
         "wasbs://dmcdonald-261-fp-container@dmcdonald.blob.core.windows.net/saket_output_delta_FinalML_nonull_10723PM/",
         "saket_output_delta_FinalML_nonull_10723PM/",
         0,
         1691666280000
        ],
        [
         "wasbs://dmcdonald-261-fp-container@dmcdonald.blob.core.windows.net/saket_output_delta_USHOL_8623/",
         "saket_output_delta_USHOL_8623/",
         0,
         1691449370000
        ],
        [
         "wasbs://dmcdonald-261-fp-container@dmcdonald.blob.core.windows.net/saket_output_delta_traindf_8623/",
         "saket_output_delta_traindf_8623/",
         0,
         1691394460000
        ],
        [
         "wasbs://dmcdonald-261-fp-container@dmcdonald.blob.core.windows.net/saket_output_delta_traindf_9623/",
         "saket_output_delta_traindf_9623/",
         0,
         1691662294000
        ],
        [
         "wasbs://dmcdonald-261-fp-container@dmcdonald.blob.core.windows.net/saket_output_delta_traindff_8623/",
         "saket_output_delta_traindff_8623/",
         0,
         1691486177000
        ],
        [
         "wasbs://dmcdonald-261-fp-container@dmcdonald.blob.core.windows.net/saket_output_delta_v0730_dataset_12M/",
         "saket_output_delta_v0730_dataset_12M/",
         0,
         1690710280000
        ],
        [
         "wasbs://dmcdonald-261-fp-container@dmcdonald.blob.core.windows.net/saket_output_delta_val_FinalML_10723_PM/",
         "saket_output_delta_val_FinalML_10723_PM/",
         0,
         1691608497000
        ],
        [
         "wasbs://dmcdonald-261-fp-container@dmcdonald.blob.core.windows.net/saket_output_delta_val_FinalML_10723_minimal/",
         "saket_output_delta_val_FinalML_10723_minimal/",
         0,
         1691609026000
        ],
        [
         "wasbs://dmcdonald-261-fp-container@dmcdonald.blob.core.windows.net/saket_output_delta_val_FinalML_8723/",
         "saket_output_delta_val_FinalML_8723/",
         0,
         1691467309000
        ],
        [
         "wasbs://dmcdonald-261-fp-container@dmcdonald.blob.core.windows.net/saket_output_delta_val_FinalML_8723_PM/",
         "saket_output_delta_val_FinalML_8723_PM/",
         0,
         1691489522000
        ],
        [
         "wasbs://dmcdonald-261-fp-container@dmcdonald.blob.core.windows.net/saket_output_delta_val_FinalML_9723_PM/",
         "saket_output_delta_val_FinalML_9723_PM/",
         0,
         1691563519000
        ],
        [
         "wasbs://dmcdonald-261-fp-container@dmcdonald.blob.core.windows.net/saket_output_delta_val_FinalML_nonull_10723AM/",
         "saket_output_delta_val_FinalML_nonull_10723AM/",
         0,
         1691666617000
        ],
        [
         "wasbs://dmcdonald-261-fp-container@dmcdonald.blob.core.windows.net/saket_output_delta_val_FinalML_nonull_10723_PM/",
         "saket_output_delta_val_FinalML_nonull_10723_PM/",
         0,
         1691666342000
        ],
        [
         "wasbs://dmcdonald-261-fp-container@dmcdonald.blob.core.windows.net/saket_output_delta_valdf_8623/",
         "saket_output_delta_valdf_8623/",
         0,
         1691464284000
        ],
        [
         "wasbs://dmcdonald-261-fp-container@dmcdonald.blob.core.windows.net/saket_output_delta_valdf_9623/",
         "saket_output_delta_valdf_9623/",
         0,
         1691665157000
        ],
        [
         "wasbs://dmcdonald-261-fp-container@dmcdonald.blob.core.windows.net/saket_output_delta_valdff_8623/",
         "saket_output_delta_valdff_8623/",
         0,
         1691486453000
        ],
        [
         "wasbs://dmcdonald-261-fp-container@dmcdonald.blob.core.windows.net/saket_outputs_delta_nullanalysis/",
         "saket_outputs_delta_nullanalysis/",
         0,
         1691362864000
        ],
        [
         "wasbs://dmcdonald-261-fp-container@dmcdonald.blob.core.windows.net/saket_outputs_delta_nullanalysis_60M/",
         "saket_outputs_delta_nullanalysis_60M/",
         0,
         1691370069000
        ],
        [
         "wasbs://dmcdonald-261-fp-container@dmcdonald.blob.core.windows.net/test/",
         "test/",
         0,
         1691792272000
        ],
        [
         "wasbs://dmcdonald-261-fp-container@dmcdonald.blob.core.windows.net/train.parquet/",
         "train.parquet/",
         0,
         1690501964000
        ],
        [
         "wasbs://dmcdonald-261-fp-container@dmcdonald.blob.core.windows.net/train_allfeatures.parquet/",
         "train_allfeatures.parquet/",
         0,
         1691376162000
        ],
        [
         "wasbs://dmcdonald-261-fp-container@dmcdonald.blob.core.windows.net/train_delay_v1.parquet/",
         "train_delay_v1.parquet/",
         0,
         1690785628000
        ],
        [
         "wasbs://dmcdonald-261-fp-container@dmcdonald.blob.core.windows.net/train_fe_v1/",
         "train_fe_v1/",
         0,
         1690597586000
        ],
        [
         "wasbs://dmcdonald-261-fp-container@dmcdonald.blob.core.windows.net/train_featureVec_fe_v2.parquet/",
         "train_featureVec_fe_v2.parquet/",
         0,
         1690861772000
        ],
        [
         "wasbs://dmcdonald-261-fp-container@dmcdonald.blob.core.windows.net/unsorted/",
         "unsorted/",
         0,
         1690497360000
        ],
        [
         "wasbs://dmcdonald-261-fp-container@dmcdonald.blob.core.windows.net/val.parquet/",
         "val.parquet/",
         0,
         1690502169000
        ],
        [
         "wasbs://dmcdonald-261-fp-container@dmcdonald.blob.core.windows.net/val_allfeatures.parquet/",
         "val_allfeatures.parquet/",
         0,
         1691376393000
        ],
        [
         "wasbs://dmcdonald-261-fp-container@dmcdonald.blob.core.windows.net/val_delay_v1.parquet/",
         "val_delay_v1.parquet/",
         0,
         1690787269000
        ],
        [
         "wasbs://dmcdonald-261-fp-container@dmcdonald.blob.core.windows.net/val_fe_v1/",
         "val_fe_v1/",
         0,
         1690597704000
        ],
        [
         "wasbs://dmcdonald-261-fp-container@dmcdonald.blob.core.windows.net/val_featureVec_fe_v2.parquet/",
         "val_featureVec_fe_v2.parquet/",
         0,
         1690861810000
        ]
       ],
       "datasetInfos": [],
       "dbfsResultPath": null,
       "isJsonSchema": true,
       "metadata": {},
       "overflow": false,
       "plotOptions": {
        "customPlotOptions": {},
        "displayType": "table",
        "pivotAggregation": null,
        "pivotColumns": null,
        "xColumns": null,
        "yColumns": null
       },
       "removedWidgets": [],
       "schema": [
        {
         "metadata": "{}",
         "name": "path",
         "type": "\"string\""
        },
        {
         "metadata": "{}",
         "name": "name",
         "type": "\"string\""
        },
        {
         "metadata": "{}",
         "name": "size",
         "type": "\"long\""
        },
        {
         "metadata": "{}",
         "name": "modificationTime",
         "type": "\"long\""
        }
       ],
       "type": "table"
      }
     },
     "output_type": "display_data"
    },
    {
     "output_type": "display_data",
     "data": {
      "application/vnd.databricks.v1+bamboolib_hint": "{\"pd.DataFrames\": [\"pdf\"], \"version\": \"0.0.1\"}",
      "text/plain": []
     },
     "metadata": {},
     "output_type": "display_data"
    }
   ],
   "source": [
    "## Place this cell in any team notebook that needs access to the team cloud storage.\n",
    "\n",
    "\n",
    "# The following blob storage is accessible to team members only (read and write)\n",
    "# access key is valid til TTL\n",
    "# after that you will need to create a new SAS key and authenticate access again via DataBrick command line\n",
    "secret_scope = \"261-fp-scope\"\n",
    "secret_key   = \"261-fp-scope-key\"    \n",
    "blob_container  = \"dmcdonald-261-fp-container\"       # The name of your container created in https://portal.azure.com\n",
    "storage_account = \"dmcdonald\" # The name of your Storage account created in https://portal.azure.com\n",
    "team_blob_url        = f\"wasbs://{blob_container}@{storage_account}.blob.core.windows.net\"  #points to the root of your team storage bucket\n",
    "\n",
    "# the 261 course blob storage is mounted here on the DataBricks workspace.\n",
    "mids261_mount_path      = \"/mnt/mids-w261\"\n",
    "\n",
    "# SAS Token: Grant the team limited access to Azure Storage resources\n",
    "spark.conf.set(\n",
    "  f\"fs.azure.sas.{blob_container}.{storage_account}.blob.core.windows.net\",\n",
    "  dbutils.secrets.get(scope = secret_scope, key = secret_key)\n",
    ")\n",
    "import pandas as pd\n",
    "pdf = pd.DataFrame([[1, 2, 3, \"Jane\"], [2, 2,2, None], [12, 12,12, \"John\"]], columns=[\"x\", \"y\", \"z\", \"a_string\"])\n",
    "df = spark.createDataFrame(pdf) # Create a Spark dataframe from a pandas DF\n",
    "\n",
    "# The following can write the dataframe to the team's Cloud Storage  \n",
    "# Navigate back to your Storage account in https://portal.azure.com, to inspect the partitions/files.\n",
    "df.write.parquet(f\"{team_blob_url}/test\", mode='overwrite')\n",
    "\n",
    "\n",
    "\n",
    "# see what's in the blob storage root folder \n",
    "display(dbutils.fs.ls(f\"{team_blob_url}\"))"
   ]
  },
  {
   "cell_type": "markdown",
   "metadata": {
    "application/vnd.databricks.v1+cell": {
     "cellMetadata": {
      "byteLimit": 2048000,
      "rowLimit": 10000
     },
     "inputWidgets": {},
     "nuid": "8f4c6296-947c-46b4-8dc8-77ddebc8277d",
     "showTitle": false,
     "title": ""
    }
   },
   "source": [
    "## Training Pipeline with Lineage\n",
    "\n",
    "We have done this in 2 parts. Please look for details around how we reached the point where we created `train_allfeaures.parquet` in Part 1 notebook."
   ]
  },
  {
   "cell_type": "code",
   "execution_count": 0,
   "metadata": {
    "application/vnd.databricks.v1+cell": {
     "cellMetadata": {
      "byteLimit": 2048000,
      "rowLimit": 10000
     },
     "inputWidgets": {},
     "nuid": "fd8bf0a6-af5a-49c7-a82c-5606d952df26",
     "showTitle": false,
     "title": ""
    }
   },
   "outputs": [],
   "source": [
    "train_df = spark.read.parquet(f\"{team_blob_url}/train_allfeatures.parquet/\").cache()"
   ]
  },
  {
   "cell_type": "code",
   "execution_count": 0,
   "metadata": {
    "application/vnd.databricks.v1+cell": {
     "cellMetadata": {
      "byteLimit": 2048000,
      "rowLimit": 10000
     },
     "inputWidgets": {},
     "nuid": "7b5b9949-0091-4303-9cbb-4c7eafd483fc",
     "showTitle": false,
     "title": ""
    }
   },
   "outputs": [],
   "source": [
    "data = train_df.select('FL_DATE', 'sched_depart_date_time_UTC', 'four_hours_prior_depart_UTC', 'two_hours_prior_depart_UTC', 'DATE', 'WindEquipmentChangeDate', 'scheduled_dep_timestamp', 'actual_dep_timestamp', 'scheduled_arr_timestamp', 'actual_arr_timestamp', 'earlier_timestamp', 'scheduled_dep_time_UTC', 'scheduled_arr_time_UTC','ORIGIN', 'OP_CARRIER_FL_NUM', 'TAIL_NUM', 'QUARTER', 'DAY_OF_MONTH', 'DAY_OF_WEEK', 'OP_UNIQUE_CARRIER', 'OP_CARRIER_AIRLINE_ID',  'OP_CARRIER', 'ORIGIN_AIRPORT_ID', 'ORIGIN_AIRPORT_SEQ_ID', 'ORIGIN_CITY_MARKET_ID', 'ORIGIN_CITY_NAME', 'ORIGIN_STATE_ABR', 'ORIGIN_STATE_FIPS', 'ORIGIN_STATE_NM', 'ORIGIN_WAC', 'DEST_AIRPORT_ID', 'DEST_AIRPORT_SEQ_ID', 'DEST_CITY_MARKET_ID', 'DEST', 'DEST_CITY_NAME', 'DEST_STATE_ABR', 'DEST_STATE_FIPS', 'DEST_STATE_NM', 'DEST_WAC', 'CRS_DEP_TIME', 'DEP_TIME', 'DEP_DELAY', 'DEP_DELAY_NEW', 'DEP_DEL15', 'DEP_DELAY_GROUP', 'DEP_TIME_BLK', 'TAXI_OUT', 'WHEELS_OFF', 'WHEELS_ON', 'TAXI_IN', 'CRS_ARR_TIME', 'ARR_TIME', 'ARR_DELAY', 'ARR_DELAY_NEW', 'ARR_DEL15', 'ARR_DELAY_GROUP', 'ARR_TIME_BLK', 'CANCELLED', 'DIVERTED', 'CRS_ELAPSED_TIME', 'ACTUAL_ELAPSED_TIME', 'AIR_TIME', 'FLIGHTS', 'DISTANCE', 'DISTANCE_GROUP', 'YEAR', 'MONTH', 'origin_airport_name', 'origin_station_name', 'origin_station_id', 'origin_iata_code', 'origin_icao', 'origin_type', 'origin_region', 'origin_station_lat', 'origin_station_lon', 'origin_airport_lat', 'origin_airport_lon', 'origin_station_dis', 'dest_airport_name', 'dest_station_name', 'dest_station_id', 'dest_iata_code', 'dest_icao', 'dest_type', 'dest_region', 'dest_station_lat', 'dest_station_lon', 'dest_airport_lat', 'dest_airport_lon', 'dest_station_dis', 'STATION', 'ELEVATION', 'NAME', 'REPORT_TYPE', 'SOURCE', 'HourlyAltimeterSetting', 'HourlyWindGustSpeed','HourlyDewPointTemperature', 'HourlyDryBulbTemperature', 'HourlyPrecipitation', 'HourlyPressureChange', 'HourlyPressureTendency', 'HourlyRelativeHumidity', 'HourlySkyConditions', 'HourlySeaLevelPressure', 'HourlyStationPressure', 'HourlyVisibility', 'HourlyWetBulbTemperature', 'HourlyWindDirection', 'HourlyWindSpeed', 'REM', 'IATA', 'dest_tz', 'origin_tz', 'scheduled_dep_time', 'hour', 'actual_dep_time', 'scheduled_arr_time', 'actual_arr_time', 'previous_flight_delay_status', 'MIN_DIST_FROM_HOLIDAY', 'Outlinks')"
   ]
  },
  {
   "cell_type": "code",
   "execution_count": 0,
   "metadata": {
    "application/vnd.databricks.v1+cell": {
     "cellMetadata": {
      "byteLimit": 2048000,
      "rowLimit": 10000
     },
     "inputWidgets": {},
     "nuid": "5d91e8e1-ab21-4c3f-af21-be6df11cfa0b",
     "showTitle": false,
     "title": ""
    }
   },
   "outputs": [],
   "source": [
    "data = data.filter(col('TAIL_NUM').isNotNull()).filter(col('DEP_DEL15').isNotNull()).filter(col('Diverted') != 1)"
   ]
  },
  {
   "cell_type": "code",
   "execution_count": 0,
   "metadata": {
    "application/vnd.databricks.v1+cell": {
     "cellMetadata": {
      "byteLimit": 2048000,
      "rowLimit": 10000
     },
     "inputWidgets": {},
     "nuid": "e902314a-1125-4933-99e9-b90b5c8b77ab",
     "showTitle": false,
     "title": ""
    }
   },
   "outputs": [],
   "source": [
    "data.write.format('delta').mode('overwrite').option(\"overwriteSchema\", \"true\").save(f\"{team_blob_url}/saket_output_delta_traindf_9623/\")"
   ]
  },
  {
   "cell_type": "code",
   "execution_count": 0,
   "metadata": {
    "application/vnd.databricks.v1+cell": {
     "cellMetadata": {
      "byteLimit": 2048000,
      "rowLimit": 10000
     },
     "inputWidgets": {},
     "nuid": "8f3b8eb3-9171-4009-821b-f982eac050e8",
     "showTitle": false,
     "title": ""
    }
   },
   "outputs": [
    {
     "output_type": "execute_result",
     "data": {
      "text/plain": [
       "DataFrame[]"
      ]
     },
     "execution_count": 194,
     "metadata": {},
     "output_type": "execute_result"
    }
   ],
   "source": [
    "spark.sql(f\"DROP TABLE IF EXISTS Dataset_l1_final_day\")\n",
    "spark.sql(f\"CREATE TABLE Dataset_l1_final_day USING DELTA LOCATION '{team_blob_url}/saket_output_delta_traindf_9623/'\")\n",
    "\n",
    "spark.sql(f\"DROP TABLE IF EXISTS US_Holidays\")\n",
    "spark.sql(f\"CREATE TABLE US_Holidays USING DELTA LOCATION '{team_blob_url}/saket_output_delta_USHOL_8623/'\")"
   ]
  },
  {
   "cell_type": "code",
   "execution_count": 0,
   "metadata": {
    "application/vnd.databricks.v1+cell": {
     "cellMetadata": {
      "byteLimit": 2048000,
      "implicitDf": true,
      "rowLimit": 10000
     },
     "inputWidgets": {},
     "nuid": "16f82c8b-70a5-469c-bdc6-4d05193b6da0",
     "showTitle": false,
     "title": ""
    }
   },
   "outputs": [
    {
     "output_type": "execute_result",
     "data": {
      "text/plain": [
       "23874345"
      ]
     },
     "execution_count": 192,
     "metadata": {},
     "output_type": "execute_result"
    }
   ],
   "source": [
    "data.count()"
   ]
  },
  {
   "cell_type": "code",
   "execution_count": 0,
   "metadata": {
    "application/vnd.databricks.v1+cell": {
     "cellMetadata": {
      "byteLimit": 2048000,
      "implicitDf": true,
      "rowLimit": 10000
     },
     "inputWidgets": {},
     "nuid": "afa777de-2397-4fba-9497-db3dfad759ca",
     "showTitle": false,
     "title": ""
    }
   },
   "outputs": [
    {
     "output_type": "display_data",
     "data": {
      "text/html": [
       "<style scoped>\n",
       "  .table-result-container {\n",
       "    max-height: 300px;\n",
       "    overflow: auto;\n",
       "  }\n",
       "  table, th, td {\n",
       "    border: 1px solid black;\n",
       "    border-collapse: collapse;\n",
       "  }\n",
       "  th, td {\n",
       "    padding: 5px;\n",
       "  }\n",
       "  th {\n",
       "    text-align: left;\n",
       "  }\n",
       "</style><div class='table-result-container'><table class='table-result'><thead style='background-color: white'><tr><th>col_name</th><th>data_type</th><th>comment</th></tr></thead><tbody><tr><td>FL_DATE</td><td>date</td><td>null</td></tr><tr><td>sched_depart_date_time_UTC</td><td>timestamp</td><td>null</td></tr><tr><td>four_hours_prior_depart_UTC</td><td>timestamp</td><td>null</td></tr><tr><td>two_hours_prior_depart_UTC</td><td>timestamp</td><td>null</td></tr><tr><td>DATE</td><td>timestamp</td><td>null</td></tr><tr><td>WindEquipmentChangeDate</td><td>date</td><td>null</td></tr><tr><td>scheduled_dep_timestamp</td><td>timestamp</td><td>null</td></tr><tr><td>actual_dep_timestamp</td><td>timestamp</td><td>null</td></tr><tr><td>scheduled_arr_timestamp</td><td>timestamp</td><td>null</td></tr><tr><td>actual_arr_timestamp</td><td>timestamp</td><td>null</td></tr><tr><td>earlier_timestamp</td><td>timestamp</td><td>null</td></tr><tr><td>scheduled_dep_time_UTC</td><td>timestamp</td><td>null</td></tr><tr><td>scheduled_arr_time_UTC</td><td>timestamp</td><td>null</td></tr><tr><td>ORIGIN</td><td>string</td><td>null</td></tr><tr><td>OP_CARRIER_FL_NUM</td><td>int</td><td>null</td></tr><tr><td>TAIL_NUM</td><td>string</td><td>null</td></tr><tr><td>QUARTER</td><td>int</td><td>null</td></tr><tr><td>DAY_OF_MONTH</td><td>int</td><td>null</td></tr><tr><td>DAY_OF_WEEK</td><td>int</td><td>null</td></tr><tr><td>OP_UNIQUE_CARRIER</td><td>string</td><td>null</td></tr><tr><td>OP_CARRIER_AIRLINE_ID</td><td>int</td><td>null</td></tr><tr><td>OP_CARRIER</td><td>string</td><td>null</td></tr><tr><td>ORIGIN_AIRPORT_ID</td><td>int</td><td>null</td></tr><tr><td>ORIGIN_AIRPORT_SEQ_ID</td><td>int</td><td>null</td></tr><tr><td>ORIGIN_CITY_MARKET_ID</td><td>int</td><td>null</td></tr><tr><td>ORIGIN_CITY_NAME</td><td>string</td><td>null</td></tr><tr><td>ORIGIN_STATE_ABR</td><td>string</td><td>null</td></tr><tr><td>ORIGIN_STATE_FIPS</td><td>int</td><td>null</td></tr><tr><td>ORIGIN_STATE_NM</td><td>string</td><td>null</td></tr><tr><td>ORIGIN_WAC</td><td>int</td><td>null</td></tr><tr><td>DEST_AIRPORT_ID</td><td>int</td><td>null</td></tr><tr><td>DEST_AIRPORT_SEQ_ID</td><td>int</td><td>null</td></tr><tr><td>DEST_CITY_MARKET_ID</td><td>int</td><td>null</td></tr><tr><td>DEST</td><td>string</td><td>null</td></tr><tr><td>DEST_CITY_NAME</td><td>string</td><td>null</td></tr><tr><td>DEST_STATE_ABR</td><td>string</td><td>null</td></tr><tr><td>DEST_STATE_FIPS</td><td>int</td><td>null</td></tr><tr><td>DEST_STATE_NM</td><td>string</td><td>null</td></tr><tr><td>DEST_WAC</td><td>int</td><td>null</td></tr><tr><td>CRS_DEP_TIME</td><td>int</td><td>null</td></tr><tr><td>DEP_TIME</td><td>int</td><td>null</td></tr><tr><td>DEP_DELAY</td><td>double</td><td>null</td></tr><tr><td>DEP_DELAY_NEW</td><td>double</td><td>null</td></tr><tr><td>DEP_DEL15</td><td>double</td><td>null</td></tr><tr><td>DEP_DELAY_GROUP</td><td>int</td><td>null</td></tr><tr><td>DEP_TIME_BLK</td><td>string</td><td>null</td></tr><tr><td>TAXI_OUT</td><td>double</td><td>null</td></tr><tr><td>WHEELS_OFF</td><td>int</td><td>null</td></tr><tr><td>WHEELS_ON</td><td>int</td><td>null</td></tr><tr><td>TAXI_IN</td><td>double</td><td>null</td></tr><tr><td>CRS_ARR_TIME</td><td>int</td><td>null</td></tr><tr><td>ARR_TIME</td><td>int</td><td>null</td></tr><tr><td>ARR_DELAY</td><td>double</td><td>null</td></tr><tr><td>ARR_DELAY_NEW</td><td>double</td><td>null</td></tr><tr><td>ARR_DEL15</td><td>double</td><td>null</td></tr><tr><td>ARR_DELAY_GROUP</td><td>int</td><td>null</td></tr><tr><td>ARR_TIME_BLK</td><td>string</td><td>null</td></tr><tr><td>CANCELLED</td><td>double</td><td>null</td></tr><tr><td>DIVERTED</td><td>double</td><td>null</td></tr><tr><td>CRS_ELAPSED_TIME</td><td>double</td><td>null</td></tr><tr><td>ACTUAL_ELAPSED_TIME</td><td>double</td><td>null</td></tr><tr><td>AIR_TIME</td><td>double</td><td>null</td></tr><tr><td>FLIGHTS</td><td>double</td><td>null</td></tr><tr><td>DISTANCE</td><td>double</td><td>null</td></tr><tr><td>DISTANCE_GROUP</td><td>int</td><td>null</td></tr><tr><td>YEAR</td><td>int</td><td>null</td></tr><tr><td>MONTH</td><td>int</td><td>null</td></tr><tr><td>origin_airport_name</td><td>string</td><td>null</td></tr><tr><td>origin_station_name</td><td>string</td><td>null</td></tr><tr><td>origin_station_id</td><td>bigint</td><td>null</td></tr><tr><td>origin_iata_code</td><td>string</td><td>null</td></tr><tr><td>origin_icao</td><td>string</td><td>null</td></tr><tr><td>origin_type</td><td>string</td><td>null</td></tr><tr><td>origin_region</td><td>string</td><td>null</td></tr><tr><td>origin_station_lat</td><td>double</td><td>null</td></tr><tr><td>origin_station_lon</td><td>double</td><td>null</td></tr><tr><td>origin_airport_lat</td><td>double</td><td>null</td></tr><tr><td>origin_airport_lon</td><td>double</td><td>null</td></tr><tr><td>origin_station_dis</td><td>double</td><td>null</td></tr><tr><td>dest_airport_name</td><td>string</td><td>null</td></tr><tr><td>dest_station_name</td><td>string</td><td>null</td></tr><tr><td>dest_station_id</td><td>bigint</td><td>null</td></tr><tr><td>dest_iata_code</td><td>string</td><td>null</td></tr><tr><td>dest_icao</td><td>string</td><td>null</td></tr><tr><td>dest_type</td><td>string</td><td>null</td></tr><tr><td>dest_region</td><td>string</td><td>null</td></tr><tr><td>dest_station_lat</td><td>double</td><td>null</td></tr><tr><td>dest_station_lon</td><td>double</td><td>null</td></tr><tr><td>dest_airport_lat</td><td>double</td><td>null</td></tr><tr><td>dest_airport_lon</td><td>double</td><td>null</td></tr><tr><td>dest_station_dis</td><td>double</td><td>null</td></tr><tr><td>STATION</td><td>bigint</td><td>null</td></tr><tr><td>ELEVATION</td><td>double</td><td>null</td></tr><tr><td>NAME</td><td>string</td><td>null</td></tr><tr><td>REPORT_TYPE</td><td>string</td><td>null</td></tr><tr><td>SOURCE</td><td>string</td><td>null</td></tr><tr><td>HourlyAltimeterSetting</td><td>string</td><td>null</td></tr><tr><td>HourlyWindGustSpeed</td><td>string</td><td>null</td></tr><tr><td>HourlyDewPointTemperature</td><td>string</td><td>null</td></tr><tr><td>HourlyDryBulbTemperature</td><td>string</td><td>null</td></tr><tr><td>HourlyPrecipitation</td><td>string</td><td>null</td></tr><tr><td>HourlyPressureChange</td><td>string</td><td>null</td></tr><tr><td>HourlyPressureTendency</td><td>int</td><td>null</td></tr><tr><td>HourlyRelativeHumidity</td><td>string</td><td>null</td></tr><tr><td>HourlySkyConditions</td><td>string</td><td>null</td></tr><tr><td>HourlySeaLevelPressure</td><td>string</td><td>null</td></tr><tr><td>HourlyStationPressure</td><td>string</td><td>null</td></tr><tr><td>HourlyVisibility</td><td>string</td><td>null</td></tr><tr><td>HourlyWetBulbTemperature</td><td>string</td><td>null</td></tr><tr><td>HourlyWindDirection</td><td>string</td><td>null</td></tr><tr><td>HourlyWindSpeed</td><td>string</td><td>null</td></tr><tr><td>REM</td><td>string</td><td>null</td></tr><tr><td>IATA</td><td>string</td><td>null</td></tr><tr><td>dest_tz</td><td>string</td><td>null</td></tr><tr><td>origin_tz</td><td>string</td><td>null</td></tr><tr><td>scheduled_dep_time</td><td>string</td><td>null</td></tr><tr><td>hour</td><td>int</td><td>null</td></tr><tr><td>actual_dep_time</td><td>string</td><td>null</td></tr><tr><td>scheduled_arr_time</td><td>string</td><td>null</td></tr><tr><td>actual_arr_time</td><td>string</td><td>null</td></tr><tr><td>previous_flight_delay_status</td><td>double</td><td>null</td></tr><tr><td>MIN_DIST_FROM_HOLIDAY</td><td>double</td><td>null</td></tr><tr><td>Outlinks</td><td>bigint</td><td>null</td></tr></tbody></table></div>"
      ]
     },
     "metadata": {
      "application/vnd.databricks.v1+output": {
       "addedWidgets": {},
       "aggData": [],
       "aggError": "",
       "aggOverflow": false,
       "aggSchema": [],
       "aggSeriesLimitReached": false,
       "aggType": "",
       "arguments": {},
       "columnCustomDisplayInfos": {},
       "data": [
        [
         "FL_DATE",
         "date",
         null
        ],
        [
         "sched_depart_date_time_UTC",
         "timestamp",
         null
        ],
        [
         "four_hours_prior_depart_UTC",
         "timestamp",
         null
        ],
        [
         "two_hours_prior_depart_UTC",
         "timestamp",
         null
        ],
        [
         "DATE",
         "timestamp",
         null
        ],
        [
         "WindEquipmentChangeDate",
         "date",
         null
        ],
        [
         "scheduled_dep_timestamp",
         "timestamp",
         null
        ],
        [
         "actual_dep_timestamp",
         "timestamp",
         null
        ],
        [
         "scheduled_arr_timestamp",
         "timestamp",
         null
        ],
        [
         "actual_arr_timestamp",
         "timestamp",
         null
        ],
        [
         "earlier_timestamp",
         "timestamp",
         null
        ],
        [
         "scheduled_dep_time_UTC",
         "timestamp",
         null
        ],
        [
         "scheduled_arr_time_UTC",
         "timestamp",
         null
        ],
        [
         "ORIGIN",
         "string",
         null
        ],
        [
         "OP_CARRIER_FL_NUM",
         "int",
         null
        ],
        [
         "TAIL_NUM",
         "string",
         null
        ],
        [
         "QUARTER",
         "int",
         null
        ],
        [
         "DAY_OF_MONTH",
         "int",
         null
        ],
        [
         "DAY_OF_WEEK",
         "int",
         null
        ],
        [
         "OP_UNIQUE_CARRIER",
         "string",
         null
        ],
        [
         "OP_CARRIER_AIRLINE_ID",
         "int",
         null
        ],
        [
         "OP_CARRIER",
         "string",
         null
        ],
        [
         "ORIGIN_AIRPORT_ID",
         "int",
         null
        ],
        [
         "ORIGIN_AIRPORT_SEQ_ID",
         "int",
         null
        ],
        [
         "ORIGIN_CITY_MARKET_ID",
         "int",
         null
        ],
        [
         "ORIGIN_CITY_NAME",
         "string",
         null
        ],
        [
         "ORIGIN_STATE_ABR",
         "string",
         null
        ],
        [
         "ORIGIN_STATE_FIPS",
         "int",
         null
        ],
        [
         "ORIGIN_STATE_NM",
         "string",
         null
        ],
        [
         "ORIGIN_WAC",
         "int",
         null
        ],
        [
         "DEST_AIRPORT_ID",
         "int",
         null
        ],
        [
         "DEST_AIRPORT_SEQ_ID",
         "int",
         null
        ],
        [
         "DEST_CITY_MARKET_ID",
         "int",
         null
        ],
        [
         "DEST",
         "string",
         null
        ],
        [
         "DEST_CITY_NAME",
         "string",
         null
        ],
        [
         "DEST_STATE_ABR",
         "string",
         null
        ],
        [
         "DEST_STATE_FIPS",
         "int",
         null
        ],
        [
         "DEST_STATE_NM",
         "string",
         null
        ],
        [
         "DEST_WAC",
         "int",
         null
        ],
        [
         "CRS_DEP_TIME",
         "int",
         null
        ],
        [
         "DEP_TIME",
         "int",
         null
        ],
        [
         "DEP_DELAY",
         "double",
         null
        ],
        [
         "DEP_DELAY_NEW",
         "double",
         null
        ],
        [
         "DEP_DEL15",
         "double",
         null
        ],
        [
         "DEP_DELAY_GROUP",
         "int",
         null
        ],
        [
         "DEP_TIME_BLK",
         "string",
         null
        ],
        [
         "TAXI_OUT",
         "double",
         null
        ],
        [
         "WHEELS_OFF",
         "int",
         null
        ],
        [
         "WHEELS_ON",
         "int",
         null
        ],
        [
         "TAXI_IN",
         "double",
         null
        ],
        [
         "CRS_ARR_TIME",
         "int",
         null
        ],
        [
         "ARR_TIME",
         "int",
         null
        ],
        [
         "ARR_DELAY",
         "double",
         null
        ],
        [
         "ARR_DELAY_NEW",
         "double",
         null
        ],
        [
         "ARR_DEL15",
         "double",
         null
        ],
        [
         "ARR_DELAY_GROUP",
         "int",
         null
        ],
        [
         "ARR_TIME_BLK",
         "string",
         null
        ],
        [
         "CANCELLED",
         "double",
         null
        ],
        [
         "DIVERTED",
         "double",
         null
        ],
        [
         "CRS_ELAPSED_TIME",
         "double",
         null
        ],
        [
         "ACTUAL_ELAPSED_TIME",
         "double",
         null
        ],
        [
         "AIR_TIME",
         "double",
         null
        ],
        [
         "FLIGHTS",
         "double",
         null
        ],
        [
         "DISTANCE",
         "double",
         null
        ],
        [
         "DISTANCE_GROUP",
         "int",
         null
        ],
        [
         "YEAR",
         "int",
         null
        ],
        [
         "MONTH",
         "int",
         null
        ],
        [
         "origin_airport_name",
         "string",
         null
        ],
        [
         "origin_station_name",
         "string",
         null
        ],
        [
         "origin_station_id",
         "bigint",
         null
        ],
        [
         "origin_iata_code",
         "string",
         null
        ],
        [
         "origin_icao",
         "string",
         null
        ],
        [
         "origin_type",
         "string",
         null
        ],
        [
         "origin_region",
         "string",
         null
        ],
        [
         "origin_station_lat",
         "double",
         null
        ],
        [
         "origin_station_lon",
         "double",
         null
        ],
        [
         "origin_airport_lat",
         "double",
         null
        ],
        [
         "origin_airport_lon",
         "double",
         null
        ],
        [
         "origin_station_dis",
         "double",
         null
        ],
        [
         "dest_airport_name",
         "string",
         null
        ],
        [
         "dest_station_name",
         "string",
         null
        ],
        [
         "dest_station_id",
         "bigint",
         null
        ],
        [
         "dest_iata_code",
         "string",
         null
        ],
        [
         "dest_icao",
         "string",
         null
        ],
        [
         "dest_type",
         "string",
         null
        ],
        [
         "dest_region",
         "string",
         null
        ],
        [
         "dest_station_lat",
         "double",
         null
        ],
        [
         "dest_station_lon",
         "double",
         null
        ],
        [
         "dest_airport_lat",
         "double",
         null
        ],
        [
         "dest_airport_lon",
         "double",
         null
        ],
        [
         "dest_station_dis",
         "double",
         null
        ],
        [
         "STATION",
         "bigint",
         null
        ],
        [
         "ELEVATION",
         "double",
         null
        ],
        [
         "NAME",
         "string",
         null
        ],
        [
         "REPORT_TYPE",
         "string",
         null
        ],
        [
         "SOURCE",
         "string",
         null
        ],
        [
         "HourlyAltimeterSetting",
         "string",
         null
        ],
        [
         "HourlyWindGustSpeed",
         "string",
         null
        ],
        [
         "HourlyDewPointTemperature",
         "string",
         null
        ],
        [
         "HourlyDryBulbTemperature",
         "string",
         null
        ],
        [
         "HourlyPrecipitation",
         "string",
         null
        ],
        [
         "HourlyPressureChange",
         "string",
         null
        ],
        [
         "HourlyPressureTendency",
         "int",
         null
        ],
        [
         "HourlyRelativeHumidity",
         "string",
         null
        ],
        [
         "HourlySkyConditions",
         "string",
         null
        ],
        [
         "HourlySeaLevelPressure",
         "string",
         null
        ],
        [
         "HourlyStationPressure",
         "string",
         null
        ],
        [
         "HourlyVisibility",
         "string",
         null
        ],
        [
         "HourlyWetBulbTemperature",
         "string",
         null
        ],
        [
         "HourlyWindDirection",
         "string",
         null
        ],
        [
         "HourlyWindSpeed",
         "string",
         null
        ],
        [
         "REM",
         "string",
         null
        ],
        [
         "IATA",
         "string",
         null
        ],
        [
         "dest_tz",
         "string",
         null
        ],
        [
         "origin_tz",
         "string",
         null
        ],
        [
         "scheduled_dep_time",
         "string",
         null
        ],
        [
         "hour",
         "int",
         null
        ],
        [
         "actual_dep_time",
         "string",
         null
        ],
        [
         "scheduled_arr_time",
         "string",
         null
        ],
        [
         "actual_arr_time",
         "string",
         null
        ],
        [
         "previous_flight_delay_status",
         "double",
         null
        ],
        [
         "MIN_DIST_FROM_HOLIDAY",
         "double",
         null
        ],
        [
         "Outlinks",
         "bigint",
         null
        ]
       ],
       "datasetInfos": [
        {
         "name": "_sqldf",
         "schema": {
          "fields": [
           {
            "metadata": {
             "comment": "name of the column"
            },
            "name": "col_name",
            "nullable": false,
            "type": "string"
           },
           {
            "metadata": {
             "comment": "data type of the column"
            },
            "name": "data_type",
            "nullable": false,
            "type": "string"
           },
           {
            "metadata": {
             "comment": "comment of the column"
            },
            "name": "comment",
            "nullable": true,
            "type": "string"
           }
          ],
          "type": "struct"
         },
         "tableIdentifier": null,
         "typeStr": "pyspark.sql.dataframe.DataFrame"
        }
       ],
       "dbfsResultPath": null,
       "isJsonSchema": true,
       "metadata": {
        "dataframeName": "_sqldf",
        "executionCount": 195
       },
       "overflow": false,
       "plotOptions": {
        "customPlotOptions": {},
        "displayType": "table",
        "pivotAggregation": null,
        "pivotColumns": null,
        "xColumns": null,
        "yColumns": null
       },
       "removedWidgets": [],
       "schema": [
        {
         "metadata": "{\"comment\":\"name of the column\"}",
         "name": "col_name",
         "type": "\"string\""
        },
        {
         "metadata": "{\"comment\":\"data type of the column\"}",
         "name": "data_type",
         "type": "\"string\""
        },
        {
         "metadata": "{\"comment\":\"comment of the column\"}",
         "name": "comment",
         "type": "\"string\""
        }
       ],
       "type": "table"
      }
     },
     "output_type": "display_data"
    }
   ],
   "source": [
    "%sql\n",
    "\n",
    "DESCRIBE TABLE Dataset_l1_final_day"
   ]
  },
  {
   "cell_type": "code",
   "execution_count": 0,
   "metadata": {
    "application/vnd.databricks.v1+cell": {
     "cellMetadata": {
      "byteLimit": 2048000,
      "implicitDf": true,
      "rowLimit": 10000
     },
     "inputWidgets": {},
     "nuid": "cca595a2-b477-465f-b546-e0ee5466a77e",
     "showTitle": false,
     "title": ""
    }
   },
   "outputs": [
    {
     "output_type": "display_data",
     "data": {
      "text/html": [
       "<style scoped>\n",
       "  .table-result-container {\n",
       "    max-height: 300px;\n",
       "    overflow: auto;\n",
       "  }\n",
       "  table, th, td {\n",
       "    border: 1px solid black;\n",
       "    border-collapse: collapse;\n",
       "  }\n",
       "  th, td {\n",
       "    padding: 5px;\n",
       "  }\n",
       "  th {\n",
       "    text-align: left;\n",
       "  }\n",
       "</style><div class='table-result-container'><table class='table-result'><thead style='background-color: white'><tr><th>count(1)</th></tr></thead><tbody><tr><td>23669325</td></tr></tbody></table></div>"
      ]
     },
     "metadata": {
      "application/vnd.databricks.v1+output": {
       "addedWidgets": {},
       "aggData": [],
       "aggError": "",
       "aggOverflow": false,
       "aggSchema": [],
       "aggSeriesLimitReached": false,
       "aggType": "",
       "arguments": {},
       "columnCustomDisplayInfos": {},
       "data": [
        [
         23669325
        ]
       ],
       "datasetInfos": [
        {
         "name": "_sqldf",
         "schema": {
          "fields": [
           {
            "metadata": {
             "__autoGeneratedAlias": "true"
            },
            "name": "count(1)",
            "nullable": false,
            "type": "long"
           }
          ],
          "type": "struct"
         },
         "tableIdentifier": null,
         "typeStr": "pyspark.sql.dataframe.DataFrame"
        }
       ],
       "dbfsResultPath": null,
       "isJsonSchema": true,
       "metadata": {
        "dataframeName": "_sqldf",
        "executionCount": 196
       },
       "overflow": false,
       "plotOptions": {
        "customPlotOptions": {},
        "displayType": "table",
        "pivotAggregation": null,
        "pivotColumns": null,
        "xColumns": null,
        "yColumns": null
       },
       "removedWidgets": [],
       "schema": [
        {
         "metadata": "{\"__autoGeneratedAlias\":\"true\"}",
         "name": "count(1)",
         "type": "\"long\""
        }
       ],
       "type": "table"
      }
     },
     "output_type": "display_data"
    }
   ],
   "source": [
    "%sql\n",
    "\n",
    "----- Delta SQL Pipeline to build the Training set\n",
    "-- IN this series of Delta table based Spark SQL pipeline we cleanse the data, impute where necessary & create new Engineered Features\n",
    "-- This set of improvements & engineering has been curated over multiple experiments on the ML side to improve overall performance of the \n",
    "-- FLIGHT DELAY PREDICTION problem we are working on\n",
    "\n",
    "DROP TABLE IF EXISTS Dataset_l2_final_day;\n",
    "CREATE TABLE Dataset_l2_final_day\n",
    "USING DELTA\n",
    "AS SELECT a.*, DATE(from_utc_timestamp(actual_arr_timestamp, 'UTC')) FL_ARR_DATE_UTC,\n",
    "IF(a.FL_DATE = b.Date, 1, 0) AS Is_Holiday\n",
    "FROM Dataset_l1_final_day a \n",
    "LEFT JOIN US_Holidays b  \n",
    "ON a.FL_DATE = b.Date \n",
    "WHERE previous_flight_delay_status is NOT NULL\n",
    "AND actual_arr_timestamp IS NOT NULL;\n",
    "\n",
    "DROP TABLE  IF EXISTS Dataset_l3_final_day;\n",
    "\n",
    "--SELECT COUNT(*) FROM Dataset_l2_final_day;\n",
    "\n",
    "CREATE TABLE Dataset_l3_final_day\n",
    "USING DELTA\n",
    "AS SELECT a.*, \n",
    "concat_ws('_', OP_UNIQUE_CARRIER, OP_CARRIER_AIRLINE_ID, TAIL_NUM) AS FL_ID,\n",
    "HOUR(scheduled_dep_time_UTC) AS dep_Hour,\n",
    "HOUR(scheduled_arr_time_UTC) AS arr_Hour\n",
    "FROM Dataset_l2_final_day a \n",
    "WHERE ARR_DEL15 IS NOT NULL\n",
    "AND CRS_ARR_TIME IS NOT NULL\n",
    "AND ARR_TIME IS NOT NULL;\n",
    "\n",
    "--SELECT COUNT(*) FROM Dataset_l3_final_day;\n",
    "\n",
    "DROP TABLE  IF EXISTS Dataset_l4_final_feat1_day;\n",
    "CREATE TABLE Dataset_l4_final_feat1_day\n",
    "USING DELTA\n",
    "AS SELECT FL_DATE, ORIGIN, dep_Hour, COUNT(*) AS num_fl_departing_this_hour_ORIGIN\n",
    "FROM Dataset_l3_final_day a \n",
    "GROUP BY FL_DATE, ORIGIN, dep_Hour;\n",
    "\n",
    "DROP TABLE  IF EXISTS Dataset_l4_final_feat2_day;\n",
    "CREATE TABLE Dataset_l4_final_feat2_day\n",
    "USING DELTA\n",
    "AS SELECT FL_DATE, DEST, arr_Hour, COUNT(*) AS num_fl_arriving_this_hour_ORIGIN\n",
    "FROM Dataset_l3_final_day a \n",
    "GROUP BY FL_DATE, DEST, arr_Hour;\n",
    "\n",
    "DROP TABLE IF EXISTS Dataset_l4_final_day;\n",
    "\n",
    "CREATE TABLE Dataset_l4_final_day\n",
    "USING DELTA\n",
    "AS\n",
    "SELECT a.*, \n",
    "COALESCE(b.num_fl_departing_this_hour_ORIGIN, 0) AS num_fl_departing_this_hour_ORIGIN, \n",
    "COALESCE(c.num_fl_arriving_this_hour_ORIGIN, 0) AS num_fl_arriving_this_hour_ORIGIN\n",
    "FROM Dataset_l3_final_day a\n",
    "LEFT JOIN Dataset_l4_final_feat1_day b\n",
    "ON a.FL_DATE = b.FL_DATE AND a.ORIGIN = b.ORIGIN AND a.dep_Hour = b.dep_Hour\n",
    "LEFT JOIN Dataset_l4_final_feat2_day c\n",
    "ON a.FL_DATE = c.FL_DATE AND a.ORIGIN = c.DEST AND a.dep_Hour = c.arr_hour;\n",
    "\n",
    "\n",
    "--SELECT COUNT(*) FROM Dataset_l4_final_day;\n",
    "\n",
    "DROP TABLE IF EXISTS Dataset_l5_final_day;\n",
    "\n",
    "CREATE TABLE Dataset_l5_final_day\n",
    "USING delta\n",
    "AS SELECT *, monotonically_increasing_id() as FL_SURR_KEY,\n",
    "COALESCE(LAST_VALUE(HourlyAltimeterSetting, TRUE) OVER (PARTITION BY FL_ID ORDER BY sched_depart_date_time_UTC RANGE BETWEEN INTERVAL 1 DAY PRECEDING AND CURRENT ROW), 0) AS HourlyAltimeterSetting_imputed,\n",
    "COALESCE(LAST_VALUE(HourlyDewPointTemperature, TRUE) OVER (PARTITION BY FL_ID ORDER BY sched_depart_date_time_UTC RANGE BETWEEN INTERVAL 1 DAY PRECEDING AND CURRENT ROW), 0) AS HourlyDewPointTemperature_imputed,\n",
    "COALESCE(LAST_VALUE(HourlyDryBulbTemperature, TRUE) OVER (PARTITION BY FL_ID ORDER BY sched_depart_date_time_UTC RANGE BETWEEN INTERVAL 1 DAY PRECEDING AND CURRENT ROW), 0) AS HourlyDryBulbTemperature_imputed,\n",
    "COALESCE(LAST_VALUE(HourlyWindGustSpeed, TRUE) OVER (PARTITION BY FL_ID ORDER BY sched_depart_date_time_UTC RANGE BETWEEN INTERVAL 1 DAY PRECEDING AND CURRENT ROW), 0) AS HourlyWindGustSpeed_imputed,\n",
    "COALESCE(LAST_VALUE(HourlyPrecipitation, TRUE) OVER (PARTITION BY FL_ID ORDER BY sched_depart_date_time_UTC RANGE BETWEEN INTERVAL 1 DAY PRECEDING AND CURRENT ROW), 0) AS HourlyPrecipitation_imputed,\n",
    "COALESCE(LAST_VALUE(HourlyRelativeHumidity, TRUE) OVER (PARTITION BY FL_ID ORDER BY sched_depart_date_time_UTC RANGE BETWEEN INTERVAL 1 DAY PRECEDING AND CURRENT ROW), 0) AS HourlyRelativeHumidity_imputed,\n",
    "COALESCE(LAST_VALUE(HourlyPressureChange, TRUE) OVER (PARTITION BY FL_ID ORDER BY sched_depart_date_time_UTC RANGE BETWEEN INTERVAL 1 DAY PRECEDING AND CURRENT ROW), 0) AS HourlyPressureChange_imputed,\n",
    "COALESCE(LAST_VALUE(HourlySeaLevelPressure, TRUE) OVER (PARTITION BY FL_ID ORDER BY sched_depart_date_time_UTC RANGE BETWEEN INTERVAL 1 DAY PRECEDING AND CURRENT ROW), 0) AS HourlySeaLevelPressure_imputed,\n",
    "COALESCE(LAST_VALUE(HourlyStationPressure, TRUE) OVER (PARTITION BY FL_ID ORDER BY sched_depart_date_time_UTC RANGE BETWEEN INTERVAL 1 DAY PRECEDING AND CURRENT ROW), 0) AS HourlyStationPressure_imputed,\n",
    "COALESCE(LAST_VALUE(HourlyVisibility, TRUE) OVER (PARTITION BY FL_ID ORDER BY sched_depart_date_time_UTC RANGE BETWEEN INTERVAL 1 DAY PRECEDING AND CURRENT ROW), 0) AS HourlyVisibility_imputed,\n",
    "COALESCE(LAST_VALUE(HourlyWetBulbTemperature, TRUE) OVER (PARTITION BY FL_ID ORDER BY sched_depart_date_time_UTC RANGE BETWEEN INTERVAL 1 DAY PRECEDING AND CURRENT ROW), 0) AS HourlyWetBulbTemperature_imputed,\n",
    "COALESCE(LAST_VALUE(HourlyWindDirection, TRUE) OVER (PARTITION BY FL_ID ORDER BY sched_depart_date_time_UTC RANGE BETWEEN INTERVAL 1 DAY PRECEDING AND CURRENT ROW), 0) AS HourlyWindDirection_imputed,\n",
    "COALESCE(LAST_VALUE(HourlyWindSpeed, TRUE) OVER (PARTITION BY FL_ID ORDER BY sched_depart_date_time_UTC RANGE BETWEEN INTERVAL 1 DAY PRECEDING AND CURRENT ROW), 0) AS HourlyWindSpeed_imputed\n",
    "FROM Dataset_l4_final_day;\n",
    "\n",
    "--SELECT COUNT(*) FROM Dataset_l5_final_day;\n",
    "\n",
    "DROP TABLE IF EXISTS Dataset_l5_final_feat_day;\n",
    "\n",
    "CREATE TABLE Dataset_l5_final_feat_day\n",
    "USING delta\n",
    "AS\n",
    "SELECT FL_DATE, ORIGIN, COUNT(*) AS total_flights_on_fl_date_origin\n",
    "FROM Dataset_l5_final_day \n",
    "GROUP BY FL_DATE, ORIGIN;\n",
    "\n",
    "DROP TABLE IF EXISTS Dataset_l6_final_day;\n",
    "\n",
    "CREATE TABLE Dataset_l6_final_day\n",
    "USING delta\n",
    "AS\n",
    "SELECT a.*, b.total_flights_on_fl_date_origin FROM Dataset_l5_final_day a \n",
    "LEFT JOIN Dataset_l5_final_feat_day b\n",
    "ON a.FL_DATE = b.FL_DATE AND a.ORIGIN = b.ORIGIN;\n",
    "\n",
    "--SELECT COUNT(*) FROM Dataset_l6_final_day;\n",
    "\n",
    "DROP TABLE IF EXISTS Dataset_l7_final_day;\n",
    "CREATE TABLE Dataset_l7_final_day\n",
    "USING delta\n",
    "AS SELECT \n",
    "    a.* ,\n",
    "    CASE WHEN HourlySkyConditions LIKE '%CLR:%' THEN 1 ELSE 0 END AS is_CLR,  --- Instead could we add the count ?????\n",
    "    CASE WHEN HourlySkyConditions LIKE '%FEW:%' THEN 1 ELSE 0 END AS is_FEW,\n",
    "    CASE WHEN HourlySkyConditions LIKE '%BKN:%' THEN 1 ELSE 0 END AS is_BKN,\n",
    "    CASE WHEN HourlySkyConditions LIKE '%OVC:%' THEN 1 ELSE 0 END AS is_OVC,\n",
    "    CASE WHEN HourlySkyConditions LIKE '%SCT:%' THEN 1 ELSE 0 END AS is_SCT,\n",
    "    CASE WHEN HourlySkyConditions LIKE '%VV:%' THEN 1 ELSE 0 END AS is_VV,\n",
    "    CASE WHEN HourlySkyConditions LIKE '%X:%' THEN 1 ELSE 0 END AS is_X\n",
    "FROM Dataset_l6_final_day a ;\n",
    "\n",
    "--SELECT COUNT(*) FROM Dataset_l7_final_day;\n",
    " \n",
    "DROP TABLE IF EXISTS Dataset_l8_final_day;\n",
    "CREATE TABLE Dataset_l8_final_day\n",
    "USING DELTA \n",
    "AS\n",
    "WITH avg_wind_gusts AS (\n",
    "    SELECT FL_DATE, hour,\n",
    "        AVG(\n",
    "            CASE\n",
    "                WHEN REM IS NULL OR REM = '' THEN NULL\n",
    "                ELSE CAST(REGEXP_EXTRACT(REM, 'PK WND \\\\d{3}(\\\\d{2})', 1) AS INT) * 1.15078\n",
    "            END\n",
    "        ) AS avg_wind_gusts_mph\n",
    "    FROM Dataset_l7_final_day\n",
    "    GROUP BY FL_DATE, hour\n",
    "),\n",
    "avg_precipitation AS (\n",
    "    SELECT FL_DATE, hour,\n",
    "        AVG(\n",
    "            CASE\n",
    "                WHEN REM IS NULL OR REM = '' THEN NULL \n",
    "                ELSE CAST(REGEXP_EXTRACT(REM, 'P(\\\\d{4})', 1) AS FLOAT) * 0.254\n",
    "            END\n",
    "        ) AS avg_precip_mm\n",
    "    FROM Dataset_l7_final_day\n",
    "    GROUP BY FL_DATE, hour\n",
    "),\n",
    "avg_temperature AS (\n",
    "    SELECT FL_DATE, hour,\n",
    "        AVG(\n",
    "            CASE\n",
    "                WHEN REM IS NULL OR REM = '' THEN NULL \n",
    "                ELSE (CAST(REGEXP_EXTRACT(REM, 'T(\\\\d{2})', 1) AS FLOAT) * 9 / 5) + 32\n",
    "            END\n",
    "        ) AS avg_temp\n",
    "    FROM Dataset_l7_final_day\n",
    "    GROUP BY FL_DATE, hour\n",
    ")\n",
    "SELECT CASE\n",
    "        WHEN a.REM IS NULL OR a.REM = '' THEN (CASE WHEN  b.avg_wind_gusts_mph IS NULL then 0 else b.avg_wind_gusts_mph END)\n",
    "        ELSE CAST(REGEXP_EXTRACT(a.REM, 'PK WND \\\\d{3}(\\\\d{2})', 1) AS INT) * 1.15078\n",
    "    END AS wind_gusts_mph,\n",
    "    CASE\n",
    "        WHEN a.REM IS NULL OR a.REM = '' THEN (CASE WHEN c.avg_precip_mm IS NULL then 0 else c.avg_precip_mm END)\n",
    "        ELSE CAST(REGEXP_EXTRACT(a.REM, 'P(\\\\d{4})', 1) AS FLOAT) * 0.254\n",
    "    END AS precipitation_mm,\n",
    "    CASE\n",
    "        WHEN a.REM IS NULL OR a.REM = '' THEN (CASE WHEN  d.avg_temp IS NULL then NULL else d.avg_temp END) \n",
    "        ELSE (CAST(REGEXP_EXTRACT(a.REM, 'T(\\\\d{2})', 1) AS FLOAT) * 9 / 5) + 32\n",
    "    END AS temperature_fahrenheit,\n",
    "    a.*\n",
    "FROM Dataset_l7_final_day a LEFT \n",
    "JOIN avg_wind_gusts b ON a.FL_DATE = b.FL_DATE AND a.hour = b.hour\n",
    "JOIN avg_precipitation c ON a.FL_DATE = c.FL_DATE AND a.hour = c.hour\n",
    "JOIN avg_temperature d ON a.FL_DATE = d.FL_DATE AND a.hour = d.hour;\n",
    "\n",
    "\n",
    "--SELECT COUNT(*) FROM Dataset_l8_final_day;\n",
    "\n",
    "DROP TABLE IF EXISTS Dataset_l9_final_day_temp;\n",
    "\n",
    "CREATE TABLE Dataset_l9_final_day_temp\n",
    "USING DELTA\n",
    "AS \n",
    "SELECT a.*, COALESCE(SUM(DEP_DEL15) OVER (PARTITION BY FL_ARR_DATE_UTC, ORIGIN ORDER BY two_hours_prior_depart_UTC ROWS BETWEEN UNBOUNDED PRECEDING AND 1 PRECEDING), 0) \n",
    "AS flights_delayed_at_current_origin\n",
    "FROM\n",
    "Dataset_l8_final_day a;\n",
    "\n",
    "\n",
    "SELECT COUNT(*) FROM Dataset_l9_final_day_temp;"
   ]
  },
  {
   "cell_type": "code",
   "execution_count": 0,
   "metadata": {
    "application/vnd.databricks.v1+cell": {
     "cellMetadata": {
      "byteLimit": 2048000,
      "implicitDf": true,
      "rowLimit": 10000
     },
     "inputWidgets": {},
     "nuid": "6852ab73-c2e4-46ac-9c26-2be1bd03b353",
     "showTitle": false,
     "title": ""
    }
   },
   "outputs": [
    {
     "output_type": "stream",
     "name": "stdout",
     "output_type": "stream",
     "text": [
      "['wind_gusts_mph', 'precipitation_mm', 'temperature_fahrenheit', 'FL_DATE', 'sched_depart_date_time_UTC', 'four_hours_prior_depart_UTC', 'two_hours_prior_depart_UTC', 'DATE', 'WindEquipmentChangeDate', 'scheduled_dep_timestamp', 'actual_dep_timestamp', 'scheduled_arr_timestamp', 'actual_arr_timestamp', 'earlier_timestamp', 'scheduled_dep_time_UTC', 'scheduled_arr_time_UTC', 'ORIGIN', 'OP_CARRIER_FL_NUM', 'TAIL_NUM', 'QUARTER', 'DAY_OF_MONTH', 'DAY_OF_WEEK', 'OP_UNIQUE_CARRIER', 'OP_CARRIER_AIRLINE_ID', 'OP_CARRIER', 'ORIGIN_AIRPORT_ID', 'ORIGIN_AIRPORT_SEQ_ID', 'ORIGIN_CITY_MARKET_ID', 'ORIGIN_CITY_NAME', 'ORIGIN_STATE_ABR', 'ORIGIN_STATE_FIPS', 'ORIGIN_STATE_NM', 'ORIGIN_WAC', 'DEST_AIRPORT_ID', 'DEST_AIRPORT_SEQ_ID', 'DEST_CITY_MARKET_ID', 'DEST', 'DEST_CITY_NAME', 'DEST_STATE_ABR', 'DEST_STATE_FIPS', 'DEST_STATE_NM', 'DEST_WAC', 'CRS_DEP_TIME', 'DEP_TIME', 'DEP_DELAY', 'DEP_DELAY_NEW', 'DEP_DEL15', 'DEP_DELAY_GROUP', 'DEP_TIME_BLK', 'TAXI_OUT', 'WHEELS_OFF', 'WHEELS_ON', 'TAXI_IN', 'CRS_ARR_TIME', 'ARR_TIME', 'ARR_DELAY', 'ARR_DELAY_NEW', 'ARR_DEL15', 'ARR_DELAY_GROUP', 'ARR_TIME_BLK', 'CANCELLED', 'DIVERTED', 'CRS_ELAPSED_TIME', 'ACTUAL_ELAPSED_TIME', 'AIR_TIME', 'FLIGHTS', 'DISTANCE', 'DISTANCE_GROUP', 'YEAR', 'MONTH', 'origin_airport_name', 'origin_station_name', 'origin_station_id', 'origin_iata_code', 'origin_icao', 'origin_type', 'origin_region', 'origin_station_lat', 'origin_station_lon', 'origin_airport_lat', 'origin_airport_lon', 'origin_station_dis', 'dest_airport_name', 'dest_station_name', 'dest_station_id', 'dest_iata_code', 'dest_icao', 'dest_type', 'dest_region', 'dest_station_lat', 'dest_station_lon', 'dest_airport_lat', 'dest_airport_lon', 'dest_station_dis', 'STATION', 'ELEVATION', 'NAME', 'REPORT_TYPE', 'SOURCE', 'HourlyAltimeterSetting', 'HourlyWindGustSpeed', 'HourlyDewPointTemperature', 'HourlyDryBulbTemperature', 'HourlyPrecipitation', 'HourlyPressureChange', 'HourlyPressureTendency', 'HourlyRelativeHumidity', 'HourlySkyConditions', 'HourlySeaLevelPressure', 'HourlyStationPressure', 'HourlyVisibility', 'HourlyWetBulbTemperature', 'HourlyWindDirection', 'HourlyWindSpeed', 'REM', 'IATA', 'dest_tz', 'origin_tz', 'scheduled_dep_time', 'hour', 'actual_dep_time', 'scheduled_arr_time', 'actual_arr_time', 'previous_flight_delay_status', 'MIN_DIST_FROM_HOLIDAY', 'Outlinks', 'FL_ARR_DATE_UTC', 'Is_Holiday', 'FL_ID', 'dep_Hour', 'arr_Hour', 'num_fl_departing_this_hour_ORIGIN', 'num_fl_arriving_this_hour_ORIGIN', 'FL_SURR_KEY', 'HourlyAltimeterSetting_imputed', 'HourlyDewPointTemperature_imputed', 'HourlyDryBulbTemperature_imputed', 'HourlyWindGustSpeed_imputed', 'HourlyPrecipitation_imputed', 'HourlyRelativeHumidity_imputed', 'HourlyPressureChange_imputed', 'HourlySeaLevelPressure_imputed', 'HourlyStationPressure_imputed', 'HourlyVisibility_imputed', 'HourlyWetBulbTemperature_imputed', 'HourlyWindDirection_imputed', 'HourlyWindSpeed_imputed', 'total_flights_on_fl_date_origin', 'is_CLR', 'is_FEW', 'is_BKN', 'is_OVC', 'is_SCT', 'is_VV', 'is_X', 'flights_delayed_at_current_origin']\n"
     ]
    }
   ],
   "source": [
    "\n",
    "describe_result = spark.sql(\"DESCRIBE TABLE Dataset_l9_final_day_temp\")\n",
    "\n",
    "column_names = [row['col_name'] for row in describe_result.collect()]\n",
    "\n",
    "print(column_names)\n"
   ]
  },
  {
   "cell_type": "markdown",
   "metadata": {
    "application/vnd.databricks.v1+cell": {
     "cellMetadata": {
      "byteLimit": 2048000,
      "rowLimit": 10000
     },
     "inputWidgets": {},
     "nuid": "ee799db9-b103-41b5-ae51-f691bf72a7db",
     "showTitle": false,
     "title": ""
    }
   },
   "source": [
    "## Validation Pipeline"
   ]
  },
  {
   "cell_type": "code",
   "execution_count": 0,
   "metadata": {
    "application/vnd.databricks.v1+cell": {
     "cellMetadata": {
      "byteLimit": 2048000,
      "rowLimit": 10000
     },
     "inputWidgets": {},
     "nuid": "69f1f5af-c0bc-4f65-b266-b742fee6faf8",
     "showTitle": false,
     "title": ""
    }
   },
   "outputs": [],
   "source": [
    "val_df = spark.read.parquet(f\"{team_blob_url}/val_allfeatures.parquet/\").cache()"
   ]
  },
  {
   "cell_type": "code",
   "execution_count": 0,
   "metadata": {
    "application/vnd.databricks.v1+cell": {
     "cellMetadata": {
      "byteLimit": 2048000,
      "rowLimit": 10000
     },
     "inputWidgets": {},
     "nuid": "f1dce30d-3456-4ffa-942b-b050160df010",
     "showTitle": false,
     "title": ""
    }
   },
   "outputs": [],
   "source": [
    "data_v = val_df.select('FL_DATE', 'sched_depart_date_time_UTC', 'four_hours_prior_depart_UTC', 'two_hours_prior_depart_UTC', 'DATE', 'WindEquipmentChangeDate', 'scheduled_dep_timestamp', 'actual_dep_timestamp', 'scheduled_arr_timestamp', 'actual_arr_timestamp', 'earlier_timestamp', 'scheduled_dep_time_UTC', 'scheduled_arr_time_UTC','ORIGIN', 'OP_CARRIER_FL_NUM', 'TAIL_NUM', 'QUARTER', 'DAY_OF_MONTH', 'DAY_OF_WEEK', 'OP_UNIQUE_CARRIER', 'OP_CARRIER_AIRLINE_ID',  'OP_CARRIER', 'ORIGIN_AIRPORT_ID', 'ORIGIN_AIRPORT_SEQ_ID', 'ORIGIN_CITY_MARKET_ID', 'ORIGIN_CITY_NAME', 'ORIGIN_STATE_ABR', 'ORIGIN_STATE_FIPS', 'ORIGIN_STATE_NM', 'ORIGIN_WAC', 'DEST_AIRPORT_ID', 'DEST_AIRPORT_SEQ_ID', 'DEST_CITY_MARKET_ID', 'DEST', 'DEST_CITY_NAME', 'DEST_STATE_ABR', 'DEST_STATE_FIPS', 'DEST_STATE_NM', 'DEST_WAC', 'CRS_DEP_TIME', 'DEP_TIME', 'DEP_DELAY', 'DEP_DELAY_NEW', 'DEP_DEL15', 'DEP_DELAY_GROUP', 'DEP_TIME_BLK', 'TAXI_OUT', 'WHEELS_OFF', 'WHEELS_ON', 'TAXI_IN', 'CRS_ARR_TIME', 'ARR_TIME', 'ARR_DELAY', 'ARR_DELAY_NEW', 'ARR_DEL15', 'ARR_DELAY_GROUP', 'ARR_TIME_BLK', 'CANCELLED', 'DIVERTED', 'CRS_ELAPSED_TIME', 'ACTUAL_ELAPSED_TIME', 'AIR_TIME', 'FLIGHTS', 'DISTANCE', 'DISTANCE_GROUP', 'YEAR', 'MONTH', 'origin_airport_name', 'origin_station_name', 'origin_station_id', 'origin_iata_code', 'origin_icao', 'origin_type', 'origin_region', 'origin_station_lat', 'origin_station_lon', 'origin_airport_lat', 'origin_airport_lon', 'origin_station_dis', 'dest_airport_name', 'dest_station_name', 'dest_station_id', 'dest_iata_code', 'dest_icao', 'dest_type', 'dest_region', 'dest_station_lat', 'dest_station_lon', 'dest_airport_lat', 'dest_airport_lon', 'dest_station_dis', 'STATION', 'ELEVATION', 'NAME', 'REPORT_TYPE', 'SOURCE', 'HourlyAltimeterSetting', 'HourlyWindGustSpeed','HourlyDewPointTemperature', 'HourlyDryBulbTemperature', 'HourlyPrecipitation', 'HourlyPressureChange', 'HourlyPressureTendency', 'HourlyRelativeHumidity', 'HourlySkyConditions', 'HourlySeaLevelPressure', 'HourlyStationPressure', 'HourlyVisibility', 'HourlyWetBulbTemperature', 'HourlyWindDirection', 'HourlyWindSpeed', 'REM', 'IATA', 'dest_tz', 'origin_tz', 'scheduled_dep_time', 'hour', 'actual_dep_time', 'scheduled_arr_time', 'actual_arr_time', 'previous_flight_delay_status', 'MIN_DIST_FROM_HOLIDAY', 'Outlinks')"
   ]
  },
  {
   "cell_type": "code",
   "execution_count": 0,
   "metadata": {
    "application/vnd.databricks.v1+cell": {
     "cellMetadata": {
      "byteLimit": 2048000,
      "rowLimit": 10000
     },
     "inputWidgets": {},
     "nuid": "975f3fd2-046d-4dae-949b-82a1143588b0",
     "showTitle": false,
     "title": ""
    }
   },
   "outputs": [],
   "source": [
    "data_v = data_v.filter(col('TAIL_NUM').isNotNull()).filter(col('DEP_DEL15').isNotNull()).filter(col('Diverted') != 1)"
   ]
  },
  {
   "cell_type": "code",
   "execution_count": 0,
   "metadata": {
    "application/vnd.databricks.v1+cell": {
     "cellMetadata": {
      "byteLimit": 2048000,
      "rowLimit": 10000
     },
     "inputWidgets": {},
     "nuid": "304d69f7-f202-4d2e-a2e1-eb5ef24fead5",
     "showTitle": false,
     "title": ""
    }
   },
   "outputs": [],
   "source": [
    "data_v.write.format('delta').mode('overwrite').option(\"overwriteSchema\", \"true\").save(f\"{team_blob_url}/saket_output_delta_valdf_9623/\")"
   ]
  },
  {
   "cell_type": "code",
   "execution_count": 0,
   "metadata": {
    "application/vnd.databricks.v1+cell": {
     "cellMetadata": {
      "byteLimit": 2048000,
      "rowLimit": 10000
     },
     "inputWidgets": {},
     "nuid": "7ac58c98-e2b1-4132-bb1a-c8624ea8ce07",
     "showTitle": false,
     "title": ""
    }
   },
   "outputs": [
    {
     "output_type": "execute_result",
     "data": {
      "text/plain": [
       "DataFrame[]"
      ]
     },
     "execution_count": 202,
     "metadata": {},
     "output_type": "execute_result"
    }
   ],
   "source": [
    "spark.sql(f\"DROP TABLE IF EXISTS Dataset_l1_final_day_val\")\n",
    "spark.sql(f\"CREATE TABLE Dataset_l1_final_day_val USING DELTA LOCATION '{team_blob_url}/saket_output_delta_valdf_9623/'\")"
   ]
  },
  {
   "cell_type": "code",
   "execution_count": 0,
   "metadata": {
    "application/vnd.databricks.v1+cell": {
     "cellMetadata": {
      "byteLimit": 2048000,
      "implicitDf": true,
      "rowLimit": 10000
     },
     "inputWidgets": {},
     "nuid": "50cab473-44a3-449e-af2f-95a74331b7d7",
     "showTitle": false,
     "title": ""
    }
   },
   "outputs": [
    {
     "output_type": "display_data",
     "data": {
      "text/html": [
       "<style scoped>\n",
       "  .table-result-container {\n",
       "    max-height: 300px;\n",
       "    overflow: auto;\n",
       "  }\n",
       "  table, th, td {\n",
       "    border: 1px solid black;\n",
       "    border-collapse: collapse;\n",
       "  }\n",
       "  th, td {\n",
       "    padding: 5px;\n",
       "  }\n",
       "  th {\n",
       "    text-align: left;\n",
       "  }\n",
       "</style><div class='table-result-container'><table class='table-result'><thead style='background-color: white'><tr><th>count(1)</th></tr></thead><tbody><tr><td>7244932</td></tr></tbody></table></div>"
      ]
     },
     "metadata": {
      "application/vnd.databricks.v1+output": {
       "addedWidgets": {},
       "aggData": [],
       "aggError": "",
       "aggOverflow": false,
       "aggSchema": [],
       "aggSeriesLimitReached": false,
       "aggType": "",
       "arguments": {},
       "columnCustomDisplayInfos": {},
       "data": [
        [
         7244932
        ]
       ],
       "datasetInfos": [
        {
         "name": "_sqldf",
         "schema": {
          "fields": [
           {
            "metadata": {
             "__autoGeneratedAlias": "true"
            },
            "name": "count(1)",
            "nullable": false,
            "type": "long"
           }
          ],
          "type": "struct"
         },
         "tableIdentifier": null,
         "typeStr": "pyspark.sql.dataframe.DataFrame"
        }
       ],
       "dbfsResultPath": null,
       "isJsonSchema": true,
       "metadata": {
        "dataframeName": "_sqldf",
        "executionCount": 203
       },
       "overflow": false,
       "plotOptions": {
        "customPlotOptions": {},
        "displayType": "table",
        "pivotAggregation": null,
        "pivotColumns": null,
        "xColumns": null,
        "yColumns": null
       },
       "removedWidgets": [],
       "schema": [
        {
         "metadata": "{\"__autoGeneratedAlias\":\"true\"}",
         "name": "count(1)",
         "type": "\"long\""
        }
       ],
       "type": "table"
      }
     },
     "output_type": "display_data"
    }
   ],
   "source": [
    "%sql \n",
    "\n",
    "SELECT COUNT(*) FROM Dataset_l1_final_day_val;"
   ]
  },
  {
   "cell_type": "code",
   "execution_count": 0,
   "metadata": {
    "application/vnd.databricks.v1+cell": {
     "cellMetadata": {
      "byteLimit": 2048000,
      "implicitDf": true,
      "rowLimit": 10000
     },
     "inputWidgets": {},
     "nuid": "dcd65db2-64d5-477d-a9ac-7f70de3b1478",
     "showTitle": false,
     "title": ""
    }
   },
   "outputs": [
    {
     "output_type": "display_data",
     "data": {
      "text/html": [
       "<style scoped>\n",
       "  .table-result-container {\n",
       "    max-height: 300px;\n",
       "    overflow: auto;\n",
       "  }\n",
       "  table, th, td {\n",
       "    border: 1px solid black;\n",
       "    border-collapse: collapse;\n",
       "  }\n",
       "  th, td {\n",
       "    padding: 5px;\n",
       "  }\n",
       "  th {\n",
       "    text-align: left;\n",
       "  }\n",
       "</style><div class='table-result-container'><table class='table-result'><thead style='background-color: white'><tr><th>count(1)</th></tr></thead><tbody><tr><td>7154007</td></tr></tbody></table></div>"
      ]
     },
     "metadata": {
      "application/vnd.databricks.v1+output": {
       "addedWidgets": {},
       "aggData": [],
       "aggError": "",
       "aggOverflow": false,
       "aggSchema": [],
       "aggSeriesLimitReached": false,
       "aggType": "",
       "arguments": {},
       "columnCustomDisplayInfos": {},
       "data": [
        [
         7154007
        ]
       ],
       "datasetInfos": [
        {
         "name": "_sqldf",
         "schema": {
          "fields": [
           {
            "metadata": {
             "__autoGeneratedAlias": "true"
            },
            "name": "count(1)",
            "nullable": false,
            "type": "long"
           }
          ],
          "type": "struct"
         },
         "tableIdentifier": null,
         "typeStr": "pyspark.sql.dataframe.DataFrame"
        }
       ],
       "dbfsResultPath": null,
       "isJsonSchema": true,
       "metadata": {
        "dataframeName": "_sqldf",
        "executionCount": 204
       },
       "overflow": false,
       "plotOptions": {
        "customPlotOptions": {},
        "displayType": "table",
        "pivotAggregation": null,
        "pivotColumns": null,
        "xColumns": null,
        "yColumns": null
       },
       "removedWidgets": [],
       "schema": [
        {
         "metadata": "{\"__autoGeneratedAlias\":\"true\"}",
         "name": "count(1)",
         "type": "\"long\""
        }
       ],
       "type": "table"
      }
     },
     "output_type": "display_data"
    }
   ],
   "source": [
    "%sql\n",
    "----- Delta SQL Pipeline to build the Training set-----\n",
    "-- IN this series of Delta table based Spark SQL pipeline we cleanse the data, impute where necessary & create new Engineered Features\n",
    "-- This set of improvements & engineering has been curated over multiple experiments on the ML side to improve overall performance of the \n",
    "-- FLIGHT DELAY PREDICTION problem we are working on\n",
    "DROP TABLE IF EXISTS Dataset_l2_final_day_val;\n",
    "CREATE TABLE Dataset_l2_final_day_val\n",
    "USING DELTA\n",
    "AS SELECT a.*, DATE(from_utc_timestamp(actual_arr_timestamp, 'UTC')) FL_ARR_DATE_UTC,\n",
    "IF(a.FL_DATE = b.Date, 1, 0) AS Is_Holiday\n",
    "FROM Dataset_l1_final_day_val a \n",
    "LEFT JOIN US_Holidays b  \n",
    "ON a.FL_DATE = b.Date WHERE previous_flight_delay_status is NOT NULL\n",
    "AND actual_arr_timestamp IS NOT NULL;;\n",
    "\n",
    "DROP TABLE  IF EXISTS Dataset_l3_final_day_val;\n",
    "\n",
    "--SELECT COUNT(*) FROM Dataset_l2_final_day_val;\n",
    "\n",
    "CREATE TABLE Dataset_l3_final_day_val\n",
    "USING DELTA\n",
    "AS SELECT a.*, \n",
    "concat_ws('_', OP_UNIQUE_CARRIER, OP_CARRIER_AIRLINE_ID, TAIL_NUM) AS FL_ID,\n",
    "HOUR(scheduled_dep_time_UTC) AS dep_Hour,\n",
    "HOUR(scheduled_arr_time_UTC) AS arr_Hour\n",
    "FROM Dataset_l2_final_day_val a \n",
    "WHERE ARR_DEL15 IS NOT NULL\n",
    "AND CRS_ARR_TIME IS NOT NULL\n",
    "AND ARR_TIME IS NOT NULL;\n",
    "\n",
    "--SELECT COUNT(*) FROM Dataset_l3_final_day_val;\n",
    "\n",
    "DROP TABLE  IF EXISTS Dataset_l4_final_feat1_day_val;\n",
    "CREATE TABLE Dataset_l4_final_feat1_day_val\n",
    "USING DELTA\n",
    "AS SELECT FL_DATE, ORIGIN, dep_Hour, COUNT(*) AS num_fl_departing_this_hour_ORIGIN\n",
    "FROM Dataset_l3_final_day_val a \n",
    "GROUP BY FL_DATE, ORIGIN, dep_Hour;\n",
    "\n",
    "DROP TABLE  IF EXISTS Dataset_l4_final_feat2_day_val;\n",
    "CREATE TABLE Dataset_l4_final_feat2_day_val\n",
    "USING DELTA\n",
    "AS SELECT FL_DATE, DEST, arr_Hour, COUNT(*) AS num_fl_arriving_this_hour_ORIGIN\n",
    "FROM Dataset_l3_final_day_val a \n",
    "GROUP BY FL_DATE, DEST, arr_Hour;\n",
    "\n",
    "DROP TABLE IF EXISTS Dataset_l4_final_day_val;\n",
    "\n",
    "CREATE TABLE Dataset_l4_final_day_val\n",
    "USING DELTA\n",
    "AS\n",
    "SELECT a.*, \n",
    "COALESCE(b.num_fl_departing_this_hour_ORIGIN, 0) AS num_fl_departing_this_hour_ORIGIN, \n",
    "COALESCE(c.num_fl_arriving_this_hour_ORIGIN, 0) AS num_fl_arriving_this_hour_ORIGIN\n",
    "FROM Dataset_l3_final_day_val a\n",
    "LEFT JOIN Dataset_l4_final_feat1_day_val b\n",
    "ON a.FL_DATE = b.FL_DATE AND a.ORIGIN = b.ORIGIN AND a.dep_Hour = b.dep_Hour\n",
    "LEFT JOIN Dataset_l4_final_feat2_day_val c\n",
    "ON a.FL_DATE = c.FL_DATE AND a.ORIGIN = c.DEST AND a.dep_Hour = c.arr_hour;\n",
    "\n",
    "\n",
    "--SELECT COUNT(*) FROM Dataset_l4_final_day_val;\n",
    "\n",
    "DROP TABLE IF EXISTS Dataset_l5_final_day_val;\n",
    "\n",
    "CREATE TABLE Dataset_l5_final_day_val\n",
    "USING delta\n",
    "AS SELECT *, monotonically_increasing_id() as FL_SURR_KEY,\n",
    "COALESCE(LAST_VALUE(HourlyAltimeterSetting, TRUE) OVER (PARTITION BY FL_ID ORDER BY sched_depart_date_time_UTC RANGE BETWEEN INTERVAL 1 DAY PRECEDING AND CURRENT ROW), 0) AS HourlyAltimeterSetting_imputed,\n",
    "COALESCE(LAST_VALUE(HourlyDewPointTemperature, TRUE) OVER (PARTITION BY FL_ID ORDER BY sched_depart_date_time_UTC RANGE BETWEEN INTERVAL 1 DAY PRECEDING AND CURRENT ROW), 0) AS HourlyDewPointTemperature_imputed,\n",
    "COALESCE(LAST_VALUE(HourlyDryBulbTemperature, TRUE) OVER (PARTITION BY FL_ID ORDER BY sched_depart_date_time_UTC RANGE BETWEEN INTERVAL 1 DAY PRECEDING AND CURRENT ROW), 0) AS HourlyDryBulbTemperature_imputed,\n",
    "COALESCE(LAST_VALUE(HourlyWindGustSpeed, TRUE) OVER (PARTITION BY FL_ID ORDER BY sched_depart_date_time_UTC RANGE BETWEEN INTERVAL 1 DAY PRECEDING AND CURRENT ROW), 0) AS HourlyWindGustSpeed_imputed,\n",
    "COALESCE(LAST_VALUE(HourlyPrecipitation, TRUE) OVER (PARTITION BY FL_ID ORDER BY sched_depart_date_time_UTC RANGE BETWEEN INTERVAL 1 DAY PRECEDING AND CURRENT ROW), 0) AS HourlyPrecipitation_imputed,\n",
    "COALESCE(LAST_VALUE(HourlyRelativeHumidity, TRUE) OVER (PARTITION BY FL_ID ORDER BY sched_depart_date_time_UTC RANGE BETWEEN INTERVAL 1 DAY PRECEDING AND CURRENT ROW), 0) AS HourlyRelativeHumidity_imputed,\n",
    "COALESCE(LAST_VALUE(HourlyPressureChange, TRUE) OVER (PARTITION BY FL_ID ORDER BY sched_depart_date_time_UTC RANGE BETWEEN INTERVAL 1 DAY PRECEDING AND CURRENT ROW), 0) AS HourlyPressureChange_imputed,\n",
    "COALESCE(LAST_VALUE(HourlySeaLevelPressure, TRUE) OVER (PARTITION BY FL_ID ORDER BY sched_depart_date_time_UTC RANGE BETWEEN INTERVAL 1 DAY PRECEDING AND CURRENT ROW), 0) AS HourlySeaLevelPressure_imputed,\n",
    "COALESCE(LAST_VALUE(HourlyStationPressure, TRUE) OVER (PARTITION BY FL_ID ORDER BY sched_depart_date_time_UTC RANGE BETWEEN INTERVAL 1 DAY PRECEDING AND CURRENT ROW), 0) AS HourlyStationPressure_imputed,\n",
    "COALESCE(LAST_VALUE(HourlyVisibility, TRUE) OVER (PARTITION BY FL_ID ORDER BY sched_depart_date_time_UTC RANGE BETWEEN INTERVAL 1 DAY PRECEDING AND CURRENT ROW), 0) AS HourlyVisibility_imputed,\n",
    "COALESCE(LAST_VALUE(HourlyWetBulbTemperature, TRUE) OVER (PARTITION BY FL_ID ORDER BY sched_depart_date_time_UTC RANGE BETWEEN INTERVAL 1 DAY PRECEDING AND CURRENT ROW), 0) AS HourlyWetBulbTemperature_imputed,\n",
    "COALESCE(LAST_VALUE(HourlyWindDirection, TRUE) OVER (PARTITION BY FL_ID ORDER BY sched_depart_date_time_UTC RANGE BETWEEN INTERVAL 1 DAY PRECEDING AND CURRENT ROW), 0) AS HourlyWindDirection_imputed,\n",
    "COALESCE(LAST_VALUE(HourlyWindSpeed, TRUE) OVER (PARTITION BY FL_ID ORDER BY sched_depart_date_time_UTC RANGE BETWEEN INTERVAL 1 DAY PRECEDING AND CURRENT ROW), 0) AS HourlyWindSpeed_imputed\n",
    "FROM Dataset_l4_final_day_val;\n",
    "\n",
    "--SELECT COUNT(*) FROM Dataset_l5_final_day_val;\n",
    "\n",
    "DROP TABLE IF EXISTS Dataset_l5_final_feat_day_val;\n",
    "\n",
    "CREATE TABLE Dataset_l5_final_feat_day_val\n",
    "USING delta\n",
    "AS\n",
    "SELECT FL_DATE, ORIGIN, COUNT(*) AS total_flights_on_fl_date_origin\n",
    "FROM Dataset_l5_final_day_val \n",
    "GROUP BY FL_DATE, ORIGIN;\n",
    "\n",
    "DROP TABLE IF EXISTS Dataset_l6_final_day_val;\n",
    "\n",
    "CREATE TABLE Dataset_l6_final_day_val\n",
    "USING delta\n",
    "AS\n",
    "SELECT a.*, b.total_flights_on_fl_date_origin \n",
    "FROM Dataset_l5_final_day_val a \n",
    "LEFT JOIN Dataset_l5_final_feat_day_val b\n",
    "ON a.FL_DATE = b.FL_DATE AND a.ORIGIN = b.ORIGIN;\n",
    "\n",
    "--SELECT COUNT(*) FROM Dataset_l6_final_day_val;\n",
    "\n",
    "DROP TABLE IF EXISTS Dataset_l7_final_day_val;\n",
    "CREATE TABLE Dataset_l7_final_day_val\n",
    "USING delta\n",
    "AS SELECT \n",
    "    a.* ,\n",
    "    CASE WHEN HourlySkyConditions LIKE '%CLR:%' THEN 1 ELSE 0 END AS is_CLR,  --- Instead could we add the count ?????\n",
    "    CASE WHEN HourlySkyConditions LIKE '%FEW:%' THEN 1 ELSE 0 END AS is_FEW,\n",
    "    CASE WHEN HourlySkyConditions LIKE '%BKN:%' THEN 1 ELSE 0 END AS is_BKN,\n",
    "    CASE WHEN HourlySkyConditions LIKE '%OVC:%' THEN 1 ELSE 0 END AS is_OVC,\n",
    "    CASE WHEN HourlySkyConditions LIKE '%SCT:%' THEN 1 ELSE 0 END AS is_SCT,\n",
    "    CASE WHEN HourlySkyConditions LIKE '%VV:%' THEN 1 ELSE 0 END AS is_VV,\n",
    "    CASE WHEN HourlySkyConditions LIKE '%X:%' THEN 1 ELSE 0 END AS is_X\n",
    "FROM Dataset_l6_final_day_val a;\n",
    "\n",
    "--SELECT COUNT(*) FROM Dataset_l7_final_day_val;\n",
    " \n",
    "\n",
    "\n",
    "DROP TABLE IF EXISTS Dataset_l8_final_day_val;\n",
    "CREATE TABLE Dataset_l8_final_day_val\n",
    "USING DELTA \n",
    "AS\n",
    "WITH avg_wind_gusts AS (\n",
    "    SELECT FL_DATE, hour,\n",
    "        AVG(\n",
    "            CASE\n",
    "                WHEN REM IS NULL OR REM = '' THEN NULL\n",
    "                ELSE CAST(REGEXP_EXTRACT(REM, 'PK WND \\\\d{3}(\\\\d{2})', 1) AS INT) * 1.15078\n",
    "            END\n",
    "        ) AS avg_wind_gusts_mph\n",
    "    FROM Dataset_l7_final_day_val\n",
    "    GROUP BY FL_DATE, hour\n",
    "),\n",
    "avg_precipitation AS (\n",
    "    SELECT FL_DATE, hour,\n",
    "        AVG(\n",
    "            CASE\n",
    "                WHEN REM IS NULL OR REM = '' THEN NULL \n",
    "                ELSE CAST(REGEXP_EXTRACT(REM, 'P(\\\\d{4})', 1) AS FLOAT) * 0.254\n",
    "            END\n",
    "        ) AS avg_precip_mm\n",
    "    FROM Dataset_l7_final_day_val\n",
    "    GROUP BY FL_DATE, hour\n",
    "),\n",
    "avg_temperature AS (\n",
    "    SELECT FL_DATE, hour,\n",
    "        AVG(\n",
    "            CASE\n",
    "                WHEN REM IS NULL OR REM = '' THEN NULL \n",
    "                ELSE (CAST(REGEXP_EXTRACT(REM, 'T(\\\\d{2})', 1) AS FLOAT) * 9 / 5) + 32\n",
    "            END\n",
    "        ) AS avg_temp\n",
    "    FROM Dataset_l7_final_day_val\n",
    "    GROUP BY FL_DATE, hour\n",
    ")\n",
    "SELECT CASE\n",
    "        WHEN a.REM IS NULL OR a.REM = '' THEN (CASE WHEN  b.avg_wind_gusts_mph IS NULL then 0 else b.avg_wind_gusts_mph END)\n",
    "        ELSE CAST(REGEXP_EXTRACT(a.REM, 'PK WND \\\\d{3}(\\\\d{2})', 1) AS INT) * 1.15078\n",
    "    END AS wind_gusts_mph,\n",
    "    CASE\n",
    "        WHEN a.REM IS NULL OR a.REM = '' THEN (CASE WHEN c.avg_precip_mm IS NULL then 0 else c.avg_precip_mm END)\n",
    "        ELSE CAST(REGEXP_EXTRACT(a.REM, 'P(\\\\d{4})', 1) AS FLOAT) * 0.254\n",
    "    END AS precipitation_mm,\n",
    "    CASE\n",
    "        WHEN a.REM IS NULL OR a.REM = '' THEN (CASE WHEN  d.avg_temp IS NULL then NULL else d.avg_temp END) \n",
    "        ELSE (CAST(REGEXP_EXTRACT(a.REM, 'T(\\\\d{2})', 1) AS FLOAT) * 9 / 5) + 32\n",
    "    END AS temperature_fahrenheit,\n",
    "    a.*\n",
    "FROM Dataset_l7_final_day_val a LEFT \n",
    "JOIN avg_wind_gusts b ON a.FL_DATE = b.FL_DATE AND a.hour = b.hour\n",
    "JOIN avg_precipitation c ON a.FL_DATE = c.FL_DATE AND a.hour = c.hour\n",
    "JOIN avg_temperature d ON a.FL_DATE = d.FL_DATE AND a.hour = d.hour;\n",
    "\n",
    "\n",
    "--SELECT COUNT(*) FROM Dataset_l8_final_day_val;\n",
    "\n",
    "DROP TABLE IF EXISTS Dataset_l9_final_day_temp_val;\n",
    "\n",
    "CREATE TABLE Dataset_l9_final_day_temp_val\n",
    "USING DELTA\n",
    "AS \n",
    "\n",
    "\n",
    "SELECT a.*, COALESCE(SUM(DEP_DEL15) OVER (PARTITION BY FL_ARR_DATE_UTC, ORIGIN ORDER BY two_hours_prior_depart_UTC ROWS BETWEEN UNBOUNDED PRECEDING AND 1 PRECEDING), 0) \n",
    "AS flights_delayed_at_current_origin\n",
    "FROM\n",
    "Dataset_l8_final_day_val a;\n",
    "\n",
    "\n",
    "SELECT COUNT(*) FROM Dataset_l9_final_day_temp_val;\n"
   ]
  },
  {
   "cell_type": "markdown",
   "metadata": {
    "application/vnd.databricks.v1+cell": {
     "cellMetadata": {
      "byteLimit": 2048000,
      "rowLimit": 10000
     },
     "inputWidgets": {},
     "nuid": "f51e9968-015e-40c1-8568-4afa16bcdf47",
     "showTitle": false,
     "title": ""
    }
   },
   "source": [
    "### Sanity check for NULLs"
   ]
  },
  {
   "cell_type": "code",
   "execution_count": 0,
   "metadata": {
    "application/vnd.databricks.v1+cell": {
     "cellMetadata": {
      "byteLimit": 2048000,
      "rowLimit": 10000
     },
     "inputWidgets": {},
     "nuid": "d5846111-f8f0-4c90-8c41-4ac822af1ead",
     "showTitle": false,
     "title": ""
    }
   },
   "outputs": [],
   "source": [
    "from pyspark.sql.functions import isnan, when, count, col\n",
    "from pyspark.sql.functions import mean as _mean, avg, stddev, min as _min, max as _max\n",
    "from pyspark.sql.types import DoubleType, FloatType, IntegerType, LongType, ShortType, DateType, TimestampType\n",
    "from delta.tables import DeltaTable\n",
    "from pyspark.sql import SparkSession\n",
    "\n",
    "def findnullincols(data):\n",
    "    \"\"\"\n",
    "    This function checks for NULLs and NaNs in the non-datetime columns\n",
    "    \"\"\"\n",
    "    date_columns = [column for column, dtype in dict(data.dtypes).items() if dtype in [\"date\", \"timestamp\"]]\n",
    "\n",
    "    print(\"date_columns\", date_columns)\n",
    "\n",
    "    for column in data.columns:\n",
    "        if column not in date_columns:\n",
    "            null_count = data.filter(col(column).isNull()).count()\n",
    "            nan_count = data.filter(isnan(col(column))).count()\n",
    "            blank_count = data.filter(col(column) == \"\").count()\n",
    "            print(f\"{column}: {null_count} NULL values, {nan_count} NaN values, {blank_count} blank values\")"
   ]
  },
  {
   "cell_type": "code",
   "execution_count": 0,
   "metadata": {
    "application/vnd.databricks.v1+cell": {
     "cellMetadata": {
      "byteLimit": 2048000,
      "rowLimit": 10000
     },
     "inputWidgets": {},
     "nuid": "6006bbc7-0fbf-4472-9322-2ba77528cfc5",
     "showTitle": false,
     "title": ""
    }
   },
   "outputs": [],
   "source": [
    "train_df = spark.sql(\"SELECT * FROM Dataset_l9_final_day_temp\")\n",
    "val_df =  spark.sql(\"SELECT * FROM Dataset_l9_final_day_temp_val\")"
   ]
  },
  {
   "cell_type": "code",
   "execution_count": 0,
   "metadata": {
    "application/vnd.databricks.v1+cell": {
     "cellMetadata": {
      "byteLimit": 2048000,
      "implicitDf": true,
      "rowLimit": 10000
     },
     "inputWidgets": {},
     "nuid": "67c9608a-34f9-4386-b948-67d8e6bd1347",
     "showTitle": false,
     "title": ""
    }
   },
   "outputs": [
    {
     "output_type": "display_data",
     "data": {
      "text/html": [
       "<style scoped>\n",
       "  .table-result-container {\n",
       "    max-height: 300px;\n",
       "    overflow: auto;\n",
       "  }\n",
       "  table, th, td {\n",
       "    border: 1px solid black;\n",
       "    border-collapse: collapse;\n",
       "  }\n",
       "  th, td {\n",
       "    padding: 5px;\n",
       "  }\n",
       "  th {\n",
       "    text-align: left;\n",
       "  }\n",
       "</style><div class='table-result-container'><table class='table-result'><thead style='background-color: white'><tr><th>count(1)</th></tr></thead><tbody><tr><td>23669325</td></tr><tr><td>7154007</td></tr></tbody></table></div>"
      ]
     },
     "metadata": {
      "application/vnd.databricks.v1+output": {
       "addedWidgets": {},
       "aggData": [],
       "aggError": "",
       "aggOverflow": false,
       "aggSchema": [],
       "aggSeriesLimitReached": false,
       "aggType": "",
       "arguments": {},
       "columnCustomDisplayInfos": {},
       "data": [
        [
         23669325
        ],
        [
         7154007
        ]
       ],
       "datasetInfos": [
        {
         "name": "_sqldf",
         "schema": {
          "fields": [
           {
            "metadata": {
             "__autoGeneratedAlias": "true"
            },
            "name": "count(1)",
            "nullable": false,
            "type": "long"
           }
          ],
          "type": "struct"
         },
         "tableIdentifier": null,
         "typeStr": "pyspark.sql.dataframe.DataFrame"
        }
       ],
       "dbfsResultPath": null,
       "isJsonSchema": true,
       "metadata": {
        "dataframeName": "_sqldf",
        "executionCount": 207
       },
       "overflow": false,
       "plotOptions": {
        "customPlotOptions": {},
        "displayType": "table",
        "pivotAggregation": null,
        "pivotColumns": null,
        "xColumns": null,
        "yColumns": null
       },
       "removedWidgets": [],
       "schema": [
        {
         "metadata": "{\"__autoGeneratedAlias\":\"true\"}",
         "name": "count(1)",
         "type": "\"long\""
        }
       ],
       "type": "table"
      }
     },
     "output_type": "display_data"
    }
   ],
   "source": [
    "%sql\n",
    "\n",
    "SELECT COUNT(*) FROM Dataset_l9_final_day_temp\n",
    "UNION\n",
    "SELECT COUNT(*) FROM Dataset_l9_final_day_temp_val;\n",
    "\n",
    "\n",
    "----- NOTE THE NUMBER OF ROWS BELOW; THAT IS WHAT WE ARE GOING INTO ML TRANING WITH ----"
   ]
  },
  {
   "cell_type": "code",
   "execution_count": 0,
   "metadata": {
    "application/vnd.databricks.v1+cell": {
     "cellMetadata": {
      "byteLimit": 2048000,
      "rowLimit": 10000
     },
     "inputWidgets": {},
     "nuid": "5c717200-214e-438a-8d02-97efcdd099af",
     "showTitle": false,
     "title": ""
    }
   },
   "outputs": [
    {
     "output_type": "stream",
     "name": "stdout",
     "output_type": "stream",
     "text": [
      "date_columns ['FL_DATE', 'sched_depart_date_time_UTC', 'four_hours_prior_depart_UTC', 'two_hours_prior_depart_UTC', 'DATE', 'WindEquipmentChangeDate', 'scheduled_dep_timestamp', 'actual_dep_timestamp', 'scheduled_arr_timestamp', 'actual_arr_timestamp', 'earlier_timestamp', 'scheduled_dep_time_UTC', 'scheduled_arr_time_UTC', 'FL_ARR_DATE_UTC']\n"
     ]
    },
    {
     "output_type": "display_data",
     "data": {
      "text/html": [
       "<style scoped>\n",
       "  .ansiout {\n",
       "    display: block;\n",
       "    unicode-bidi: embed;\n",
       "    white-space: pre-wrap;\n",
       "    word-wrap: break-word;\n",
       "    word-break: break-all;\n",
       "    font-family: \"Source Code Pro\", \"Menlo\", monospace;;\n",
       "    font-size: 13px;\n",
       "    color: #555;\n",
       "    margin-left: 4px;\n",
       "    line-height: 19px;\n",
       "  }\n",
       "</style>"
      ]
     },
     "metadata": {
      "application/vnd.databricks.v1+output": {
       "arguments": {},
       "data": "",
       "errorSummary": "Cancelled",
       "errorTraceType": "html",
       "metadata": {},
       "type": "ipynbError"
      }
     },
     "output_type": "display_data"
    }
   ],
   "source": [
    "findnullincols(train_df)"
   ]
  },
  {
   "cell_type": "code",
   "execution_count": 0,
   "metadata": {
    "application/vnd.databricks.v1+cell": {
     "cellMetadata": {
      "byteLimit": 2048000,
      "rowLimit": 10000
     },
     "inputWidgets": {},
     "nuid": "c4d49e95-601b-4f2b-b5ad-8b4455ba5a61",
     "showTitle": false,
     "title": ""
    }
   },
   "outputs": [
    {
     "output_type": "display_data",
     "data": {
      "text/html": [
       "<style scoped>\n",
       "  .ansiout {\n",
       "    display: block;\n",
       "    unicode-bidi: embed;\n",
       "    white-space: pre-wrap;\n",
       "    word-wrap: break-word;\n",
       "    word-break: break-all;\n",
       "    font-family: \"Source Code Pro\", \"Menlo\", monospace;;\n",
       "    font-size: 13px;\n",
       "    color: #555;\n",
       "    margin-left: 4px;\n",
       "    line-height: 19px;\n",
       "  }\n",
       "</style>"
      ]
     },
     "metadata": {
      "application/vnd.databricks.v1+output": {
       "arguments": {},
       "data": "",
       "errorSummary": "Cancelled",
       "errorTraceType": "html",
       "metadata": {},
       "type": "ipynbError"
      }
     },
     "output_type": "display_data"
    }
   ],
   "source": [
    "findnullincols(val_df)"
   ]
  },
  {
   "cell_type": "markdown",
   "metadata": {
    "application/vnd.databricks.v1+cell": {
     "cellMetadata": {
      "byteLimit": 2048000,
      "rowLimit": 10000
     },
     "inputWidgets": {},
     "nuid": "b5e4a5b4-a8e8-478b-9f6f-0e79780cddcf",
     "showTitle": false,
     "title": ""
    }
   },
   "source": [
    "## ML Datasets\n",
    "\n",
    "Use this section to change the feature selection in case you add a new one. Write to a new or existing Delta location"
   ]
  },
  {
   "cell_type": "code",
   "execution_count": 0,
   "metadata": {
    "application/vnd.databricks.v1+cell": {
     "cellMetadata": {
      "byteLimit": 2048000,
      "rowLimit": 10000
     },
     "inputWidgets": {},
     "nuid": "6d39f81c-9979-4960-b4d7-33a516b1407c",
     "showTitle": false,
     "title": ""
    }
   },
   "outputs": [],
   "source": [
    "df_final = spark.sql(\"SELECT FL_DATE, Elevation, sched_depart_date_time_UTC, two_hours_prior_depart_UTC, ORIGIN, OP_CARRIER_FL_NUM, TAIL_NUM, QUARTER, \\\n",
    "    DAY_OF_MONTH, DAY_OF_WEEK, OP_UNIQUE_CARRIER, OP_CARRIER_AIRLINE_ID, DEST, DEST_CITY_NAME, DEST_STATE_ABR, DEST_STATE_FIPS, DEST_STATE_NM, DEST_WAC, CRS_DEP_TIME, DEP_TIME, DEP_DELAY, \\\n",
    "    DEP_DELAY_NEW, DEP_DEL15,DISTANCE, YEAR, MONTH, origin_type, dest_type, previous_flight_delay_status, MIN_DIST_FROM_HOLIDAY, Outlinks, Is_Holiday, FL_ID, dep_Hour, arr_Hour, num_fl_departing_this_hour_ORIGIN, \\\n",
    "    num_fl_arriving_this_hour_ORIGIN, FL_SURR_KEY, HourlyAltimeterSetting_imputed AS HourlyAltimeterSetting, \\\n",
    "    HourlyDewPointTemperature_imputed AS HourlyDewPointTemperature, HourlySkyConditions,HourlyPressureChange,HourlyWindGustSpeed_imputed AS HourlyWindGustSpeed, \\\n",
    "    HourlyDryBulbTemperature_imputed AS HourlyDryBulbTemperature, HourlyPrecipitation_imputed AS HourlyPrecipitation, \\\n",
    "    HourlyRelativeHumidity_imputed AS HourlyRelativeHumidity, HourlySeaLevelPressure_imputed AS HourlySeaLevelPressure, \\\n",
    "    HourlyStationPressure_imputed AS HourlyStationPressure,  HourlyVisibility_imputed AS HourlyVisibility, \\\n",
    "    HourlyWetBulbTemperature_imputed AS HourlyWetBulbTemperature, HourlyWindDirection_imputed AS HourlyWindDirection, \\\n",
    "    HourlyWindSpeed_imputed AS HourlyWindSpeed, total_flights_on_fl_date_origin, is_CLR, is_FEW, is_BKN, is_OVC, is_SCT, is_VV, is_X, \\\n",
    "        wind_gusts_mph, precipitation_mm, temperature_fahrenheit, flights_delayed_at_current_origin  FROM Dataset_l9_final_day_temp WHERE previous_flight_delay_status is NOT NULL\")\n",
    "df_final.write.format('delta').mode('overwrite').option(\"overwriteSchema\", \"true\").save(f\"{team_blob_url}/saket_output_delta_FinalML_nonull_10723AM/\")"
   ]
  },
  {
   "cell_type": "code",
   "execution_count": 0,
   "metadata": {
    "application/vnd.databricks.v1+cell": {
     "cellMetadata": {
      "byteLimit": 2048000,
      "rowLimit": 10000
     },
     "inputWidgets": {},
     "nuid": "9b2fe367-03ac-4815-ae4e-ba2b23b99af3",
     "showTitle": false,
     "title": ""
    }
   },
   "outputs": [],
   "source": [
    "df_final_val = spark.sql(\"SELECT FL_DATE, Elevation, sched_depart_date_time_UTC, two_hours_prior_depart_UTC, ORIGIN, OP_CARRIER_FL_NUM, TAIL_NUM, QUARTER, \\\n",
    "    DAY_OF_MONTH, DAY_OF_WEEK, OP_UNIQUE_CARRIER, OP_CARRIER_AIRLINE_ID, DEST, DEST_CITY_NAME, DEST_STATE_ABR, DEST_STATE_FIPS, DEST_STATE_NM, DEST_WAC, CRS_DEP_TIME, DEP_TIME, DEP_DELAY, \\\n",
    "    DEP_DELAY_NEW, DEP_DEL15,DISTANCE,  YEAR, MONTH, origin_type, dest_type, previous_flight_delay_status, MIN_DIST_FROM_HOLIDAY, Outlinks, Is_Holiday, FL_ID, dep_Hour, arr_Hour, num_fl_departing_this_hour_ORIGIN, \\\n",
    "    num_fl_arriving_this_hour_ORIGIN, FL_SURR_KEY, HourlyAltimeterSetting_imputed AS HourlyAltimeterSetting, \\\n",
    "    HourlyDewPointTemperature_imputed AS HourlyDewPointTemperature, HourlySkyConditions,HourlyPressureChange,\\\n",
    "    HourlyDryBulbTemperature_imputed AS HourlyDryBulbTemperature, HourlyPrecipitation_imputed AS HourlyPrecipitation, \\\n",
    "    HourlyRelativeHumidity_imputed AS HourlyRelativeHumidity, HourlySeaLevelPressure_imputed AS HourlySeaLevelPressure, \\\n",
    "    HourlyWindGustSpeed_imputed AS HourlyWindGustSpeed, \\\n",
    "    HourlyStationPressure_imputed AS HourlyStationPressure,  HourlyVisibility_imputed AS HourlyVisibility, \\\n",
    "    HourlyWetBulbTemperature_imputed AS HourlyWetBulbTemperature, HourlyWindDirection_imputed AS HourlyWindDirection, \\\n",
    "    HourlyWindSpeed_imputed AS HourlyWindSpeed, total_flights_on_fl_date_origin,is_CLR, is_FEW, is_BKN, is_OVC, is_SCT, is_VV, is_X, \\\n",
    "        wind_gusts_mph, precipitation_mm, temperature_fahrenheit, flights_delayed_at_current_origin  FROM Dataset_l9_final_day_temp_val WHERE previous_flight_delay_status is NOT NULL\")\n",
    "df_final_val.write.format('delta').mode('overwrite').option(\"overwriteSchema\", \"true\").save(f\"{team_blob_url}/saket_output_delta_val_FinalML_nonull_10723AM/\")"
   ]
  },
  {
   "cell_type": "code",
   "execution_count": 0,
   "metadata": {
    "application/vnd.databricks.v1+cell": {
     "cellMetadata": {
      "byteLimit": 2048000,
      "rowLimit": 10000
     },
     "inputWidgets": {},
     "nuid": "b28bfc71-a0fa-4afa-9360-6486c4fcb301",
     "showTitle": false,
     "title": ""
    }
   },
   "outputs": [],
   "source": [
    "train_df = spark.read.format(\"delta\").load(f\"{team_blob_url}/saket_output_delta_FinalML_nonull_10723AM/\")\n",
    "val_df = spark.read.format(\"delta\").load(f\"{team_blob_url}/saket_output_delta_val_FinalML_nonull_10723AM/\")"
   ]
  },
  {
   "cell_type": "code",
   "execution_count": 0,
   "metadata": {
    "application/vnd.databricks.v1+cell": {
     "cellMetadata": {
      "byteLimit": 2048000,
      "rowLimit": 10000
     },
     "inputWidgets": {},
     "nuid": "06498ece-d17b-4eb8-9613-7d3d9d65977f",
     "showTitle": false,
     "title": ""
    }
   },
   "outputs": [
    {
     "output_type": "stream",
     "name": "stdout",
     "output_type": "stream",
     "text": [
      "['FL_DATE', 'Elevation', 'sched_depart_date_time_UTC', 'two_hours_prior_depart_UTC', 'ORIGIN', 'OP_CARRIER_FL_NUM', 'TAIL_NUM', 'QUARTER', 'DAY_OF_MONTH', 'DAY_OF_WEEK', 'OP_UNIQUE_CARRIER', 'OP_CARRIER_AIRLINE_ID', 'DEST', 'DEST_CITY_NAME', 'DEST_STATE_ABR', 'DEST_STATE_FIPS', 'DEST_STATE_NM', 'DEST_WAC', 'CRS_DEP_TIME', 'DEP_TIME', 'DEP_DELAY', 'DEP_DELAY_NEW', 'DEP_DEL15', 'DISTANCE', 'YEAR', 'MONTH', 'origin_type', 'dest_type', 'previous_flight_delay_status', 'MIN_DIST_FROM_HOLIDAY', 'Outlinks', 'Is_Holiday', 'FL_ID', 'dep_Hour', 'arr_Hour', 'num_fl_departing_this_hour_ORIGIN', 'num_fl_arriving_this_hour_ORIGIN', 'FL_SURR_KEY', 'HourlyAltimeterSetting', 'HourlyDewPointTemperature', 'HourlySkyConditions', 'HourlyPressureChange', 'HourlyWindGustSpeed', 'HourlyDryBulbTemperature', 'HourlyPrecipitation', 'HourlyRelativeHumidity', 'HourlySeaLevelPressure', 'HourlyStationPressure', 'HourlyVisibility', 'HourlyWetBulbTemperature', 'HourlyWindDirection', 'HourlyWindSpeed', 'total_flights_on_fl_date_origin', 'is_CLR', 'is_FEW', 'is_BKN', 'is_OVC', 'is_SCT', 'is_VV', 'is_X', 'wind_gusts_mph', 'precipitation_mm', 'temperature_fahrenheit', 'flights_delayed_at_current_origin']\n['FL_DATE', 'Elevation', 'sched_depart_date_time_UTC', 'two_hours_prior_depart_UTC', 'ORIGIN', 'OP_CARRIER_FL_NUM', 'TAIL_NUM', 'QUARTER', 'DAY_OF_MONTH', 'DAY_OF_WEEK', 'OP_UNIQUE_CARRIER', 'OP_CARRIER_AIRLINE_ID', 'DEST', 'DEST_CITY_NAME', 'DEST_STATE_ABR', 'DEST_STATE_FIPS', 'DEST_STATE_NM', 'DEST_WAC', 'CRS_DEP_TIME', 'DEP_TIME', 'DEP_DELAY', 'DEP_DELAY_NEW', 'DEP_DEL15', 'DISTANCE', 'YEAR', 'MONTH', 'origin_type', 'dest_type', 'previous_flight_delay_status', 'MIN_DIST_FROM_HOLIDAY', 'Outlinks', 'Is_Holiday', 'FL_ID', 'dep_Hour', 'arr_Hour', 'num_fl_departing_this_hour_ORIGIN', 'num_fl_arriving_this_hour_ORIGIN', 'FL_SURR_KEY', 'HourlyAltimeterSetting', 'HourlyDewPointTemperature', 'HourlySkyConditions', 'HourlyPressureChange', 'HourlyDryBulbTemperature', 'HourlyPrecipitation', 'HourlyRelativeHumidity', 'HourlySeaLevelPressure', 'HourlyWindGustSpeed', 'HourlyStationPressure', 'HourlyVisibility', 'HourlyWetBulbTemperature', 'HourlyWindDirection', 'HourlyWindSpeed', 'total_flights_on_fl_date_origin', 'is_CLR', 'is_FEW', 'is_BKN', 'is_OVC', 'is_SCT', 'is_VV', 'is_X', 'wind_gusts_mph', 'precipitation_mm', 'temperature_fahrenheit', 'flights_delayed_at_current_origin']\n"
     ]
    }
   ],
   "source": [
    "print(train_df.columns)\n",
    "print(val_df.columns)"
   ]
  },
  {
   "cell_type": "code",
   "execution_count": 0,
   "metadata": {
    "application/vnd.databricks.v1+cell": {
     "cellMetadata": {
      "byteLimit": 2048000,
      "rowLimit": 10000
     },
     "inputWidgets": {},
     "nuid": "bad0d715-d691-4bf7-b080-a011bc96e518",
     "showTitle": false,
     "title": ""
    }
   },
   "outputs": [
    {
     "output_type": "stream",
     "name": "stdout",
     "output_type": "stream",
     "text": [
      "23669325\n7154007\n"
     ]
    }
   ],
   "source": [
    "print(train_df.count())\n",
    "print(val_df.count())"
   ]
  },
  {
   "cell_type": "markdown",
   "metadata": {
    "application/vnd.databricks.v1+cell": {
     "cellMetadata": {},
     "inputWidgets": {},
     "nuid": "a68c5ce0-4565-4371-97eb-bc5ca53c7df7",
     "showTitle": false,
     "title": ""
    }
   },
   "source": [
    "## Basic EDA \n",
    "For feature importance on the curated dataset & to understand the data a little more"
   ]
  },
  {
   "cell_type": "code",
   "execution_count": 0,
   "metadata": {
    "application/vnd.databricks.v1+cell": {
     "cellMetadata": {
      "byteLimit": 2048000,
      "rowLimit": 10000
     },
     "inputWidgets": {},
     "nuid": "0450dcdd-a411-48a2-b0fe-275b26ef36b3",
     "showTitle": false,
     "title": ""
    }
   },
   "outputs": [
    {
     "output_type": "display_data",
     "data": {
      "image/png": "[encoded data removed]",
      "text/plain": [
       "<Figure size 1000x800 with 2 Axes>"
      ]
     },
     "metadata": {},
     "output_type": "display_data"
    }
   ],
   "source": [
    "bool_cols = ['DEP_DEL15', 'is_CLR', 'is_FEW', 'is_BKN', 'is_OVC', 'is_SCT', 'is_VV', 'is_X']\n",
    "corr_data = train_df.select(bool_cols).toPandas().corr()\n",
    "\n",
    "# Plot the data\n",
    "fig, ax = plt.subplots(figsize=(10, 8))\n",
    "sns.heatmap(corr_data, annot=True, cmap='coolwarm', ax=ax)\n",
    "plt.title('Correlation between Departure Delay & Hourly Sky Conditions')\n",
    "plt.tight_layout()\n",
    "plt.show()"
   ]
  },
  {
   "cell_type": "code",
   "execution_count": 0,
   "metadata": {
    "application/vnd.databricks.v1+cell": {
     "cellMetadata": {
      "byteLimit": 2048000,
      "rowLimit": 10000
     },
     "inputWidgets": {},
     "nuid": "e54a4a90-a5ba-4f09-a505-43e768c33a7e",
     "showTitle": false,
     "title": ""
    }
   },
   "outputs": [
    {
     "output_type": "display_data",
     "data": {
      "image/png": "[encoded data removed]",
      "text/plain": [
       "<Figure size 1397.38x600 with 1 Axes>"
      ]
     },
     "metadata": {},
     "output_type": "display_data"
    }
   ],
   "source": [
    "group_cols = ['dep_hour', 'ORIGIN_CITY_NAME']\n",
    "plot_data = train_df.groupBy(group_cols).agg({'num_fl_departing_this_hour_ORIGIN': 'sum'}).toPandas()\n",
    "\n",
    "# Get the top 10 origins by total sum of num_fl_departing_this_hour_ORIGIN\n",
    "top_origins = plot_data.groupby('ORIGIN_CITY_NAME').agg({'sum(num_fl_departing_this_hour_ORIGIN)': 'sum'}).nlargest(5, columns='sum(num_fl_departing_this_hour_ORIGIN)').index\n",
    "\n",
    "# Filter the data to only include the top 10 origins\n",
    "plot_data = plot_data[plot_data['ORIGIN_CITY_NAME'].isin(top_origins)]\n",
    "\n",
    "# Plot the data\n",
    "sns.catplot(x='dep_hour', y='sum(num_fl_departing_this_hour_ORIGIN)', hue='ORIGIN_CITY_NAME', data=plot_data, kind='bar', height=6, aspect=2)\n",
    "\n",
    "plt.title('Number of Flights departing by Hour of the day for top 5 ORIGIN Airports')\n",
    "plt.xlabel('Departure Hour of the Day')\n",
    "plt.ylabel('Total Departing Flights from the city')\n",
    "plt.legend(bbox_to_anchor=(1.05, 1), loc=2, borderaxespad=0.)\n",
    "plt.tight_layout()\n",
    "plt.show()\n"
   ]
  },
  {
   "cell_type": "code",
   "execution_count": 0,
   "metadata": {
    "application/vnd.databricks.v1+cell": {
     "cellMetadata": {
      "byteLimit": 2048000,
      "rowLimit": 10000
     },
     "inputWidgets": {},
     "nuid": "cffe2035-7ce6-49af-b327-4b8362827bf6",
     "showTitle": false,
     "title": ""
    }
   },
   "outputs": [
    {
     "output_type": "display_data",
     "data": {
      "image/png": "[encoded data removed]",
      "text/plain": [
       "<Figure size 2000x1500 with 4 Axes>"
      ]
     },
     "metadata": {},
     "output_type": "display_data"
    }
   ],
   "source": [
    "group_cols = ['QUARTER', 'ORIGIN_CITY_NAME', 'DEST_CITY_NAME', 'dep_hour']\n",
    "plot_data = train_df.groupBy(group_cols).agg({'DEP_DEL15': 'sum'}).toPandas()\n",
    "\n",
    "# Get the top 5 origin and destination cities by total sum of DEP_DEL15 field\n",
    "top_origins = plot_data.groupby('ORIGIN_CITY_NAME').agg({'sum(DEP_DEL15)': 'sum'}).nlargest(5, columns='sum(DEP_DEL15)').index\n",
    "top_dests = plot_data.groupby('DEST_CITY_NAME').agg({'sum(DEP_DEL15)': 'sum'}).nlargest(5, columns='sum(DEP_DEL15)').index\n",
    "\n",
    "# Filter the data to only include the top 5 origin and destination cities. \n",
    "plot_data = plot_data[plot_data['ORIGIN_CITY_NAME'].isin(top_origins) & plot_data['DEST_CITY_NAME'].isin(top_dests)]\n",
    "\n",
    "fig, axes = plt.subplots(nrows=2, ncols=2, figsize=(20, 15))\n",
    "for i, group_col in enumerate(group_cols):\n",
    "    row = i // 2\n",
    "    col = i % 2\n",
    "    sns.barplot(x=group_col, y='sum(DEP_DEL15)', data=plot_data, ax=axes[row][col])\n",
    "    axes[row][col].set_title(f'Departure Delay count by {group_col} in the period 2015-2018')\n",
    "    axes[row][col].set_ylabel(\"Total Departure Delays\")\n",
    "plt.tight_layout()\n",
    "plt.show()\n"
   ]
  },
  {
   "cell_type": "code",
   "execution_count": 0,
   "metadata": {
    "application/vnd.databricks.v1+cell": {
     "cellMetadata": {
      "byteLimit": 2048000,
      "rowLimit": 10000
     },
     "inputWidgets": {},
     "nuid": "a0cf5a3a-b16e-41d1-863c-a8868b49a2a3",
     "showTitle": false,
     "title": ""
    }
   },
   "outputs": [
    {
     "output_type": "display_data",
     "data": {
      "image/png": "[encoded data removed]",
      "text/plain": [
       "<Figure size 1500x600 with 1 Axes>"
      ]
     },
     "metadata": {},
     "output_type": "display_data"
    },
    {
     "output_type": "display_data",
     "data": {
      "image/png": "[encoded data removed]",
      "text/plain": [
       "<Figure size 1500x600 with 1 Axes>"
      ]
     },
     "metadata": {},
     "output_type": "display_data"
    }
   ],
   "source": [
    "from pyspark.sql.functions import date_format\n",
    "\n",
    "train_df = train_df.withColumn('day_of_year', date_format('FL_DATE', 'dd-MMM'))\n",
    "\n",
    "group_cols = ['day_of_year', 'ORIGIN_CITY_NAME']\n",
    "plot_data = train_df.groupBy(group_cols).agg({'flights_delayed_at_current_origin': 'sum'}).toPandas()\n",
    "\n",
    "top_days = plot_data.groupby('day_of_year').agg({'sum(flights_delayed_at_current_origin)': 'sum'}).nlargest(10, columns='sum(flights_delayed_at_current_origin)').index\n",
    "\n",
    "top_origins = plot_data.groupby('ORIGIN_CITY_NAME').agg({'sum(flights_delayed_at_current_origin)': 'sum'}).nlargest(5, columns='sum(flights_delayed_at_current_origin)').index\n",
    "\n",
    "plot_data = plot_data[plot_data['day_of_year'].isin(top_days) & plot_data['ORIGIN_CITY_NAME'].isin(top_origins)]\n",
    "\n",
    "fig, ax = plt.subplots(figsize=(15, 6))\n",
    "sns.barplot(x='day_of_year', y='sum(flights_delayed_at_current_origin)', hue='ORIGIN_CITY_NAME', data=plot_data, ax=ax)\n",
    "plt.title('Sum of flights_delayed_at_current_origin by day of the year for top 10 days and top 5 ORIGIN')\n",
    "plt.xlabel('Day of Year')\n",
    "plt.ylabel('Total Delayed Flights from the city')\n",
    "plt.legend(bbox_to_anchor=(1.05, 1), loc=2, borderaxespad=0.)\n",
    "plt.tight_layout()\n",
    "plt.show()\n"
   ]
  },
  {
   "cell_type": "code",
   "execution_count": 0,
   "metadata": {
    "application/vnd.databricks.v1+cell": {
     "cellMetadata": {
      "byteLimit": 2048000,
      "rowLimit": 10000
     },
     "inputWidgets": {},
     "nuid": "004a7da2-10fd-4539-bd4e-a05ecb64835f",
     "showTitle": false,
     "title": ""
    }
   },
   "outputs": [
    {
     "output_type": "display_data",
     "data": {
      "image/png": "[encoded data removed]",
      "text/plain": [
       "<Figure size 2000x1500 with 4 Axes>"
      ]
     },
     "metadata": {},
     "output_type": "display_data"
    }
   ],
   "source": [
    "group_cols = ['DAY_OF_MONTH', 'DAY_OF_WEEK', 'MONTH', 'OP_UNIQUE_CARRIER'] #'QUARTER', 'ORIGIN', 'DEST', 'dep_hour'\n",
    "plot_data = train_df.groupBy(group_cols).agg({'DEP_DEL15': 'sum'}).toPandas()\n",
    "\n",
    "fig, axes = plt.subplots(nrows=2, ncols=2, figsize=(20, 15))\n",
    "for i, group_col in enumerate(group_cols):\n",
    "    row = i // 2\n",
    "    col = i % 2\n",
    "    sns.barplot(x=group_col, y='sum(DEP_DEL15)', data=plot_data, ax=axes[row][col])\n",
    "    axes[row][col].set_title(f'Departure Delay count by {group_col} in the period 2015-2018')\n",
    "    axes[row][col].set_ylabel(\"Total Departure Delays\")\n",
    "plt.tight_layout()\n",
    "plt.show()"
   ]
  },
  {
   "cell_type": "markdown",
   "metadata": {
    "application/vnd.databricks.v1+cell": {
     "cellMetadata": {
      "byteLimit": 2048000,
      "rowLimit": 10000
     },
     "inputWidgets": {},
     "nuid": "ed5e7f01-2f84-498c-97f4-ae77d94c8d8e",
     "showTitle": false,
     "title": ""
    }
   },
   "source": [
    "## ML training & analysis"
   ]
  },
  {
   "cell_type": "code",
   "execution_count": 0,
   "metadata": {
    "application/vnd.databricks.v1+cell": {
     "cellMetadata": {
      "byteLimit": 2048000,
      "rowLimit": 10000
     },
     "inputWidgets": {},
     "nuid": "dd1f8d8d-6991-4fb0-8bb6-f34dc494a282",
     "showTitle": false,
     "title": ""
    }
   },
   "outputs": [],
   "source": [
    "from pyspark.sql import functions as f\n",
    "from pyspark.ml.feature import OneHotEncoder, StringIndexer, Imputer\n",
    "from pyspark.ml import Pipeline\n",
    "from pyspark.ml.feature import VectorAssembler\n",
    "from pyspark.sql.functions import unix_timestamp\n",
    "# Spark Session, Pipeline, Functions, and Metrics\n",
    "from pyspark import SparkContext, SparkConf\n",
    "from pyspark.sql import SQLContext\n",
    "from pyspark.ml.feature import OneHotEncoder, StringIndexer, StandardScaler, VectorAssembler\n",
    "from pyspark.ml import Pipeline\n",
    "from pyspark.sql.functions import rand\n",
    "from pyspark.mllib.evaluation import MulticlassMetrics\n",
    "# Import models, param search, and evaluation metrics\n",
    "from pyspark.ml.tuning import CrossValidator\n",
    "from pyspark.ml.classification import LogisticRegression\n",
    "from pyspark.ml.classification import RandomForestClassifier\n",
    "from pyspark.ml.classification import GBTClassifier\n",
    "from pyspark.ml.evaluation import BinaryClassificationEvaluator\n",
    "from pyspark.ml.tuning import ParamGridBuilder\n",
    "from pyspark.ml.classification import LogisticRegression\n",
    "from pyspark.ml.classification import MultilayerPerceptronClassifier\n",
    "from pyspark.ml.tuning import ParamGridBuilder, CrossValidator\n",
    "from pyspark.ml.evaluation import BinaryClassificationEvaluator, MulticlassClassificationEvaluator\n",
    "from pyspark.mllib.evaluation import MulticlassMetrics\n",
    "import matplotlib.pyplot as plt\n",
    "import seaborn as sns\n",
    "\n",
    "def prepML(train_df, val_df):\n",
    "    \"\"\"This function prepares the dataset for ML tuning\"\"\"\n",
    "    global DATE_COLS ,NUM_FEATURES_COLS, CAT_FEATURES_COLS, LABEL\n",
    "    # Exclude the first and last column from the imputation and conversion to float\n",
    "    NUM_FEATURES_COLS_TO_IMPUTE = NUM_FEATURES_COLS[:-1]\n",
    "\n",
    "    # Cast to float type\n",
    "    #train_df = train_df.select(*(f.col(c).cast(\"float\").alias(c) for c in NUM_FEATURES_COLS[1:]), *(f.col(c).alias(c) for c in CAT_FEATURES_COLS)).cache()\n",
    "    train_df_day = train_df.select(*(f.col(c).alias(c) for c in DATE_COLS),\n",
    "                            *(f.col(c).cast(\"float\").alias(c) for c in NUM_FEATURES_COLS[:]), \n",
    "                            *(f.col(c).alias(c) for c in CAT_FEATURES_COLS)).cache()\n",
    "\n",
    "    #val_df = val_df.select(*(f.col(c).cast(\"float\").alias(c) for c in NUM_FEATURES_COLS[1:]), *(f.col(c).alias(c) for c in CAT_FEATURES_COLS)).cache()\n",
    "    val_df_day = val_df.select(*(f.col(c).alias(c) for c in DATE_COLS),\n",
    "                            *(f.col(c).cast(\"float\").alias(c) for c in NUM_FEATURES_COLS[:]), \n",
    "                            *(f.col(c).alias(c) for c in CAT_FEATURES_COLS)).cache()\n",
    "    \n",
    "    # convert date to Unix timestamp (in seconds)\n",
    "    train_df = train_df_day #.withColumn(NUM_FEATURES_COLS[0], unix_timestamp(NUM_FEATURES_COLS[0]))\n",
    "    val_df = val_df_day #.withColumn(NUM_FEATURES_COLS[0], unix_timestamp(NUM_FEATURES_COLS[0]))\n",
    "    print(train_df.count())\n",
    "    print(val_df.count())\n",
    "\n",
    "    # Imputer for numerical columns\n",
    "    imputer = Imputer(inputCols=NUM_FEATURES_COLS_TO_IMPUTE, \n",
    "                    outputCols=[f\"{col}_imputed\" for col in NUM_FEATURES_COLS_TO_IMPUTE])\n",
    "\n",
    "    # StringIndexer and OneHotEncoder for categorical columns\n",
    "    indexers = [StringIndexer(inputCol=column, outputCol=column+\"_index\").setHandleInvalid(\"keep\") for column in CAT_FEATURES_COLS]\n",
    "    encoders = [OneHotEncoder(inputCol=column+\"_index\", outputCol=column+\"_ohe\", handleInvalid='keep') for column in CAT_FEATURES_COLS]\n",
    "\n",
    "    # Assembling mixed data type transformations\n",
    "    assembler = VectorAssembler(inputCols=[NUM_FEATURES_COLS[0]] + [f\"{col}_imputed\" for col in NUM_FEATURES_COLS_TO_IMPUTE] + [encoder.getOutputCol() for encoder in encoders], \n",
    "                                outputCol=\"features\",\n",
    "                                handleInvalid='skip')\n",
    "\n",
    "    # Pipeline stages\n",
    "    stages = [imputer] + indexers + encoders + [assembler]\n",
    "\n",
    "    # Setup the pipeline\n",
    "    pipeline = Pipeline(stages=stages)\n",
    "\n",
    "    # Fit the pipeline to training data\n",
    "    model = pipeline.fit(train_df)\n",
    "\n",
    "    # Transform the data\n",
    "    train_df = model.transform(train_df).cache()\n",
    "    val_df = model.transform(val_df).cache()\n",
    "\n",
    "    train_texperiment_df = train_df.dropna(subset=['DEP_DEL15']).cache()\n",
    "    val_texperiment_df = val_df.dropna(subset=['DEP_DEL15']).cache()\n",
    "    train_texperiment_df = train_texperiment_df.select([ 'features', 'DEP_DEL15']).cache()\n",
    "    val_texperiment_df = val_texperiment_df.select([ 'features', 'DEP_DEL15']).cache()\n",
    "\n",
    "    evaluator = BinaryClassificationEvaluator(rawPredictionCol=\"rawPrediction\", labelCol='DEP_DEL15', metricName=\"areaUnderROC\")\n",
    "\n",
    "    return train_texperiment_df, val_texperiment_df, evaluator\n"
   ]
  },
  {
   "cell_type": "code",
   "execution_count": 0,
   "metadata": {
    "application/vnd.databricks.v1+cell": {
     "cellMetadata": {
      "byteLimit": 2048000,
      "rowLimit": 10000
     },
     "inputWidgets": {},
     "nuid": "1f78f019-068f-4124-9a23-1cfc2a690383",
     "showTitle": false,
     "title": ""
    }
   },
   "outputs": [],
   "source": [
    "def trainandeval_lr(train_df, val_df):\n",
    "    \"\"\"\n",
    "    This function does training and evaluation for Logistic Regression with grid search\n",
    "    \"\"\"\n",
    "    ## Call the function to set everything up for the training like Imputer, Assembler, Indexer, Encoders etc.\n",
    "    train_texperiment_df, val_texperiment_df, evaluator = prepML(train_df, val_df)\n",
    "\n",
    "    train_texperiment_df.cache()\n",
    "    val_texperiment_df.cache()\n",
    "\n",
    "    # Instantiate Logistic Regression\n",
    "    lr = LogisticRegression(featuresCol='features', labelCol='DEP_DEL15')\n",
    "\n",
    "    # Set up grid for Logistic Regression\n",
    "    lr_paramGrid = (ParamGridBuilder()\n",
    "                .addGrid(lr.regParam, [ 0.00001]) #0.01\n",
    "                .addGrid(lr.elasticNetParam, [0, 0.5 ])\n",
    "                .build())\n",
    "\n",
    "\n",
    "    # Perform grid search\n",
    "    lr_crossval = CrossValidator(estimator=lr,\n",
    "                            estimatorParamMaps=lr_paramGrid,\n",
    "                            evaluator=evaluator,\n",
    "                            numFolds=5)  \n",
    "\n",
    "    # Train and evaluate Model\n",
    "    lr_cvModel = lr_crossval.fit(train_texperiment_df)\n",
    "    print('Logistic Regression Training AUC: ', evaluator.evaluate(lr_cvModel.transform(train_texperiment_df)))\n",
    "    print('Logistic Regression Validation AUC: ', evaluator.evaluate(lr_cvModel.transform(val_texperiment_df)))\n",
    "\n",
    "\n",
    "    # Report the best hyperparameters\n",
    "    bestModel = lr_cvModel.bestModel\n",
    "    print('Best regParam:', bestModel._java_obj.getRegParam())\n",
    "    print('Best elasticNetParam:', bestModel._java_obj.getElasticNetParam())\n",
    "\n",
    "    # Make predictions on the validation dataset\n",
    "    predictions = lr_cvModel.transform(val_texperiment_df)\n",
    "\n",
    "\n",
    "\n",
    "    # Compute accuracy, precision, recall, and f1 score\n",
    "    evaluator_accuracy = MulticlassClassificationEvaluator(labelCol='DEP_DEL15', metricName='accuracy')\n",
    "    evaluator_precision = MulticlassClassificationEvaluator(labelCol='DEP_DEL15', metricName='weightedPrecision')\n",
    "    evaluator_recall = MulticlassClassificationEvaluator(labelCol='DEP_DEL15', metricName='weightedRecall')\n",
    "    evaluator_f1 = MulticlassClassificationEvaluator(labelCol='DEP_DEL15', metricName='f1')\n",
    "    accuracy = evaluator_accuracy.evaluate(predictions)\n",
    "    precision = evaluator_precision.evaluate(predictions)\n",
    "    recall = evaluator_recall.evaluate(predictions)\n",
    "    f1 = evaluator_f1.evaluate(predictions)\n",
    "\n",
    "    # Print accuracy, precision, recall, and f1 score\n",
    "    print('Accuracy:', accuracy)\n",
    "    print('Precision:', precision)\n",
    "    print('Recall:', recall)\n",
    "    print('F1 score:', f1)\n",
    "    # Compute confusion matrix\n",
    "    predictionAndLabels = predictions.select('prediction', 'DEP_DEL15').rdd\n",
    "    metrics = MulticlassMetrics(predictionAndLabels)\n",
    "\n",
    "    confusion_matrix = metrics.confusionMatrix().toArray()\n",
    "\n",
    "    confusion_matrix = confusion_matrix.astype('float') / confusion_matrix.sum(axis=1)[:, np.newaxis]\n",
    "\n",
    "    # Plot confusion matrix using seaborn heatmap\n",
    "    plt.figure(figsize=(5, 5))\n",
    "    sns.heatmap(confusion_matrix, annot=True, fmt='.2%', cmap='Blues')\n",
    "    plt.title('Confusion Matrix')\n",
    "    plt.xlabel('Predicted Label')\n",
    "    plt.ylabel('True Label')\n",
    "    plt.show()"
   ]
  },
  {
   "cell_type": "code",
   "execution_count": 0,
   "metadata": {
    "application/vnd.databricks.v1+cell": {
     "cellMetadata": {
      "byteLimit": 2048000,
      "rowLimit": 10000
     },
     "inputWidgets": {},
     "nuid": "7b553cb4-c8e9-4389-8594-7a7ff99f2347",
     "showTitle": false,
     "title": ""
    }
   },
   "outputs": [],
   "source": [
    "def trainandeval_mlp(train_df, val_df):\n",
    "    \"\"\"\n",
    "    This function trains and evaluates on multi layer perceptron.\n",
    "    \"\"\"\n",
    "    train_texperiment_df, val_texperiment_df, evaluator = prepML(train_df, val_df)\n",
    "    # Define the feature and label columns\n",
    "    featuresCol = 'features'\n",
    "    labelCol = 'DEP_DEL15'\n",
    "\n",
    "    train_texperiment_df.cache()\n",
    "    val_texperiment_df.cache()\n",
    "\n",
    "\n",
    "    # Define the layers for the MLP neural network\n",
    "    # Input layer size is the number of features, output layer size is 2 for binary classification\n",
    "    # Hidden layer size is 1-2 fully connected layer with an arbitrary number of perceptrons\n",
    "\n",
    "    layers = [len(train_texperiment_df.select(featuresCol).first()[0]), 80, 60, 40, 32, 24, 16, 8, 2] ## Changed this to lesser no of layers, just 3 for now and more perceptrons\n",
    "\n",
    "    \n",
    "    print(\"These are the layers of the MLP\", layers)\n",
    "\n",
    "    # Instantiate MLP classifier -- Is MLP the best or LSTM? Or \n",
    "    mlp = MultilayerPerceptronClassifier(featuresCol=featuresCol, labelCol=labelCol, layers=layers)\n",
    "\n",
    "    # Set up grid for MLP\n",
    "    mlp_paramGrid = (ParamGridBuilder()\n",
    "                .addGrid(mlp.maxIter, [100])\n",
    "                .addGrid(mlp.stepSize, [0.00001]) # 0.1, 0.01 , 0.00001, 0.0001\n",
    "                .addGrid(mlp.blockSize, [256])\n",
    "                .addGrid(mlp.solver, ['l-bfgs']) #, 'gd'\n",
    "                .build())\n",
    "\n",
    "    # Perform grid search\n",
    "    mlp_crossval = CrossValidator(estimator=mlp,\n",
    "                            estimatorParamMaps=mlp_paramGrid,\n",
    "                            evaluator=evaluator,\n",
    "                            numFolds=3)  \n",
    "\n",
    "    # Train and evaluate Model\n",
    "    print(\"Starting the training\")\n",
    "    mlp_cvModel = mlp_crossval.fit(train_texperiment_df)\n",
    "    print(\"Finished the training\")\n",
    "    print('MLP Training AUC: ', evaluator.evaluate(mlp_cvModel.transform(train_texperiment_df)))\n",
    "    print('MLP Validation AUC: ', evaluator.evaluate(mlp_cvModel.transform(val_texperiment_df)))\n",
    "\n",
    "    # Compute accuracy, precision and recall\n",
    "    accuracy_evaluator = MulticlassClassificationEvaluator(labelCol=labelCol, predictionCol=\"prediction\", metricName=\"accuracy\")\n",
    "    precision_evaluator = MulticlassClassificationEvaluator(labelCol=labelCol, predictionCol=\"prediction\", metricName=\"weightedPrecision\")\n",
    "    recall_evaluator = MulticlassClassificationEvaluator(labelCol=labelCol, predictionCol=\"prediction\", metricName=\"weightedRecall\")\n",
    "\n",
    "    train_predictions = mlp_cvModel.transform(train_texperiment_df)\n",
    "    val_predictions = mlp_cvModel.transform(val_texperiment_df)\n",
    "\n",
    "    # This takes a long time to run not sure why\n",
    "    print('MLP Training Accuracy: ', accuracy_evaluator.evaluate(train_predictions))\n",
    "    print('MLP Validation Accuracy: ', accuracy_evaluator.evaluate(val_predictions))\n",
    "\n",
    "    print('MLP Training Precision: ', precision_evaluator.evaluate(train_predictions))\n",
    "    print('MLP Validation Precision: ', precision_evaluator.evaluate(val_predictions))\n",
    "\n",
    "    print('MLP Training Recall: ', recall_evaluator.evaluate(train_predictions))\n",
    "    print('MLP Validation Recall: ', recall_evaluator.evaluate(val_predictions))\n",
    "\n",
    "\n",
    "    predictionAndLabels = val_predictions.select(\"prediction\", labelCol).rdd.map(lambda r: (float(r[0]), float(r[1])))\n",
    "    metrics = MulticlassMetrics(predictionAndLabels)\n",
    "    confusion_matrix = metrics.confusionMatrix().toArray()\n",
    "    print(confusion_matrix)\n",
    "    # Plot confusion matrix\n",
    "    plt.figure(figsize=(5,5))\n",
    "    sns.heatmap(confusion_matrix, annot=True, fmt=\".0f\", linewidths=.5, square=True, cmap='Blues_r')\n",
    "    plt.ylabel('Actual label')\n",
    "    plt.xlabel('Predicted label')\n",
    "    plt.title('MLP Validation Confusion Matrix', size=15)\n",
    "    plt.show()"
   ]
  },
  {
   "cell_type": "markdown",
   "metadata": {
    "application/vnd.databricks.v1+cell": {
     "cellMetadata": {},
     "inputWidgets": {},
     "nuid": "c3bc8197-c96b-49f8-89a7-2c6d2d7526d7",
     "showTitle": false,
     "title": ""
    }
   },
   "source": [
    "## ATTEMPTS & EXPERIMENTS \n",
    "\n",
    "#### Features used across all attempts\n",
    "\n",
    "The following are multiple attempts with led us to the final section of this notebook where we stopped and said we were satisfied for now with the `AUC`\n",
    "\n",
    "\n",
    "Features Used:\n",
    "\n",
    " 1. HourlySeaLevelPressure\n",
    " 2. DISTANCE\n",
    " 3. MIN_DIST_FROM_HOLIDAY\n",
    " 4. HourlyAltimeterSetting\n",
    " 5. HourlyDewPointTemperature\n",
    " 6. HourlyDryBulbTemperature\n",
    " 7. HourlyPressureChange\n",
    " 8. previous_flight_delay_status\n",
    " 9. Outlinks\n",
    " 10. num_fl_departing_this_hour_ORIGIN\n",
    " 11. num_fl_arriving_this_hour_ORIGIN\n",
    " 12. HourlyPrecipitation\n",
    " 13. HourlyRelativeHumidity\n",
    " 14. HourlySeaLevelPressure\n",
    " 15. HourlyStationPressure\n",
    " 16. HourlyWetBulbTemperature\n",
    " 17. HourlyWindDirection\n",
    " 18. HourlyWindSpeed\n",
    " 19. total_flights_on_fl_date_origin --- How many flights are scheudled to depart on the day being assessed for an upcoming flight (no leakage since this is known in advance)\n",
    " `Hourly Sky Condition Flags\n",
    " 20. is_CLR\n",
    " 21. is_FEW\n",
    " 22. is_BKN \n",
    " 23. is_OVC\n",
    " 24. is_SCT\n",
    " 25. is_VV\n",
    " 26. is_X\n",
    " `Extracted from METAR REM`\n",
    " 27. temperature_fahrenheit\n",
    " 28. Is_Holiday\n",
    " 29. Elevation\n",
    " `Categorical`\n",
    " 30. DAY_OF_MONTH\n",
    " 31. DAY_OF_WEEK\n",
    " 32. FL_ID\n",
    " 33. OP_UNIQUE_CARRIER\n",
    " 34. ORIGIN\n",
    " 35. DEST\n",
    " 36. dep_Hour\n",
    " 37. QUARTER\n",
    " 38. MONTH\n",
    " 39. origin_type\n",
    "\n",
    " \n",
    " The following is `Based on 2 hour before rolling count of delayed flights at that ORIGIN airport -- gave a 3 point boost in AUC`\n",
    "This will be known 2 hours before the departure \n",
    "\n",
    " 40. flights_delayed_at_current_origin \n",
    " \n",
    "### TARGET \n",
    "     DEP_DEL15"
   ]
  },
  {
   "cell_type": "code",
   "execution_count": 0,
   "metadata": {
    "application/vnd.databricks.v1+cell": {
     "cellMetadata": {
      "byteLimit": 2048000,
      "rowLimit": 10000
     },
     "inputWidgets": {},
     "nuid": "f3a74dd8-a4e6-47ae-ab61-3ccdda7add9f",
     "showTitle": false,
     "title": ""
    }
   },
   "outputs": [],
   "source": [
    "## This is the main cell from where all ML will be called\n",
    "\n",
    "DATE_COLS = [ 'sched_depart_date_time_UTC','two_hours_prior_depart_UTC']\n",
    "# Make sure 'DEP_DEL15' is the last value in this list\n",
    "#'FL_DATE',\n",
    "NUM_FEATURES_COLS = ['HourlyWindGustSpeed', 'DISTANCE', 'MIN_DIST_FROM_HOLIDAY', 'HourlyAltimeterSetting', \n",
    "                     'HourlyDewPointTemperature', 'HourlyDryBulbTemperature',  'HourlyPressureChange', 'previous_flight_delay_status', \n",
    "                     'Outlinks','num_fl_departing_this_hour_ORIGIN', 'num_fl_arriving_this_hour_ORIGIN',  'HourlyPrecipitation', 'HourlyRelativeHumidity', \n",
    "                     'HourlySeaLevelPressure', 'HourlyStationPressure',  'HourlyWetBulbTemperature', 'HourlyWindDirection', 'HourlyWindSpeed', 'total_flights_on_fl_date_origin', \n",
    "                     'is_CLR', 'is_FEW', 'is_BKN', 'is_OVC', 'is_SCT', 'is_VV', 'is_X',  'temperature_fahrenheit', 'Is_Holiday', 'Elevation', 'DEP_DEL15']\n",
    "CAT_FEATURES_COLS = ['DAY_OF_MONTH','DAY_OF_WEEK', 'FL_ID', 'OP_UNIQUE_CARRIER',  'ORIGIN', 'DEST', 'dep_Hour',  'QUARTER', 'MONTH','origin_type']\n",
    "LABEL = 'DEP_DEL15'\n",
    "\n",
    "## Call the function to do Logistic Regression\n",
    "trainandeval_lr(train_df, val_df)"
   ]
  },
  {
   "cell_type": "code",
   "execution_count": 0,
   "metadata": {
    "application/vnd.databricks.v1+cell": {
     "cellMetadata": {
      "byteLimit": 2048000,
      "rowLimit": 10000
     },
     "inputWidgets": {},
     "nuid": "644a468c-7246-4048-921b-4cc562c65047",
     "showTitle": false,
     "title": ""
    }
   },
   "outputs": [
    {
     "output_type": "stream",
     "name": "stdout",
     "output_type": "stream",
     "text": [
      "Logistic Regression Training AUC:  0.7754598347899548\nLogistic Regression Validation AUC:  0.766544342857602\nBest regParam: 0.001\nBest elasticNetParam: 0.0\nAccuracy: 0.8444167768550745\nPrecision: 0.8259612272997252\nRecall: 0.8444167768550745\nF1 score: 0.823940615419789\n"
     ]
    },
    {
     "output_type": "stream",
     "name": "stderr",
     "output_type": "stream",
     "text": [
      "/databricks/spark/python/pyspark/sql/context.py:165: FutureWarning: Deprecated in 3.0.0. Use SparkSession.builder.getOrCreate() instead.\n  warnings.warn(\n"
     ]
    },
    {
     "output_type": "display_data",
     "data": {
      "image/png": "[encoded data removed]",
      "text/plain": [
       "<Figure size 500x500 with 2 Axes>"
      ]
     },
     "metadata": {},
     "output_type": "display_data"
    }
   ],
   "source": [
    "## This is the main cell from where all ML will be called\n",
    "\n",
    "DATE_COLS = [ 'sched_depart_date_time_UTC','two_hours_prior_depart_UTC']\n",
    "# Make sure 'DEP_DEL15' is the last value in this list\n",
    "#'FL_DATE',\n",
    "NUM_FEATURES_COLS = ['HourlyWindGustSpeed', 'DISTANCE', 'MIN_DIST_FROM_HOLIDAY', 'HourlyAltimeterSetting', \n",
    "                     'HourlyDewPointTemperature', 'HourlyDryBulbTemperature',  'HourlyPressureChange', 'previous_flight_delay_status', \n",
    "                     'Outlinks','num_fl_departing_this_hour_ORIGIN', 'num_fl_arriving_this_hour_ORIGIN',  'HourlyPrecipitation', 'HourlyRelativeHumidity', \n",
    "                     'HourlySeaLevelPressure', 'HourlyStationPressure',  'HourlyWetBulbTemperature', 'HourlyWindDirection', 'HourlyWindSpeed', 'total_flights_on_fl_date_origin', \n",
    "                     'temperature_fahrenheit', 'Is_Holiday', 'DEP_DEL15']\n",
    "CAT_FEATURES_COLS = ['DAY_OF_MONTH','DAY_OF_WEEK',  'OP_UNIQUE_CARRIER',  'ORIGIN', 'DEST', \n",
    "                     'is_CLR', 'is_FEW', 'is_BKN', 'is_OVC', 'is_SCT', 'is_VV', 'is_X',\n",
    "                     'dep_Hour',  'QUARTER', 'MONTH','origin_type'] #'FL_ID',\n",
    "LABEL = 'DEP_DEL15'\n",
    "\n",
    "## Call the function to do Logistic Regression\n",
    "trainandeval_lr(train_df, val_df)"
   ]
  },
  {
   "cell_type": "code",
   "execution_count": 0,
   "metadata": {
    "application/vnd.databricks.v1+cell": {
     "cellMetadata": {
      "byteLimit": 2048000,
      "rowLimit": 10000
     },
     "inputWidgets": {},
     "nuid": "ce6ee66c-9a58-4f4b-8612-d53eeae655f9",
     "showTitle": false,
     "title": ""
    }
   },
   "outputs": [],
   "source": [
    "train_df = spark.read.format(\"delta\").load(f\"{team_blob_url}/saket_output_delta_FinalML_9723PM/\")\n",
    "val_df = spark.read.format(\"delta\").load(f\"{team_blob_url}/saket_output_delta_val_FinalML_9723_PM/\")"
   ]
  },
  {
   "cell_type": "code",
   "execution_count": 0,
   "metadata": {
    "application/vnd.databricks.v1+cell": {
     "cellMetadata": {
      "byteLimit": 2048000,
      "rowLimit": 10000
     },
     "inputWidgets": {},
     "nuid": "83ef2bf0-e18c-44b6-948b-981aaeb006a9",
     "showTitle": false,
     "title": ""
    }
   },
   "outputs": [],
   "source": [
    "train_df = train_df.select('sched_depart_date_time_UTC','two_hours_prior_depart_UTC','HourlyWindGustSpeed', 'DISTANCE', 'MIN_DIST_FROM_HOLIDAY', 'HourlyAltimeterSetting', \n",
    "                     'HourlyDewPointTemperature', 'HourlyDryBulbTemperature',  'HourlyPressureChange', 'previous_flight_delay_status', \n",
    "                     'Outlinks','num_fl_departing_this_hour_ORIGIN', 'num_fl_arriving_this_hour_ORIGIN',  'HourlyPrecipitation', 'HourlyRelativeHumidity', \n",
    "                     'HourlySeaLevelPressure', 'HourlyStationPressure',  'HourlyWetBulbTemperature', 'HourlyWindDirection', 'HourlyWindSpeed', 'total_flights_on_fl_date_origin', \n",
    "                     'temperature_fahrenheit', 'Is_Holiday', 'DEP_DEL15','DAY_OF_MONTH','DAY_OF_WEEK',  'OP_UNIQUE_CARRIER',  'ORIGIN', 'DEST', \n",
    "                     'is_CLR', 'is_FEW', 'is_BKN', 'is_OVC', 'is_SCT', 'is_VV', 'is_X',\n",
    "                     'dep_Hour',  'QUARTER', 'MONTH','origin_type','dest_type')\n",
    "val_df = val_df.select ('sched_depart_date_time_UTC','two_hours_prior_depart_UTC','HourlyWindGustSpeed', 'DISTANCE', 'MIN_DIST_FROM_HOLIDAY', 'HourlyAltimeterSetting', \n",
    "                     'HourlyDewPointTemperature', 'HourlyDryBulbTemperature',  'HourlyPressureChange', 'previous_flight_delay_status', \n",
    "                     'Outlinks','num_fl_departing_this_hour_ORIGIN', 'num_fl_arriving_this_hour_ORIGIN',  'HourlyPrecipitation', 'HourlyRelativeHumidity', \n",
    "                     'HourlySeaLevelPressure', 'HourlyStationPressure',  'HourlyWetBulbTemperature', 'HourlyWindDirection', 'HourlyWindSpeed', 'total_flights_on_fl_date_origin', \n",
    "                     'temperature_fahrenheit', 'Is_Holiday', 'DEP_DEL15','DAY_OF_MONTH','DAY_OF_WEEK',  'OP_UNIQUE_CARRIER',  'ORIGIN', 'DEST', \n",
    "                     'is_CLR', 'is_FEW', 'is_BKN', 'is_OVC', 'is_SCT', 'is_VV', 'is_X',\n",
    "                     'dep_Hour',  'QUARTER', 'MONTH','origin_type','dest_type')"
   ]
  },
  {
   "cell_type": "code",
   "execution_count": 0,
   "metadata": {
    "application/vnd.databricks.v1+cell": {
     "cellMetadata": {
      "byteLimit": 2048000,
      "rowLimit": 10000
     },
     "inputWidgets": {},
     "nuid": "8f19cce9-22aa-4d4c-af9f-305a68bde8d3",
     "showTitle": false,
     "title": ""
    }
   },
   "outputs": [
    {
     "output_type": "stream",
     "name": "stdout",
     "output_type": "stream",
     "text": [
      "date_columns ['sched_depart_date_time_UTC', 'two_hours_prior_depart_UTC']\nHourlyWindGustSpeed: 0 NULL values, 0 NaN values, 0 blank values\nDISTANCE: 0 NULL values, 0 NaN values, 0 blank values\nMIN_DIST_FROM_HOLIDAY: 0 NULL values, 0 NaN values, 0 blank values\nHourlyAltimeterSetting: 0 NULL values, 0 NaN values, 0 blank values\nHourlyDewPointTemperature: 0 NULL values, 0 NaN values, 0 blank values\nHourlyDryBulbTemperature: 0 NULL values, 0 NaN values, 0 blank values\nHourlyPressureChange: 15683530 NULL values, 0 NaN values, 0 blank values\nprevious_flight_delay_status: 194387 NULL values, 0 NaN values, 0 blank values\nOutlinks: 0 NULL values, 0 NaN values, 0 blank values\nnum_fl_departing_this_hour_ORIGIN: 0 NULL values, 0 NaN values, 0 blank values\nnum_fl_arriving_this_hour_ORIGIN: 0 NULL values, 0 NaN values, 0 blank values\nHourlyPrecipitation: 0 NULL values, 0 NaN values, 0 blank values\nHourlyRelativeHumidity: 0 NULL values, 0 NaN values, 0 blank values\nHourlySeaLevelPressure: 0 NULL values, 0 NaN values, 0 blank values\nHourlyStationPressure: 0 NULL values, 0 NaN values, 0 blank values\nHourlyWetBulbTemperature: 0 NULL values, 0 NaN values, 0 blank values\nHourlyWindDirection: 0 NULL values, 0 NaN values, 0 blank values\nHourlyWindSpeed: 0 NULL values, 0 NaN values, 0 blank values\ntotal_flights_on_fl_date_origin: 0 NULL values, 0 NaN values, 0 blank values\ntemperature_fahrenheit: 1000618 NULL values, 0 NaN values, 0 blank values\nIs_Holiday: 0 NULL values, 0 NaN values, 0 blank values\nDEP_DEL15: 0 NULL values, 0 NaN values, 0 blank values\nDAY_OF_MONTH: 0 NULL values, 0 NaN values, 0 blank values\nDAY_OF_WEEK: 0 NULL values, 0 NaN values, 0 blank values\nOP_UNIQUE_CARRIER: 0 NULL values, 0 NaN values, 0 blank values\nORIGIN: 0 NULL values, 0 NaN values, 0 blank values\nDEST: 0 NULL values, 0 NaN values, 0 blank values\nis_CLR: 0 NULL values, 0 NaN values, 0 blank values\nis_FEW: 0 NULL values, 0 NaN values, 0 blank values\nis_BKN: 0 NULL values, 0 NaN values, 0 blank values\nis_OVC: 0 NULL values, 0 NaN values, 0 blank values\nis_SCT: 0 NULL values, 0 NaN values, 0 blank values\nis_VV: 0 NULL values, 0 NaN values, 0 blank values\nis_X: 0 NULL values, 0 NaN values, 0 blank values\ndep_Hour: 0 NULL values, 0 NaN values, 0 blank values\nQUARTER: 0 NULL values, 0 NaN values, 0 blank values\nMONTH: 0 NULL values, 0 NaN values, 0 blank values\norigin_type: 0 NULL values, 0 NaN values, 0 blank values\ndest_type: 0 NULL values, 0 NaN values, 0 blank values\n"
     ]
    }
   ],
   "source": [
    "findnullincols(train_df)"
   ]
  },
  {
   "cell_type": "code",
   "execution_count": 0,
   "metadata": {
    "application/vnd.databricks.v1+cell": {
     "cellMetadata": {
      "byteLimit": 2048000,
      "rowLimit": 10000
     },
     "inputWidgets": {},
     "nuid": "abec44e9-ff48-497d-929a-acd37e905a7b",
     "showTitle": false,
     "title": ""
    }
   },
   "outputs": [
    {
     "output_type": "stream",
     "name": "stdout",
     "output_type": "stream",
     "text": [
      "Logistic Regression Training AUC:  0.7744434112539695\nLogistic Regression Validation AUC:  0.767565259898844\nBest regParam: 0.0001\nBest elasticNetParam: 0.0\nAccuracy: 0.8451903519711523\nPrecision: 0.8271782247681826\nRecall: 0.8451903519711522\nF1 score: 0.8260389539201949\n"
     ]
    },
    {
     "output_type": "stream",
     "name": "stderr",
     "output_type": "stream",
     "text": [
      "/databricks/spark/python/pyspark/sql/context.py:165: FutureWarning: Deprecated in 3.0.0. Use SparkSession.builder.getOrCreate() instead.\n  warnings.warn(\n"
     ]
    },
    {
     "output_type": "display_data",
     "data": {
      "image/png": "[encoded data removed]",
      "text/plain": [
       "<Figure size 500x500 with 2 Axes>"
      ]
     },
     "metadata": {},
     "output_type": "display_data"
    }
   ],
   "source": [
    "## This is the main cell from where all ML will be called\n",
    "\n",
    "DATE_COLS = [ 'sched_depart_date_time_UTC','two_hours_prior_depart_UTC']\n",
    "# Make sure 'DEP_DEL15' is the last value in this list\n",
    "#'FL_DATE',\n",
    "NUM_FEATURES_COLS = ['HourlyWindGustSpeed', 'DISTANCE', 'MIN_DIST_FROM_HOLIDAY', 'HourlyAltimeterSetting', \n",
    "                     'HourlyDewPointTemperature', 'HourlyDryBulbTemperature',  'HourlyPressureChange', 'previous_flight_delay_status', \n",
    "                     'Outlinks','num_fl_departing_this_hour_ORIGIN', 'num_fl_arriving_this_hour_ORIGIN',  'HourlyPrecipitation', 'HourlyRelativeHumidity', \n",
    "                     'HourlySeaLevelPressure', 'HourlyStationPressure',  'HourlyWetBulbTemperature', 'HourlyWindDirection', 'HourlyWindSpeed', 'total_flights_on_fl_date_origin', \n",
    "                     'temperature_fahrenheit', 'Is_Holiday', 'DEP_DEL15']\n",
    "CAT_FEATURES_COLS = ['DAY_OF_MONTH','DAY_OF_WEEK',  'OP_UNIQUE_CARRIER',  'ORIGIN', 'DEST', \n",
    "                     'is_CLR', 'is_FEW', 'is_BKN', 'is_OVC', 'is_SCT', 'is_VV', 'is_X',\n",
    "                     'dep_Hour',  'QUARTER', 'MONTH','origin_type','dest_type'] #'FL_ID',\n",
    "LABEL = 'DEP_DEL15'\n",
    "\n",
    "## Call the function to do Logistic Regression\n",
    "trainandeval_lr(train_df, val_df)"
   ]
  },
  {
   "cell_type": "code",
   "execution_count": 0,
   "metadata": {
    "application/vnd.databricks.v1+cell": {
     "cellMetadata": {},
     "inputWidgets": {},
     "nuid": "f9d8960f-6940-4521-8024-29821a398c79",
     "showTitle": false,
     "title": ""
    }
   },
   "outputs": [],
   "source": []
  },
  {
   "cell_type": "code",
   "execution_count": 0,
   "metadata": {
    "application/vnd.databricks.v1+cell": {
     "cellMetadata": {
      "byteLimit": 2048000,
      "rowLimit": 10000
     },
     "inputWidgets": {},
     "nuid": "32437efa-afe1-4990-b657-10f1117ebbd5",
     "showTitle": false,
     "title": ""
    }
   },
   "outputs": [
    {
     "output_type": "stream",
     "name": "stdout",
     "output_type": "stream",
     "text": [
      "Logistic Regression Training AUC:  0.7760820829891444\nLogistic Regression Validation AUC:  0.769434053781007\nBest regParam: 1e-05\nBest elasticNetParam: 0.0\nAccuracy: 0.8466710569392646\nPrecision: 0.8288664294473219\nRecall: 0.8466710569392646\nF1 score: 0.828306305610937\n"
     ]
    },
    {
     "output_type": "stream",
     "name": "stderr",
     "output_type": "stream",
     "text": [
      "/databricks/spark/python/pyspark/sql/context.py:165: FutureWarning: Deprecated in 3.0.0. Use SparkSession.builder.getOrCreate() instead.\n  warnings.warn(\n"
     ]
    },
    {
     "output_type": "display_data",
     "data": {
      "image/png": "[encoded data removed]",
      "text/plain": [
       "<Figure size 500x500 with 2 Axes>"
      ]
     },
     "metadata": {},
     "output_type": "display_data"
    }
   ],
   "source": [
    "## TRAINING WITH NO DATE COLUMNS & REMOVED all NULLs from previous_flight_delay_status\n",
    "\n",
    "train_df = spark.read.format(\"delta\").load(f\"{team_blob_url}/saket_output_delta_FinalML_nonull_10723PM/\")\n",
    "val_df = spark.read.format(\"delta\").load(f\"{team_blob_url}/saket_output_delta_val_FinalML_nonull_10723_PM/\")    \n",
    "DATE_COLS = [ ]\n",
    "# Make sure 'DEP_DEL15' is the last value in this list\n",
    "#'FL_DATE',\n",
    "NUM_FEATURES_COLS = ['HourlyWindGustSpeed', 'DISTANCE', 'MIN_DIST_FROM_HOLIDAY', 'HourlyAltimeterSetting', \n",
    "                     'HourlyDewPointTemperature', 'HourlyDryBulbTemperature',  'HourlyPressureChange', 'previous_flight_delay_status', \n",
    "                     'Outlinks','num_fl_departing_this_hour_ORIGIN', 'num_fl_arriving_this_hour_ORIGIN',  'HourlyPrecipitation', 'HourlyRelativeHumidity', \n",
    "                     'HourlySeaLevelPressure', 'HourlyStationPressure',  'HourlyWetBulbTemperature', 'HourlyWindDirection', 'HourlyWindSpeed', 'total_flights_on_fl_date_origin', \n",
    "                     'temperature_fahrenheit', 'Is_Holiday','flights_delayed_at_current_origin', 'DEP_DEL15']\n",
    "CAT_FEATURES_COLS = ['DAY_OF_MONTH','DAY_OF_WEEK',  'OP_UNIQUE_CARRIER',  'ORIGIN', 'DEST', \n",
    "                     'is_CLR', 'is_FEW', 'is_BKN', 'is_OVC', 'is_SCT', 'is_VV', 'is_X',\n",
    "                     'dep_Hour',  'QUARTER', 'MONTH','origin_type','dest_type'] #'FL_ID',\n",
    "LABEL = 'DEP_DEL15'\n",
    "\n",
    "## Call the function to do Logistic Regression\n",
    "trainandeval_lr(train_df, val_df)"
   ]
  },
  {
   "cell_type": "code",
   "execution_count": 0,
   "metadata": {
    "application/vnd.databricks.v1+cell": {
     "cellMetadata": {},
     "inputWidgets": {},
     "nuid": "ce448a98-8b04-475e-9bbc-1429e634b05e",
     "showTitle": false,
     "title": ""
    }
   },
   "outputs": [],
   "source": []
  },
  {
   "cell_type": "code",
   "execution_count": 0,
   "metadata": {
    "application/vnd.databricks.v1+cell": {
     "cellMetadata": {
      "byteLimit": 2048000,
      "rowLimit": 10000
     },
     "inputWidgets": {},
     "nuid": "80ce06e7-4270-4791-b8c9-5f6b3497b77b",
     "showTitle": false,
     "title": ""
    }
   },
   "outputs": [
    {
     "output_type": "stream",
     "name": "stdout",
     "output_type": "stream",
     "text": [
      "date_columns ['FL_DATE', 'sched_depart_date_time_UTC', 'two_hours_prior_depart_UTC']\nElevation: 0 NULL values, 0 NaN values, 0 blank values\nORIGIN: 0 NULL values, 0 NaN values, 0 blank values\nOP_CARRIER_FL_NUM: 0 NULL values, 0 NaN values, 0 blank values\nTAIL_NUM: 0 NULL values, 0 NaN values, 0 blank values\nQUARTER: 0 NULL values, 0 NaN values, 0 blank values\nDAY_OF_MONTH: 0 NULL values, 0 NaN values, 0 blank values\nDAY_OF_WEEK: 0 NULL values, 0 NaN values, 0 blank values\nOP_UNIQUE_CARRIER: 0 NULL values, 0 NaN values, 0 blank values\nOP_CARRIER_AIRLINE_ID: 0 NULL values, 0 NaN values, 0 blank values\nDEST: 0 NULL values, 0 NaN values, 0 blank values\nDEST_CITY_NAME: 0 NULL values, 0 NaN values, 0 blank values\nDEST_STATE_ABR: 0 NULL values, 0 NaN values, 0 blank values\nDEST_STATE_FIPS: 0 NULL values, 0 NaN values, 0 blank values\nDEST_STATE_NM: 0 NULL values, 0 NaN values, 0 blank values\nDEST_WAC: 0 NULL values, 0 NaN values, 0 blank values\nCRS_DEP_TIME: 0 NULL values, 0 NaN values, 0 blank values\nDEP_TIME: 0 NULL values, 0 NaN values, 0 blank values\nDEP_DELAY: 0 NULL values, 0 NaN values, 0 blank values\nDEP_DELAY_NEW: 0 NULL values, 0 NaN values, 0 blank values\nDEP_DEL15: 0 NULL values, 0 NaN values, 0 blank values\nDISTANCE: 0 NULL values, 0 NaN values, 0 blank values\nYEAR: 0 NULL values, 0 NaN values, 0 blank values\nMONTH: 0 NULL values, 0 NaN values, 0 blank values\norigin_type: 0 NULL values, 0 NaN values, 0 blank values\ndest_type: 0 NULL values, 0 NaN values, 0 blank values\nprevious_flight_delay_status: 0 NULL values, 0 NaN values, 0 blank values\nMIN_DIST_FROM_HOLIDAY: 0 NULL values, 0 NaN values, 0 blank values\nOutlinks: 0 NULL values, 0 NaN values, 0 blank values\nIs_Holiday: 0 NULL values, 0 NaN values, 0 blank values\nFL_ID: 0 NULL values, 0 NaN values, 0 blank values\ndep_Hour: 0 NULL values, 0 NaN values, 0 blank values\narr_Hour: 86 NULL values, 0 NaN values, 0 blank values\nnum_fl_departing_this_hour_ORIGIN: 0 NULL values, 0 NaN values, 0 blank values\nnum_fl_arriving_this_hour_ORIGIN: 0 NULL values, 0 NaN values, 0 blank values\nFL_SURR_KEY: 0 NULL values, 0 NaN values, 0 blank values\nHourlyAltimeterSetting: 0 NULL values, 0 NaN values, 0 blank values\nHourlyDewPointTemperature: 0 NULL values, 0 NaN values, 0 blank values\nHourlySkyConditions: 220896 NULL values, 0 NaN values, 0 blank values\nHourlyPressureChange: 4691227 NULL values, 0 NaN values, 0 blank values\nHourlyDryBulbTemperature: 0 NULL values, 0 NaN values, 0 blank values\nHourlyPrecipitation: 0 NULL values, 0 NaN values, 0 blank values\nHourlyRelativeHumidity: 0 NULL values, 0 NaN values, 0 blank values\nHourlySeaLevelPressure: 0 NULL values, 0 NaN values, 0 blank values\nHourlyWindGustSpeed: 0 NULL values, 0 NaN values, 0 blank values\nHourlyStationPressure: 0 NULL values, 0 NaN values, 0 blank values\nHourlyVisibility: 0 NULL values, 0 NaN values, 0 blank values\nHourlyWetBulbTemperature: 0 NULL values, 0 NaN values, 0 blank values\nHourlyWindDirection: 0 NULL values, 0 NaN values, 0 blank values\nHourlyWindSpeed: 0 NULL values, 0 NaN values, 0 blank values\ntotal_flights_on_fl_date_origin: 0 NULL values, 0 NaN values, 0 blank values\nis_CLR: 0 NULL values, 0 NaN values, 0 blank values\nis_FEW: 0 NULL values, 0 NaN values, 0 blank values\nis_BKN: 0 NULL values, 0 NaN values, 0 blank values\nis_OVC: 0 NULL values, 0 NaN values, 0 blank values\nis_SCT: 0 NULL values, 0 NaN values, 0 blank values\nis_VV: 0 NULL values, 0 NaN values, 0 blank values\nis_X: 0 NULL values, 0 NaN values, 0 blank values\nwind_gusts_mph: 6752828 NULL values, 0 NaN values, 0 blank values\nprecipitation_mm: 6365176 NULL values, 0 NaN values, 0 blank values\ntemperature_fahrenheit: 308532 NULL values, 0 NaN values, 0 blank values\nflights_delayed_at_current_origin: 0 NULL values, 0 NaN values, 0 blank values\n"
     ]
    }
   ],
   "source": [
    "findnullincols(val_df)"
   ]
  },
  {
   "cell_type": "code",
   "execution_count": 0,
   "metadata": {
    "application/vnd.databricks.v1+cell": {
     "cellMetadata": {
      "byteLimit": 2048000,
      "rowLimit": 10000
     },
     "inputWidgets": {},
     "nuid": "d69ee34c-5379-4bc6-ae4d-84a40ef7be94",
     "showTitle": false,
     "title": ""
    }
   },
   "outputs": [
    {
     "output_type": "stream",
     "name": "stdout",
     "output_type": "stream",
     "text": [
      "23669325\n7154007\nLogistic Regression Training AUC:  0.7805111810527503\nLogistic Regression Validation AUC:  0.77357271436635\nBest regParam: 1e-05\nBest elasticNetParam: 0.0\nAccuracy: 0.8478353958895946\nPrecision: 0.8302767651587943\nRecall: 0.8478353958895946\nF1 score: 0.8284445600705472\n"
     ]
    },
    {
     "output_type": "stream",
     "name": "stderr",
     "output_type": "stream",
     "text": [
      "/databricks/spark/python/pyspark/sql/context.py:165: FutureWarning: Deprecated in 3.0.0. Use SparkSession.builder.getOrCreate() instead.\n  warnings.warn(\n"
     ]
    },
    {
     "output_type": "display_data",
     "data": {
      "image/png": "[encoded data removed]",
      "text/plain": [
       "<Figure size 500x500 with 2 Axes>"
      ]
     },
     "metadata": {},
     "output_type": "display_data"
    }
   ],
   "source": [
    "train_df = spark.read.format(\"delta\").load(f\"{team_blob_url}/saket_output_delta_FinalML_nonull_10723AM/\")\n",
    "val_df = spark.read.format(\"delta\").load(f\"{team_blob_url}/saket_output_delta_val_FinalML_nonull_10723AM/\")\n",
    "print(train_df.count())\n",
    "print(val_df.count())\n",
    "DATE_COLS = []\n",
    "# Make sure 'DEP_DEL15' is the last value in this list\n",
    "#'FL_DATE',\n",
    "NUM_FEATURES_COLS = ['HourlyWindGustSpeed', 'DISTANCE', 'MIN_DIST_FROM_HOLIDAY', 'HourlyAltimeterSetting', \n",
    "                     'HourlyDewPointTemperature', 'HourlyDryBulbTemperature',  'HourlyPressureChange', 'previous_flight_delay_status', \n",
    "                     'Outlinks','num_fl_departing_this_hour_ORIGIN', 'num_fl_arriving_this_hour_ORIGIN',  'HourlyPrecipitation', 'HourlyRelativeHumidity', \n",
    "                     'HourlySeaLevelPressure', 'HourlyStationPressure',  'HourlyWetBulbTemperature', 'HourlyWindDirection', 'HourlyWindSpeed', 'total_flights_on_fl_date_origin', \n",
    "                     'temperature_fahrenheit', 'Is_Holiday','flights_delayed_at_current_origin', 'DEP_DEL15']\n",
    "CAT_FEATURES_COLS = ['DAY_OF_MONTH','DAY_OF_WEEK',  'OP_UNIQUE_CARRIER',  'ORIGIN', 'DEST', \n",
    "                     'is_CLR', 'is_FEW', 'is_BKN', 'is_OVC', 'is_SCT', 'is_VV', 'is_X',\n",
    "                     'dep_Hour',  'QUARTER', 'MONTH','origin_type','dest_type'] #'FL_ID',\n",
    "LABEL = 'DEP_DEL15'\n",
    "\n",
    "## Call the function to do Logistic Regression\n",
    "trainandeval_lr(train_df, val_df)"
   ]
  },
  {
   "cell_type": "code",
   "execution_count": 0,
   "metadata": {
    "application/vnd.databricks.v1+cell": {
     "cellMetadata": {
      "byteLimit": 2048000,
      "rowLimit": 10000
     },
     "inputWidgets": {},
     "nuid": "78dbee28-d621-4ea2-aebc-8667684023cf",
     "showTitle": false,
     "title": ""
    }
   },
   "outputs": [
    {
     "output_type": "stream",
     "name": "stdout",
     "output_type": "stream",
     "text": [
      "['FL_DATE', 'Elevation', 'sched_depart_date_time_UTC', 'two_hours_prior_depart_UTC', 'ORIGIN', 'OP_CARRIER_FL_NUM', 'TAIL_NUM', 'QUARTER', 'DAY_OF_MONTH', 'DAY_OF_WEEK', 'OP_UNIQUE_CARRIER', 'OP_CARRIER_AIRLINE_ID', 'DEST', 'DEST_CITY_NAME', 'DEST_STATE_ABR', 'DEST_STATE_FIPS', 'DEST_STATE_NM', 'DEST_WAC', 'CRS_DEP_TIME', 'DEP_TIME', 'DEP_DELAY', 'DEP_DELAY_NEW', 'DEP_DEL15', 'DISTANCE', 'YEAR', 'MONTH', 'origin_type', 'dest_type', 'previous_flight_delay_status', 'MIN_DIST_FROM_HOLIDAY', 'Outlinks', 'Is_Holiday', 'FL_ID', 'dep_Hour', 'arr_Hour', 'num_fl_departing_this_hour_ORIGIN', 'num_fl_arriving_this_hour_ORIGIN', 'FL_SURR_KEY', 'HourlyAltimeterSetting', 'HourlyDewPointTemperature', 'HourlySkyConditions', 'HourlyPressureChange', 'HourlyWindGustSpeed', 'HourlyDryBulbTemperature', 'HourlyPrecipitation', 'HourlyRelativeHumidity', 'HourlySeaLevelPressure', 'HourlyStationPressure', 'HourlyVisibility', 'HourlyWetBulbTemperature', 'HourlyWindDirection', 'HourlyWindSpeed', 'total_flights_on_fl_date_origin', 'is_CLR', 'is_FEW', 'is_BKN', 'is_OVC', 'is_SCT', 'is_VV', 'is_X', 'wind_gusts_mph', 'precipitation_mm', 'temperature_fahrenheit', 'flights_delayed_at_current_origin']\n"
     ]
    }
   ],
   "source": [
    "print(train_df.columns)"
   ]
  },
  {
   "cell_type": "code",
   "execution_count": 0,
   "metadata": {
    "application/vnd.databricks.v1+cell": {
     "cellMetadata": {
      "byteLimit": 2048000,
      "rowLimit": 10000
     },
     "inputWidgets": {},
     "nuid": "2479f069-1903-490d-8f64-40892357770d",
     "showTitle": false,
     "title": ""
    }
   },
   "outputs": [],
   "source": [
    "df_final_Adam = train_df.select('HourlyWindGustSpeed', 'DISTANCE', 'MIN_DIST_FROM_HOLIDAY', 'HourlyAltimeterSetting', \n",
    "                     'HourlyDewPointTemperature', 'HourlyDryBulbTemperature',  'HourlyPressureChange', 'previous_flight_delay_status', \n",
    "                     'Outlinks','num_fl_departing_this_hour_ORIGIN', 'num_fl_arriving_this_hour_ORIGIN',  'HourlyPrecipitation', 'HourlyRelativeHumidity', \n",
    "                     'HourlySeaLevelPressure', 'HourlyStationPressure',  'HourlyWetBulbTemperature', 'HourlyWindDirection', 'HourlyWindSpeed', 'total_flights_on_fl_date_origin', \n",
    "                     'temperature_fahrenheit', 'Is_Holiday','flights_delayed_at_current_origin', 'DEP_DEL15','DAY_OF_MONTH','DAY_OF_WEEK',  'OP_UNIQUE_CARRIER',  'ORIGIN', 'DEST', \n",
    "                     'is_CLR', 'is_FEW', 'is_BKN', 'is_OVC', 'is_SCT', 'is_VV', 'is_X',\n",
    "                     'dep_Hour',  'QUARTER', 'MONTH','origin_type','dest_type')\n",
    "df_final_Adam.write.format('delta').mode('overwrite').option(\"overwriteSchema\", \"true\").save(f\"{team_blob_url}/For_Adam_Input_FinalML_10723/\")"
   ]
  },
  {
   "cell_type": "code",
   "execution_count": 0,
   "metadata": {
    "application/vnd.databricks.v1+cell": {
     "cellMetadata": {
      "byteLimit": 2048000,
      "rowLimit": 10000
     },
     "inputWidgets": {},
     "nuid": "abb546d5-cec3-49b7-95bb-5910b6b2aa39",
     "showTitle": false,
     "title": ""
    }
   },
   "outputs": [],
   "source": [
    "df_final_Adam_val = val_df.select('HourlyWindGustSpeed', 'DISTANCE', 'MIN_DIST_FROM_HOLIDAY', 'HourlyAltimeterSetting', \n",
    "                     'HourlyDewPointTemperature', 'HourlyDryBulbTemperature',  'HourlyPressureChange', 'previous_flight_delay_status', \n",
    "                     'Outlinks','num_fl_departing_this_hour_ORIGIN', 'num_fl_arriving_this_hour_ORIGIN',  'HourlyPrecipitation', 'HourlyRelativeHumidity', \n",
    "                     'HourlySeaLevelPressure', 'HourlyStationPressure',  'HourlyWetBulbTemperature', 'HourlyWindDirection', 'HourlyWindSpeed', 'total_flights_on_fl_date_origin', \n",
    "                     'temperature_fahrenheit', 'Is_Holiday','flights_delayed_at_current_origin', 'DEP_DEL15','DAY_OF_MONTH','DAY_OF_WEEK',  'OP_UNIQUE_CARRIER',  'ORIGIN', 'DEST', \n",
    "                     'is_CLR', 'is_FEW', 'is_BKN', 'is_OVC', 'is_SCT', 'is_VV', 'is_X',\n",
    "                     'dep_Hour',  'QUARTER', 'MONTH','origin_type','dest_type')\n",
    "df_final_Adam_val.write.format('delta').mode('overwrite').option(\"overwriteSchema\", \"true\").save(f\"{team_blob_url}/For_Adam_Input_FinalML_val_10723/\")"
   ]
  },
  {
   "cell_type": "code",
   "execution_count": 0,
   "metadata": {
    "application/vnd.databricks.v1+cell": {
     "cellMetadata": {
      "byteLimit": 2048000,
      "rowLimit": 10000
     },
     "inputWidgets": {},
     "nuid": "b2cae5a6-3c95-4469-84c3-c9860ae371a0",
     "showTitle": false,
     "title": ""
    }
   },
   "outputs": [
    {
     "output_type": "stream",
     "name": "stdout",
     "output_type": "stream",
     "text": [
      "23669325\n7154007\n"
     ]
    }
   ],
   "source": [
    "print(df_final_Adam.count())\n",
    "print(df_final_Adam_val.count())"
   ]
  },
  {
   "cell_type": "code",
   "execution_count": 0,
   "metadata": {
    "application/vnd.databricks.v1+cell": {
     "cellMetadata": {
      "byteLimit": 2048000,
      "rowLimit": 10000
     },
     "inputWidgets": {},
     "nuid": "108f1c7f-e795-418f-be05-60569611c584",
     "showTitle": false,
     "title": ""
    }
   },
   "outputs": [
    {
     "output_type": "execute_result",
     "data": {
      "text/plain": [
       "DataFrame[HourlyWindGustSpeed: string, DISTANCE: double, MIN_DIST_FROM_HOLIDAY: double, HourlyAltimeterSetting: string, HourlyDewPointTemperature: string, HourlyDryBulbTemperature: string, HourlyPressureChange: string, previous_flight_delay_status: double, Outlinks: bigint, num_fl_departing_this_hour_ORIGIN: bigint, num_fl_arriving_this_hour_ORIGIN: bigint, HourlyPrecipitation: string, HourlyRelativeHumidity: string, HourlySeaLevelPressure: string, HourlyStationPressure: string, HourlyWetBulbTemperature: string, HourlyWindDirection: string, HourlyWindSpeed: string, total_flights_on_fl_date_origin: bigint, temperature_fahrenheit: double, Is_Holiday: int, flights_delayed_at_current_origin: double, DEP_DEL15: double, DAY_OF_MONTH: int, DAY_OF_WEEK: int, OP_UNIQUE_CARRIER: string, ORIGIN: string, DEST: string, is_CLR: int, is_FEW: int, is_BKN: int, is_OVC: int, is_SCT: int, is_VV: int, is_X: int, dep_Hour: int, QUARTER: int, MONTH: int, origin_type: string, dest_type: string]"
      ]
     },
     "execution_count": 6,
     "metadata": {},
     "output_type": "execute_result"
    }
   ],
   "source": [
    "train_df = spark.read.format(\"delta\").load(f\"{team_blob_url}/For_Adam_Input_FinalML_10723/\")\n",
    "val_df = spark.read.format(\"delta\").load(f\"{team_blob_url}/For_Adam_Input_FinalML_val_10723/\")\n",
    "\n",
    "\n",
    "train_df.cache()"
   ]
  },
  {
   "cell_type": "code",
   "execution_count": 0,
   "metadata": {
    "application/vnd.databricks.v1+cell": {
     "cellMetadata": {
      "byteLimit": 2048000,
      "rowLimit": 10000
     },
     "inputWidgets": {},
     "nuid": "b4a0322f-ad15-464b-9d76-defedea3731a",
     "showTitle": false,
     "title": ""
    }
   },
   "outputs": [
    {
     "output_type": "stream",
     "name": "stdout",
     "output_type": "stream",
     "text": [
      "['HourlyWindGustSpeed', 'DISTANCE', 'MIN_DIST_FROM_HOLIDAY', 'HourlyAltimeterSetting', 'HourlyDewPointTemperature', 'HourlyDryBulbTemperature', 'HourlyPressureChange', 'previous_flight_delay_status', 'Outlinks', 'num_fl_departing_this_hour_ORIGIN', 'num_fl_arriving_this_hour_ORIGIN', 'HourlyPrecipitation', 'HourlyRelativeHumidity', 'HourlySeaLevelPressure', 'HourlyStationPressure', 'HourlyWetBulbTemperature', 'HourlyWindDirection', 'HourlyWindSpeed', 'total_flights_on_fl_date_origin', 'temperature_fahrenheit', 'Is_Holiday', 'flights_delayed_at_current_origin', 'DEP_DEL15', 'DAY_OF_MONTH', 'DAY_OF_WEEK', 'OP_UNIQUE_CARRIER', 'ORIGIN', 'DEST', 'is_CLR', 'is_FEW', 'is_BKN', 'is_OVC', 'is_SCT', 'is_VV', 'is_X', 'dep_Hour', 'QUARTER', 'MONTH', 'origin_type', 'dest_type']\n"
     ]
    }
   ],
   "source": [
    "print(df_final_Adam.columns)"
   ]
  },
  {
   "cell_type": "code",
   "execution_count": 0,
   "metadata": {
    "application/vnd.databricks.v1+cell": {
     "cellMetadata": {
      "byteLimit": 2048000,
      "rowLimit": 10000
     },
     "inputWidgets": {},
     "nuid": "6be22d95-0253-4d43-ab25-b5c1032c1f0c",
     "showTitle": false,
     "title": ""
    }
   },
   "outputs": [
    {
     "output_type": "execute_result",
     "data": {
      "text/plain": [
       "DataFrame[wind_gusts_mph: decimal(21,9), precipitation_mm: double, temperature_fahrenheit: double, FL_DATE: date, sched_depart_date_time_UTC: timestamp, four_hours_prior_depart_UTC: timestamp, two_hours_prior_depart_UTC: timestamp, DATE: timestamp, WindEquipmentChangeDate: date, scheduled_dep_timestamp: timestamp, actual_dep_timestamp: timestamp, scheduled_arr_timestamp: timestamp, actual_arr_timestamp: timestamp, earlier_timestamp: timestamp, scheduled_dep_time_UTC: timestamp, scheduled_arr_time_UTC: timestamp, ORIGIN: string, OP_CARRIER_FL_NUM: int, TAIL_NUM: string, QUARTER: int, DAY_OF_MONTH: int, DAY_OF_WEEK: int, OP_UNIQUE_CARRIER: string, OP_CARRIER_AIRLINE_ID: int, OP_CARRIER: string, ORIGIN_AIRPORT_ID: int, ORIGIN_AIRPORT_SEQ_ID: int, ORIGIN_CITY_MARKET_ID: int, ORIGIN_CITY_NAME: string, ORIGIN_STATE_ABR: string, ORIGIN_STATE_FIPS: int, ORIGIN_STATE_NM: string, ORIGIN_WAC: int, DEST_AIRPORT_ID: int, DEST_AIRPORT_SEQ_ID: int, DEST_CITY_MARKET_ID: int, DEST: string, DEST_CITY_NAME: string, DEST_STATE_ABR: string, DEST_STATE_FIPS: int, DEST_STATE_NM: string, DEST_WAC: int, CRS_DEP_TIME: int, DEP_TIME: int, DEP_DELAY: double, DEP_DELAY_NEW: double, DEP_DEL15: double, DEP_DELAY_GROUP: int, DEP_TIME_BLK: string, TAXI_OUT: double, WHEELS_OFF: int, WHEELS_ON: int, TAXI_IN: double, CRS_ARR_TIME: int, ARR_TIME: int, ARR_DELAY: double, ARR_DELAY_NEW: double, ARR_DEL15: double, ARR_DELAY_GROUP: int, ARR_TIME_BLK: string, CANCELLED: double, DIVERTED: double, CRS_ELAPSED_TIME: double, ACTUAL_ELAPSED_TIME: double, AIR_TIME: double, FLIGHTS: double, DISTANCE: double, DISTANCE_GROUP: int, YEAR: int, MONTH: int, origin_airport_name: string, origin_station_name: string, origin_station_id: bigint, origin_iata_code: string, origin_icao: string, origin_type: string, origin_region: string, origin_station_lat: double, origin_station_lon: double, origin_airport_lat: double, origin_airport_lon: double, origin_station_dis: double, dest_airport_name: string, dest_station_name: string, dest_station_id: bigint, dest_iata_code: string, dest_icao: string, dest_type: string, dest_region: string, dest_station_lat: double, dest_station_lon: double, dest_airport_lat: double, dest_airport_lon: double, dest_station_dis: double, STATION: bigint, ELEVATION: double, NAME: string, REPORT_TYPE: string, SOURCE: string, HourlyAltimeterSetting: string, HourlyWindGustSpeed: string, HourlyDewPointTemperature: string, HourlyDryBulbTemperature: string, HourlyPrecipitation: string, HourlyPressureChange: string, HourlyPressureTendency: int, HourlyRelativeHumidity: string, HourlySkyConditions: string, HourlySeaLevelPressure: string, HourlyStationPressure: string, HourlyVisibility: string, HourlyWetBulbTemperature: string, HourlyWindDirection: string, HourlyWindSpeed: string, REM: string, IATA: string, dest_tz: string, origin_tz: string, scheduled_dep_time: string, hour: int, actual_dep_time: string, scheduled_arr_time: string, actual_arr_time: string, previous_flight_delay_status: double, MIN_DIST_FROM_HOLIDAY: double, Outlinks: bigint, FL_ARR_DATE_UTC: date, Is_Holiday: int, FL_ID: string, dep_Hour: int, arr_Hour: int, num_fl_departing_this_hour_ORIGIN: bigint, num_fl_arriving_this_hour_ORIGIN: bigint, FL_SURR_KEY: bigint, HourlyAltimeterSetting_imputed: string, HourlyDewPointTemperature_imputed: string, HourlyDryBulbTemperature_imputed: string, HourlyWindGustSpeed_imputed: string, HourlyPrecipitation_imputed: string, HourlyRelativeHumidity_imputed: string, HourlyPressureChange_imputed: string, HourlySeaLevelPressure_imputed: string, HourlyStationPressure_imputed: string, HourlyVisibility_imputed: string, HourlyWetBulbTemperature_imputed: string, HourlyWindDirection_imputed: string, HourlyWindSpeed_imputed: string, total_flights_on_fl_date_origin: bigint, is_CLR: int, is_FEW: int, is_BKN: int, is_OVC: int, is_SCT: int, is_VV: int, is_X: int, flights_delayed_at_current_origin: double]"
      ]
     },
     "execution_count": 16,
     "metadata": {},
     "output_type": "execute_result"
    }
   ],
   "source": [
    "train_df = spark.sql(\"SELECT * FROM Dataset_l9_final_day_temp\")\n",
    "\n",
    "train_df.cache()"
   ]
  },
  {
   "cell_type": "markdown",
   "metadata": {
    "application/vnd.databricks.v1+cell": {
     "cellMetadata": {},
     "inputWidgets": {},
     "nuid": "dbb9f625-1eb0-456d-8014-cd2dc33b88b9",
     "showTitle": false,
     "title": ""
    }
   },
   "source": [
    "## BEST RESULTS\n",
    "\n",
    "From the POV of our chosen metrics this GBT model is the best attempt\n",
    "We went in with hardcoded hyperparams since we had extracted the best params earlier"
   ]
  },
  {
   "cell_type": "code",
   "execution_count": 0,
   "metadata": {
    "application/vnd.databricks.v1+cell": {
     "cellMetadata": {
      "byteLimit": 2048000,
      "rowLimit": 10000
     },
     "inputWidgets": {},
     "nuid": "6f3414f0-9081-4d94-b6d7-81713be6148c",
     "showTitle": false,
     "title": ""
    }
   },
   "outputs": [],
   "source": [
    "train_df = spark.read.format(\"delta\").load(f\"{team_blob_url}/For_Adam_Input_FinalML_10723/\")\n",
    "val_df = spark.read.format(\"delta\").load(f\"{team_blob_url}/saket_output_delta_val_FinalML_nonull_10723AM/\")"
   ]
  },
  {
   "cell_type": "code",
   "execution_count": 0,
   "metadata": {
    "application/vnd.databricks.v1+cell": {
     "cellMetadata": {
      "byteLimit": 2048000,
      "rowLimit": 10000
     },
     "inputWidgets": {},
     "nuid": "65db8d18-f219-4130-acfb-6800511b619e",
     "showTitle": false,
     "title": ""
    }
   },
   "outputs": [
    {
     "output_type": "stream",
     "name": "stdout",
     "output_type": "stream",
     "text": [
      "23669325\n7154007\nGBT Training AUC:  0.7987776594034128\nGBT Classifier AUC:  0.7884826617828646\n"
     ]
    }
   ],
   "source": [
    "# Instantiate Gradient Boosted Tree Classifier\n",
    "DATE_COLS = []\n",
    "# Make sure 'DEP_DEL15' is the last value in this list\n",
    "#'FL_DATE',\n",
    "NUM_FEATURES_COLS = ['HourlyWindGustSpeed', 'DISTANCE', 'MIN_DIST_FROM_HOLIDAY', 'HourlyAltimeterSetting', \n",
    "                     'HourlyDewPointTemperature', 'HourlyDryBulbTemperature',  'HourlyPressureChange', 'previous_flight_delay_status', \n",
    "                     'Outlinks','num_fl_departing_this_hour_ORIGIN', 'num_fl_arriving_this_hour_ORIGIN',  'HourlyPrecipitation', 'HourlyRelativeHumidity', \n",
    "                     'HourlySeaLevelPressure', 'HourlyStationPressure',  'HourlyWetBulbTemperature', 'HourlyWindDirection', 'HourlyWindSpeed', 'total_flights_on_fl_date_origin', \n",
    "                     'temperature_fahrenheit', 'Is_Holiday','flights_delayed_at_current_origin', 'DEP_DEL15']\n",
    "CAT_FEATURES_COLS = ['DAY_OF_MONTH','DAY_OF_WEEK',  'OP_UNIQUE_CARRIER',  'ORIGIN', 'DEST', \n",
    "                     'is_CLR', 'is_FEW', 'is_BKN', 'is_OVC', 'is_SCT', 'is_VV', 'is_X',\n",
    "                     'dep_Hour',  'QUARTER', 'MONTH','origin_type','dest_type'] #'FL_ID',\n",
    "LABEL = 'DEP_DEL15'\n",
    "\n",
    "train_texperiment_df, val_texperiment_df, evaluator = prepML(train_df, val_df)\n",
    "gbt = GBTClassifier(featuresCol='features', labelCol='DEP_DEL15', maxIter=25, maxDepth=10, stepSize=0.05)\n",
    "\n",
    "gbtModel = gbt.fit(train_texperiment_df)\n",
    "\n",
    "# Evaluate Model\n",
    "#gbt_cvModel = gbt_crossval.fit(train_texperiment_df)\n",
    "print('GBT Training AUC: ', evaluator.evaluate(gbtModel.transform(train_texperiment_df)))\n",
    "print('GBT Classifier AUC: ', evaluator.evaluate(gbtModel.transform(val_texperiment_df)))"
   ]
  },
  {
   "cell_type": "code",
   "execution_count": 0,
   "metadata": {
    "application/vnd.databricks.v1+cell": {
     "cellMetadata": {
      "byteLimit": 2048000,
      "rowLimit": 10000
     },
     "inputWidgets": {},
     "nuid": "04ea6942-b0e6-4c62-9c49-47a6b473f058",
     "showTitle": false,
     "title": ""
    }
   },
   "outputs": [
    {
     "output_type": "stream",
     "name": "stdout",
     "output_type": "stream",
     "text": [
      "Accuracy: 0.8525564807129635\nPrecision: 0.8369132885644734\nRecall: 0.8525564807129634\nF1 score: 0.8359272846455639\n"
     ]
    },
    {
     "output_type": "stream",
     "name": "stderr",
     "output_type": "stream",
     "text": [
      "/databricks/spark/python/pyspark/sql/context.py:165: FutureWarning: Deprecated in 3.0.0. Use SparkSession.builder.getOrCreate() instead.\n  warnings.warn(\n"
     ]
    },
    {
     "output_type": "display_data",
     "data": {
      "image/png": "[encoded data removed]",
      "text/plain": [
       "<Figure size 500x500 with 2 Axes>"
      ]
     },
     "metadata": {},
     "output_type": "display_data"
    }
   ],
   "source": [
    "# Make predictions on the validation dataset\n",
    "predictions = gbtModel.transform(val_texperiment_df)\n",
    "# Compute accuracy, precision, recall, and f1 score\n",
    "evaluator_accuracy = MulticlassClassificationEvaluator(labelCol='DEP_DEL15', metricName='accuracy')\n",
    "evaluator_precision = MulticlassClassificationEvaluator(labelCol='DEP_DEL15', metricName='weightedPrecision')\n",
    "evaluator_recall = MulticlassClassificationEvaluator(labelCol='DEP_DEL15', metricName='weightedRecall')\n",
    "evaluator_f1 = MulticlassClassificationEvaluator(labelCol='DEP_DEL15', metricName='f1')\n",
    "accuracy = evaluator_accuracy.evaluate(predictions)\n",
    "precision = evaluator_precision.evaluate(predictions)\n",
    "recall = evaluator_recall.evaluate(predictions)\n",
    "f1 = evaluator_f1.evaluate(predictions)\n",
    "\n",
    "# Print accuracy, precision, recall, and f1 score\n",
    "print('Accuracy:', accuracy)\n",
    "print('Precision:', precision)\n",
    "print('Recall:', recall)\n",
    "print('F1 score:', f1)\n",
    "# Compute confusion matrix\n",
    "predictionAndLabels = predictions.select('prediction', 'DEP_DEL15').rdd\n",
    "metrics = MulticlassMetrics(predictionAndLabels)\n",
    "\n",
    "confusion_matrix = metrics.confusionMatrix().toArray()\n",
    "\n",
    "confusion_matrix = confusion_matrix.astype('float') / confusion_matrix.sum(axis=1)[:, np.newaxis]\n",
    "\n",
    "# Plot confusion matrix using seaborn heatmap\n",
    "plt.figure(figsize=(5, 5))\n",
    "sns.heatmap(confusion_matrix, annot=True, fmt='.2%', cmap='Blues')\n",
    "plt.title('Confusion Matrix')\n",
    "plt.xlabel('Predicted Label')\n",
    "plt.ylabel('True Label')\n",
    "plt.show()"
   ]
  },
  {
   "cell_type": "markdown",
   "metadata": {
    "application/vnd.databricks.v1+cell": {
     "cellMetadata": {},
     "inputWidgets": {},
     "nuid": "7f3c5c24-7485-4d52-a7ca-79a772ddffb8",
     "showTitle": false,
     "title": ""
    }
   },
   "source": [
    "## NEURAL MLP \n",
    "\n",
    "We ran this from another notebook & the time taken was super high so we had to abdandon the idea of finetuning and running again"
   ]
  },
  {
   "cell_type": "code",
   "execution_count": 0,
   "metadata": {
    "application/vnd.databricks.v1+cell": {
     "cellMetadata": {
      "byteLimit": 2048000,
      "rowLimit": 10000
     },
     "inputWidgets": {},
     "nuid": "f7c539f9-9471-419c-8761-64f2c8f926a7",
     "showTitle": false,
     "title": ""
    }
   },
   "outputs": [
    {
     "output_type": "display_data",
     "data": {
      "text/html": [
       "<style scoped>\n",
       "  .ansiout {\n",
       "    display: block;\n",
       "    unicode-bidi: embed;\n",
       "    white-space: pre-wrap;\n",
       "    word-wrap: break-word;\n",
       "    word-break: break-all;\n",
       "    font-family: \"Source Code Pro\", \"Menlo\", monospace;;\n",
       "    font-size: 13px;\n",
       "    color: #555;\n",
       "    margin-left: 4px;\n",
       "    line-height: 19px;\n",
       "  }\n",
       "</style>"
      ]
     },
     "metadata": {
      "application/vnd.databricks.v1+output": {
       "arguments": {},
       "data": "",
       "errorSummary": "Cancelled",
       "errorTraceType": "html",
       "metadata": {},
       "type": "ipynbError"
      }
     },
     "output_type": "display_data"
    }
   ],
   "source": [
    "## TRAINING NEURAL NETWORKS with the new dataset\n",
    "train_df = spark.read.format(\"delta\").load(f\"{team_blob_url}/For_Adam_Input_FinalML_10723/\")\n",
    "val_df = spark.read.format(\"delta\").load(f\"{team_blob_url}/For_Adam_Input_FinalML_val_10723/\")\n",
    "\n",
    "DATE_COLS = [ ]\n",
    "# Make sure 'DEP_DEL15' is the last value in this list\n",
    "#'FL_DATE',\n",
    "NUM_FEATURES_COLS = ['HourlyWindGustSpeed', 'DISTANCE', 'MIN_DIST_FROM_HOLIDAY', 'HourlyAltimeterSetting', \n",
    "                     'HourlyDewPointTemperature', 'HourlyDryBulbTemperature',  'HourlyPressureChange', 'previous_flight_delay_status', \n",
    "                     'Outlinks','num_fl_departing_this_hour_ORIGIN', 'num_fl_arriving_this_hour_ORIGIN',  'HourlyPrecipitation', 'HourlyRelativeHumidity', \n",
    "                     'HourlySeaLevelPressure', 'HourlyStationPressure',  'HourlyWetBulbTemperature', 'HourlyWindDirection', 'HourlyWindSpeed', 'total_flights_on_fl_date_origin', \n",
    "                     'temperature_fahrenheit', 'Is_Holiday','flights_delayed_at_current_origin', 'DEP_DEL15']\n",
    "CAT_FEATURES_COLS = ['DAY_OF_MONTH','DAY_OF_WEEK',  'OP_UNIQUE_CARRIER',  'ORIGIN', 'DEST', \n",
    "                     'is_CLR', 'is_FEW', 'is_BKN', 'is_OVC', 'is_SCT', 'is_VV', 'is_X',\n",
    "                     'dep_Hour',  'QUARTER', 'MONTH','origin_type','dest_type'] #'FL_ID',\n",
    "LABEL = 'DEP_DEL15'\n",
    "\n",
    "## Call the function to do Logistic Regression\n",
    "trainandeval_mlp(train_df, val_df)\n",
    "\n",
    "\n",
    "#### NOTE: PLEASE SEE THE ATTEMPT SCREENSHOT BELOW #####"
   ]
  },
  {
   "cell_type": "markdown",
   "metadata": {
    "application/vnd.databricks.v1+cell": {
     "cellMetadata": {},
     "inputWidgets": {},
     "nuid": "3af72245-bb0b-48ee-8aa4-9c592f952ade",
     "showTitle": false,
     "title": ""
    }
   },
   "source": [
    "![MLP Run Attempt 1](/files/tables/Screenshot_2023_08_11_at_7_33_42_AM.png)"
   ]
  },
  {
   "cell_type": "code",
   "execution_count": 0,
   "metadata": {
    "application/vnd.databricks.v1+cell": {
     "cellMetadata": {
      "byteLimit": 2048000,
      "rowLimit": 10000
     },
     "inputWidgets": {},
     "nuid": "f9799cfc-0625-4db9-8323-b3edc174f2f4",
     "showTitle": false,
     "title": ""
    }
   },
   "outputs": [
    {
     "output_type": "stream",
     "name": "stdout",
     "output_type": "stream",
     "text": [
      "23669325\n7154007\nThese are the layers of the MLP [882, 40, 32, 24, 16, 16, 8, 2]\nStarting the training\nFinished the training\nMLP Training AUC:  0.6742565100874364\nMLP Validation AUC:  0.6676213292334019\nMLP Training Accuracy:  0.8215657802574937\nMLP Validation Accuracy:  0.8155978099870307\nMLP Training Precision:  0.7986000867943234\nMLP Validation Precision:  0.8004281807205644\nMLP Training Recall:  0.8215657802574938\nMLP Validation Recall:  0.8155978099870307\n"
     ]
    },
    {
     "output_type": "stream",
     "name": "stderr",
     "output_type": "stream",
     "text": [
      "/databricks/spark/python/pyspark/sql/context.py:165: FutureWarning: Deprecated in 3.0.0. Use SparkSession.builder.getOrCreate() instead.\n  warnings.warn(\n"
     ]
    },
    {
     "output_type": "stream",
     "name": "stdout",
     "output_type": "stream",
     "text": [
      "[[5.833963e+06 8.000000e+00]\n [1.319024e+06 2.200000e+01]]\n"
     ]
    },
    {
     "output_type": "display_data",
     "data": {
      "image/png": "[encoded data removed]",
      "text/plain": [
       "<Figure size 500x500 with 2 Axes>"
      ]
     },
     "metadata": {},
     "output_type": "display_data"
    }
   ],
   "source": [
    "## TRAINING NEURAL NETWORKS with the new dataset\n",
    "train_df = spark.read.format(\"delta\").load(f\"{team_blob_url}/For_Adam_Input_FinalML_10723/\")\n",
    "val_df = spark.read.format(\"delta\").load(f\"{team_blob_url}/For_Adam_Input_FinalML_val_10723/\")\n",
    "\n",
    "DATE_COLS = []\n",
    "# Make sure 'DEP_DEL15' is the last value in this list\n",
    "#'FL_DATE',\n",
    "NUM_FEATURES_COLS = ['HourlyWindGustSpeed', 'DISTANCE', 'MIN_DIST_FROM_HOLIDAY', 'HourlyAltimeterSetting', \n",
    "                     'HourlyDewPointTemperature', 'HourlyDryBulbTemperature',  'HourlyPressureChange', 'previous_flight_delay_status', \n",
    "                     'Outlinks','num_fl_departing_this_hour_ORIGIN', 'num_fl_arriving_this_hour_ORIGIN',  'HourlyPrecipitation', 'HourlyRelativeHumidity', \n",
    "                     'HourlySeaLevelPressure', 'HourlyStationPressure',  'HourlyWetBulbTemperature', 'HourlyWindDirection', 'HourlyWindSpeed', 'total_flights_on_fl_date_origin', \n",
    "                     'temperature_fahrenheit', 'Is_Holiday','flights_delayed_at_current_origin', 'DEP_DEL15']\n",
    "CAT_FEATURES_COLS = ['DAY_OF_MONTH','DAY_OF_WEEK',  'OP_UNIQUE_CARRIER',  'ORIGIN', 'DEST', \n",
    "                     'is_CLR', 'is_FEW', 'is_BKN', 'is_OVC', 'is_SCT', 'is_VV', 'is_X',\n",
    "                     'dep_Hour',  'QUARTER', 'MONTH','origin_type','dest_type'] #'FL_ID',\n",
    "LABEL = 'DEP_DEL15'\n",
    "\n",
    "## Call the function to do Logistic Regression\n",
    "trainandeval_mlp(train_df, val_df)"
   ]
  },
  {
   "cell_type": "code",
   "execution_count": 0,
   "metadata": {
    "application/vnd.databricks.v1+cell": {
     "cellMetadata": {
      "byteLimit": 2048000,
      "rowLimit": 10000
     },
     "inputWidgets": {},
     "nuid": "b72605bf-0753-47c5-8189-7b71896ca038",
     "showTitle": false,
     "title": ""
    }
   },
   "outputs": [
    {
     "output_type": "stream",
     "name": "stdout",
     "output_type": "stream",
     "text": [
      "23669325\n7154007\nThese are the layers of the MLP [882, 80, 60, 40, 32, 24, 16, 8, 2]\nStarting the training\n"
     ]
    }
   ],
   "source": [
    "## TRAINING NEURAL NETWORKS with the new dataset\n",
    "train_df = spark.read.format(\"delta\").load(f\"{team_blob_url}/For_Adam_Input_FinalML_10723/\")\n",
    "val_df = spark.read.format(\"delta\").load(f\"{team_blob_url}/For_Adam_Input_FinalML_val_10723/\")\n",
    "\n",
    "DATE_COLS = []\n",
    "# Make sure 'DEP_DEL15' is the last value in this list\n",
    "#'FL_DATE',\n",
    "NUM_FEATURES_COLS = ['HourlyWindGustSpeed', 'DISTANCE', 'MIN_DIST_FROM_HOLIDAY', 'HourlyAltimeterSetting', \n",
    "                     'HourlyDewPointTemperature', 'HourlyDryBulbTemperature',  'HourlyPressureChange', 'previous_flight_delay_status', \n",
    "                     'Outlinks','num_fl_departing_this_hour_ORIGIN', 'num_fl_arriving_this_hour_ORIGIN',  'HourlyPrecipitation', 'HourlyRelativeHumidity', \n",
    "                     'HourlySeaLevelPressure', 'HourlyStationPressure',  'HourlyWetBulbTemperature', 'HourlyWindDirection', 'HourlyWindSpeed', 'total_flights_on_fl_date_origin', \n",
    "                     'temperature_fahrenheit', 'Is_Holiday','flights_delayed_at_current_origin', 'DEP_DEL15']\n",
    "CAT_FEATURES_COLS = ['DAY_OF_MONTH','DAY_OF_WEEK',  'OP_UNIQUE_CARRIER',  'ORIGIN', 'DEST', \n",
    "                     'is_CLR', 'is_FEW', 'is_BKN', 'is_OVC', 'is_SCT', 'is_VV', 'is_X',\n",
    "                     'dep_Hour',  'QUARTER', 'MONTH','origin_type','dest_type'] #'FL_ID',\n",
    "LABEL = 'DEP_DEL15'\n",
    "\n",
    "## Call the function to do Logistic Regression\n",
    "trainandeval_mlp(train_df, val_df)9"
   ]
  },
  {
   "cell_type": "markdown",
   "metadata": {
    "application/vnd.databricks.v1+cell": {
     "cellMetadata": {},
     "inputWidgets": {},
     "nuid": "98082808-9581-4db4-91e6-4656dd3ac0e5",
     "showTitle": false,
     "title": ""
    }
   },
   "source": [
    "## END OF NOTEBOOK"
   ]
  }
 ],
 "metadata": {
  "application/vnd.databricks.v1+notebook": {
   "dashboards": [],
   "language": "python",
   "notebookMetadata": {
    "mostRecentlyExecutedCommandWithImplicitDF": {
     "commandId": 4444148632306088,
     "dataframes": [
      "_sqldf"
     ]
    },
    "pythonIndentUnit": 4
   },
   "notebookName": "DATASCI 261 Final_ML notebook_Part 2",
   "widgets": {}
  }
 },
 "nbformat": 4,
 "nbformat_minor": 0
}
